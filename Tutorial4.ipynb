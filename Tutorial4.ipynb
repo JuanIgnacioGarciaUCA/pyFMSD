{
 "cells": [
  {
   "cell_type": "markdown",
   "metadata": {},
   "source": [
    "---\n",
    " \n",
    "<span style=\"color: #000000; font-family: Lucida Console; font-size: 2em;\">\n",
    "<b>Tutorial de python (bases de datos)</b>\n",
    "</span>\n",
    " \n",
    "---"
   ]
  },
  {
   "cell_type": "markdown",
   "metadata": {
    "ExecuteTime": {
     "end_time": "2016-11-15T20:46:35.216540",
     "start_time": "2016-11-15T20:46:35.212522"
    }
   },
   "source": [
    "# INTRODUCCION A LAS BASES DE DATOS "
   ]
  },
  {
   "cell_type": "markdown",
   "metadata": {
    "ExecuteTime": {
     "end_time": "2016-11-15T20:55:01.863858",
     "start_time": "2016-11-15T20:55:01.859516"
    },
    "heading_collapsed": true
   },
   "source": [
    "## Definiciones básicas"
   ]
  },
  {
   "cell_type": "markdown",
   "metadata": {
    "hidden": true
   },
   "source": [
    "### Procesamiento de Archivos vs Bases de Datos "
   ]
  },
  {
   "cell_type": "markdown",
   "metadata": {
    "hidden": true
   },
   "source": [
    "Archivos:\n",
    "* Datos repetidos. \n",
    "* No se manejan estándares. \n",
    "* Había inconsistencia de datos. \n",
    "* Falta de seguridad en los datos. \n",
    "* No existían aplicaciones de uso general. \tBASES DE DATOS\n",
    "\n",
    "\n",
    "Bases de datos:\n",
    "* Eliminar redundancias. \n",
    "* Poder compartir los datos. \n",
    "* Cumplir normas establecidas. \n",
    "* Mantener integridad y seguridades de datos. \n",
    "* Reducir inconsistencias. "
   ]
  },
  {
   "cell_type": "markdown",
   "metadata": {
    "heading_collapsed": true,
    "hidden": true
   },
   "source": [
    "### __Base de Datos:__"
   ]
  },
  {
   "cell_type": "markdown",
   "metadata": {
    "hidden": true
   },
   "source": [
    "¿Qué es una base de datos?\n",
    "* Es un repositorio en donde guardamos información que podemos almacenar y guardar. \n",
    "* Es un conjunto de tablas y procesos organizados, estructurados, relacionadas entre si, con la finalidad de manipular datos. \n",
    "\n",
    "Más definiciones de Base de Datos\n",
    "* Fondo común de información almacenada en una computadora para que cualquier persona programa autorizado pueda acceder a ella, independientemente de su procedencia del uso que haga."
   ]
  },
  {
   "cell_type": "markdown",
   "metadata": {
    "hidden": true
   },
   "source": [
    "Existen programas denominados sistemas gestores de bases de datos, abreviado __SGBD__, que permiten almacenar y posteriormente acceder a los datos de forma rápida y estructurada."
   ]
  },
  {
   "cell_type": "markdown",
   "metadata": {
    "hidden": true
   },
   "source": [
    "__Componentes:__\n",
    "* Hardware: dispositivo de almacenamiento (en nuestro caso ninguno especial). \n",
    "* Software: DBMS ó Sistema de Gestión de Base de Datos (SGBD). En nuestro caso [sqlite3](https://www.sqlite.org/index.html) (descargar sqlite-tools-win32-x86-XXXXXXX.zip). Otro SGBD es MYSQL.  \n",
    "* Datos almacenados y procesados. \n"
   ]
  },
  {
   "cell_type": "markdown",
   "metadata": {
    "hidden": true
   },
   "source": [
    "__Tipos de usuarios:__\n",
    "* Usuario Final: Persona que usa los datos. \n",
    "* Desarrollador de Aplicaciones: Persona que desarrolla aplicaciones para el sistema en algún lenguaje de programación (que normalmente requerirán algún tipo de librería). \n",
    "* DBA (Administrador de Base de Datos):\n",
    "    * Persona que asegura la integridad, inconsistencia, seguridades de datos. \n",
    "    * Esta se encarga del mantenimiento periódico o diario de la base de datos. \n",
    "    * Interactúan con la base de datos"
   ]
  },
  {
   "cell_type": "markdown",
   "metadata": {
    "heading_collapsed": true,
    "hidden": true
   },
   "source": [
    "### __Modelización de una base de datos__:"
   ]
  },
  {
   "cell_type": "markdown",
   "metadata": {
    "hidden": true
   },
   "source": [
    "Modelización de una base de datos: Tenemos que crear la estructura de una base de datos para almacenar los datos de un problema.\n",
    "* Modelos de datos lógicos: Destacan los modelos ENTIDAD-RELACIÓN y el modelo orientado a objetos. Usaremos el modelo [__ENTIDAD-RELACIÓN__](https://es.wikipedia.org/wiki/Modelo_entidad-relaci%C3%B3n).\n",
    "* Modelos de datos implementables: Usaremos el modelo [__RELACIONAL__](https://es.wikipedia.org/wiki/Modelo_relacional), aunque también están el jerárquico y el modelo en red ([modelos](https://es.wikipedia.org/wiki/Modelo_de_base_de_datos)). El modelo relacional es el modelo que siguen gran cantidad de Sistemas de Bases de Bases como son Oracle, MySQL, Postgresql, Microsoft sql server, sqlite, etc y consta de lo siguiente:\n",
    "    * Definición de tablas para almacenar datos.\n",
    "    * Álgebra Relacional: Operaciones con los datos (entre las tablas)"
   ]
  },
  {
   "cell_type": "markdown",
   "metadata": {
    "hidden": true
   },
   "source": [
    "Del modelo E-R pasaremos al modelo RELACIONAL mediante la conversión a tablas."
   ]
  },
  {
   "cell_type": "markdown",
   "metadata": {
    "heading_collapsed": true
   },
   "source": [
    "## Modelo entidad-relación"
   ]
  },
  {
   "cell_type": "markdown",
   "metadata": {
    "hidden": true
   },
   "source": [
    "El modelo E-R es un mecanismo formal para representar y manipular información de manera general y sistemática. En él cualquier dato o concepto debe ser definido o modelado de manera única, posteriormente se establecerán las conexiones con otros datos."
   ]
  },
  {
   "cell_type": "markdown",
   "metadata": {
    "ExecuteTime": {
     "end_time": "2016-11-15T21:02:04.318395",
     "start_time": "2016-11-15T21:02:04.315186"
    },
    "heading_collapsed": true,
    "hidden": true
   },
   "source": [
    "### Elementos del modelo E-R"
   ]
  },
  {
   "cell_type": "markdown",
   "metadata": {
    "hidden": true
   },
   "source": [
    "#### Entidades"
   ]
  },
  {
   "cell_type": "markdown",
   "metadata": {
    "hidden": true
   },
   "source": [
    "Las entidades son objetos distinguibles de los demás (libro, empleado, departamento, asignatura).\n",
    "\n",
    "Todas las entidades tienen __atributos__ que son las propiedades que caracterizan un conjunto de entidades (dni, nombre, sueldo, etc.).\n",
    "\n",
    "Si uno o varios atributos se usan para identificar a una entidad de manera unívoca a ese conjunto de atributos los llamaremos __clave primaria__ (por ejemplo el dni)."
   ]
  },
  {
   "cell_type": "markdown",
   "metadata": {
    "hidden": true
   },
   "source": [
    "#### Entidades débiles"
   ]
  },
  {
   "cell_type": "markdown",
   "metadata": {
    "hidden": true
   },
   "source": [
    "Son entidades que aún teniendo atributos propios ningún subconjunto de ellos permite identificar unívocamente a ese entidad (no hay clave primaria) y para ello hemos de relacionar esa entidad con otra que llamaremos entidad fuerte (por ejemplo los asientos de un avión con un avión, los movimientos con una cuenta)."
   ]
  },
  {
   "cell_type": "markdown",
   "metadata": {
    "hidden": true
   },
   "source": [
    "#### Asociaciones o relaciones"
   ]
  },
  {
   "cell_type": "markdown",
   "metadata": {
    "hidden": true
   },
   "source": [
    "Conexión semántica entre dos o más conjuntos de entidades (autor escribe libro, empleado trabaja departamento).\n",
    "* Muchos a muchos: libros y autores\n",
    "* Uno a muchos: departamentos y empleados (un empleado no puede estar en varios departamentos), una copia de un libro sólo la puede tener una persona.\n",
    "* Uno a uno: relación estar casado, persona-número de historial.\n",
    "\n",
    "Las relaciones pueden tener atributos por ejemplo trabajador trabaja (fecha de alta) en departamento.\n",
    "Existen relaciones que conectan un conjunto de entidades consigo mismo (por ejemplo empresa trabaja para empresa)."
   ]
  },
  {
   "cell_type": "markdown",
   "metadata": {
    "hidden": true
   },
   "source": [
    "#### Diagramas"
   ]
  },
  {
   "cell_type": "markdown",
   "metadata": {
    "hidden": true
   },
   "source": [
    "Símbolos con los que representamos las entidades, los atributos y las relaciones. Para los diagramas que puedes ver en esta página se ha utilizado la herramienta [dia-sotfware](http://dia-installer.de/). Otra herramienta para la creación de diagramas es [yEd](https://www.yworks.com/yed-live/)."
   ]
  },
  {
   "cell_type": "markdown",
   "metadata": {
    "hidden": true
   },
   "source": [
    "<img  src=\"https://www.dropbox.com/s/rqxkbu13gy7nyzp/Diagrama2.gif?raw=1\"/>"
   ]
  },
  {
   "cell_type": "markdown",
   "metadata": {
    "hidden": true
   },
   "source": [
    "Relaciones y entidades débiles"
   ]
  },
  {
   "cell_type": "markdown",
   "metadata": {
    "hidden": true
   },
   "source": [
    "<img  src=\"https://www.dropbox.com/s/p752dm4zhuh9me6/Diagrama3.gif?raw=1\"/>"
   ]
  },
  {
   "cell_type": "markdown",
   "metadata": {
    "heading_collapsed": true,
    "hidden": true
   },
   "source": [
    "### Otros tipos de elementos"
   ]
  },
  {
   "cell_type": "markdown",
   "metadata": {
    "hidden": true
   },
   "source": [
    "##### Generalización y especialización"
   ]
  },
  {
   "cell_type": "markdown",
   "metadata": {
    "hidden": true
   },
   "source": [
    "<img  src=\"https://www.dropbox.com/s/wkv1cintpy8f5bm/DiagramaGyE.gif?raw=1\"/>"
   ]
  },
  {
   "cell_type": "markdown",
   "metadata": {
    "hidden": true
   },
   "source": [
    "##### Agregación"
   ]
  },
  {
   "cell_type": "markdown",
   "metadata": {
    "hidden": true
   },
   "source": [
    "<img  src=\"https://www.dropbox.com/s/41rwg9aab970i2s/agregacion.gif?raw=1\"/>"
   ]
  },
  {
   "cell_type": "markdown",
   "metadata": {
    "hidden": true
   },
   "source": [
    "\\begin{example}\n",
    "Tenemos `usuarios`, `libros` y `bibliotecarios`. Tenemos una relación `prestamo` entre `usuarios` y `libros` (uno a muchos) y queremos controlar el bibliotecario que entrega cada libro. \n",
    "\\end{example}"
   ]
  },
  {
   "cell_type": "markdown",
   "metadata": {
    "hidden": true
   },
   "source": [
    "##### Relaciones n-arias"
   ]
  },
  {
   "cell_type": "markdown",
   "metadata": {
    "hidden": true
   },
   "source": [
    "<img  src=\"https://www.dropbox.com/s/l70h2ocw69o5vxh/Diagrama1.gif?raw=1\"/>"
   ]
  },
  {
   "cell_type": "markdown",
   "metadata": {
    "hidden": true
   },
   "source": [
    "Estos diagramas hay que saber transformarlos a diagramas en los que solamente aparezcan relaciones entre dos elementos del tipo entidad-entidad, entidad-generalización, generalización-generalización."
   ]
  },
  {
   "cell_type": "markdown",
   "metadata": {
    "heading_collapsed": true
   },
   "source": [
    "## Del modelo E-R al modelo relacional"
   ]
  },
  {
   "cell_type": "markdown",
   "metadata": {
    "hidden": true
   },
   "source": [
    "La única estructura presente en el modelo relacional es la tabla. Vemos como pasar la información de los diagramas anteriores a tablas que contendrán nuestros datos."
   ]
  },
  {
   "cell_type": "markdown",
   "metadata": {
    "hidden": true
   },
   "source": [
    "### Entidades: \n",
    "Paso directo, tenemos una tabla con todos los atributos de la entidad. La clave primaria hace que la tabla no contenga filas repetidas. "
   ]
  },
  {
   "cell_type": "markdown",
   "metadata": {
    "hidden": true
   },
   "source": [
    "### Entidades débiles: \n",
    "La tabla correspondiente contendrá todos los atributos propios más la clave primaria del cnjunto de entidades fuertes del que depende."
   ]
  },
  {
   "cell_type": "markdown",
   "metadata": {
    "hidden": true
   },
   "source": [
    "### Relaciones: \n",
    "La tabla correspondiente tendrá como atributos las claves primarias de los elementos relacionados más los atributos propios de la conexión.\n",
    "* Muchos a muchos: La unión de las claves primarias de las entidades junto con algún atributo de la relación (deenderá de su significado) formará la clave primaria de la tabla obtenida.\n",
    "* Muchos a uno: La clave primaria de la entidad UNO suele ser la clave primaria de la tabla (quizás falte añadir algún atributo de la relación).\n",
    "* Uno a Uno: Cada clave primaria en las entidades es clave primaria en la tabla que obtenemos (solamente se elegirá una de ellas).\n"
   ]
  },
  {
   "cell_type": "markdown",
   "metadata": {
    "hidden": true
   },
   "source": [
    "### Generalización: \n",
    "Para la generalización \n",
    "\n",
    "<img  src=\"https://www.dropbox.com/s/m7n24oikgv4mj9q/esp2.gif?raw=1\"/>\n",
    "\n",
    "tenemos dos opciones.\n",
    "* Podemos crear una tabla para cada una de las entidades. Tendríamos así las tablas EMPLEADO(NRP,NOMBRE, DIRECCIÓN), FUNCIONARIO(NRP,NIVEL, FECHAALTA) y LABORAL(NRP,GRUPO, ESPECIALIDAD).\n",
    "* La entidad superior desaparece y tenemos las tablas FUNCIONARIO(NRP,NOMBRE, DIRECCIÓN, NIVEL, FECHAALTA) y LABORAL(NRP,NOMBRE, DIRECCIÓN,GRUPO,ESPECIALIDAD)."
   ]
  },
  {
   "cell_type": "markdown",
   "metadata": {
    "hidden": true
   },
   "source": [
    "### Agregación: \n",
    "Las agregaciones no se reflejan en tablas aunque cuando intervienen en una relación hay que pensar que su clave primaria es la de la relación contenida en ella."
   ]
  },
  {
   "cell_type": "markdown",
   "metadata": {
    "hidden": true
   },
   "source": [
    "### Relaciones n-arias: \n",
    "En general, estas relaciones se pueden estudiar aplicando las reglas de las relaciones binarias. Vemos el caso de las relaciones ternarias.\n"
   ]
  },
  {
   "cell_type": "markdown",
   "metadata": {
    "hidden": true
   },
   "source": [
    "#### Muchos-muchos-muchos: Se utilizan las claves primarias de las entidades y los atributos de la relación. La tabla en este caso es SUMINISTRO(COD-PROV,COD-PROY,COD-PIE)."
   ]
  },
  {
   "cell_type": "markdown",
   "metadata": {
    "hidden": true
   },
   "source": [
    "<img  src=\"https://www.dropbox.com/s/l70h2ocw69o5vxh/Diagrama1.gif?raw=1\"/>"
   ]
  },
  {
   "cell_type": "markdown",
   "metadata": {
    "hidden": true
   },
   "source": [
    "#### Muchos-muchos-uno: Lo más usual es obtener para este caso la tabla SUM(COD-PIEZA,COD-PROV,COD-PROY)."
   ]
  },
  {
   "cell_type": "markdown",
   "metadata": {
    "hidden": true
   },
   "source": [
    "<img  src=\"https://www.dropbox.com/s/l32dso46tgw6cvt/Diagrama1-1.gif?raw=1\"/>"
   ]
  },
  {
   "cell_type": "markdown",
   "metadata": {
    "ExecuteTime": {
     "end_time": "2016-11-15T22:32:11.249341",
     "start_time": "2016-11-15T22:32:11.245054"
    },
    "hidden": true
   },
   "source": [
    "#### Muchos-uno-uno: \n",
    "Tenemos en este caso hasta tres posibles interpretaciones de la relación. Por ello, para obtener las tablas de este tipo de relación ternaria hemos de expresarla usando relaciones binarias y generalizaciones."
   ]
  },
  {
   "cell_type": "markdown",
   "metadata": {
    "hidden": true
   },
   "source": [
    "<img  src=\"https://www.dropbox.com/s/p21kv17xzz5n33r/Diagrama4.gif?raw=1\"/>"
   ]
  },
  {
   "cell_type": "markdown",
   "metadata": {
    "hidden": true
   },
   "source": [
    "Tenemos las tres interpretaciones siguientes, obteniendo para cada interpretación dos tablas. El par de tablas obtenidas son diferentes según sea la interpretación de nuestra relación."
   ]
  },
  {
   "cell_type": "markdown",
   "metadata": {
    "hidden": true
   },
   "source": [
    "<img  src=\"https://www.dropbox.com/s/61n0cszs180gsc3/Diagrama6.gif?raw=1\"/>"
   ]
  },
  {
   "cell_type": "markdown",
   "metadata": {
    "hidden": true
   },
   "source": [
    "<img  src=\"https://www.dropbox.com/s/syex6hj6y768yc8/Diagrama5.gif?raw=1\"/>"
   ]
  },
  {
   "cell_type": "markdown",
   "metadata": {
    "hidden": true
   },
   "source": [
    "<img  src=\"https://www.dropbox.com/s/ny5xf94t03p4iv6/Diagrama7.gif?raw=1\"/>"
   ]
  },
  {
   "cell_type": "markdown",
   "metadata": {
    "hidden": true
   },
   "source": [
    "#### Uno-Uno-Uno: En este caso obtenemos una sola tabla con las claves de cada una de ellas. Elegiremos a una de las tres como clave de la nueva tabla.\n"
   ]
  },
  {
   "cell_type": "markdown",
   "metadata": {
    "heading_collapsed": true
   },
   "source": [
    "## Ejercicios"
   ]
  },
  {
   "cell_type": "markdown",
   "metadata": {
    "heading_collapsed": true,
    "hidden": true
   },
   "source": [
    "### Ejercicio 1"
   ]
  },
  {
   "cell_type": "markdown",
   "metadata": {
    "hidden": true
   },
   "source": [
    "Se trata de organizar la información relativa a una compañía de seguros de automóvil, donde se mantienen datos acerca de los clientes, los vehículos, las pólizas y los partes de accidente. Tenemos las siguientes restricciones:\n",
    "* Un cliente puede tener asegurado más de un vehículo en la compañía.\n",
    "* Cada vehículo posee una única póliza de seguro que tendrá un precio en función de la cobertura que se haya contratado y de las características del vehículo.\n",
    "* Sobre los siniestros ocurridos deberá conocerse la fecha, el lugar, la causa y la cuantía de los daños ocasionados. Cada tipo de siniestro o accidente (colisión múltiple, adelantamiento indebido, exceso de velocidad, etc.) va identificado por un código.\n",
    "* En un accidente pueden estar involucrados varios vehículos asegurados por la misma compañía."
   ]
  },
  {
   "cell_type": "markdown",
   "metadata": {
    "hidden": true
   },
   "source": [
    "<img  src=\"https://www.dropbox.com/s/2egp18ku0iq55jl/seguros.gif?raw=1\"/>"
   ]
  },
  {
   "cell_type": "markdown",
   "metadata": {
    "hidden": true
   },
   "source": [
    "### Ejercicio 2"
   ]
  },
  {
   "cell_type": "markdown",
   "metadata": {
    "hidden": true
   },
   "source": [
    "Gestión de la información que se manipula en un hospital sobre pacientes, médicos, historias clínicas, ingresos, pruebas, etc. Tenemos la siguiente situación:\n",
    "* Cada paciente tiene asociada una historia clínica única que se genera la primera vez que el paciente visita el hospital y en la cual se van anotando todos sus ingresos.\n",
    "* Las habitaciones pueden tener varias cama, que irán numeradas y serán de un determinado tipo.\n",
    "* Durante un ingreso, el paciente ocupará una misma cama y se le podrán realizar tantas pruebas como sea necesario.\n",
    "* Los distintos tipo de pruebas van codificadas y se realizan con un aparato determinado en una sala determinadas.\n",
    "* Es importante saber cuándo (día y hora) se ha realizado cada una de las pruebas a un paciente y qué especialista la ha llevado a cabo.\n",
    "* Los atributos asociados a cada conjunto de entidades serán los habituales en estos casos."
   ]
  },
  {
   "cell_type": "markdown",
   "metadata": {
    "hidden": true
   },
   "source": [
    "<img  src=\"https://www.dropbox.com/s/uktg2p34i1kq2ce/hospital.gif?raw=1\"/>"
   ]
  },
  {
   "cell_type": "markdown",
   "metadata": {
    "hidden": true
   },
   "source": [
    "### Ejercicio 3"
   ]
  },
  {
   "cell_type": "markdown",
   "metadata": {
    "hidden": true
   },
   "source": [
    "Ejemplo de uso de diagramas con modelo de gestión universitaria: nuestras entidades son departamentos, profesores, asignaturas, grupos, matrículas, alumnos, aulas, etc. \n",
    "* Un profesor pertenece a un solo departamento.\n",
    "* Un profesor puede impartir varios grupos de la misma o diferente asignatura y un grupo ha de ser impartido por al menos un profesor.\n",
    "* Hay grupos de teoría y de prácticas con un máximo de alumnos por grupo.\n",
    "* Los grupos tienen clase a días y horas determinadas.\n",
    "* Los alumnos que se matriculan en una asignatura lo hacen en grupo determinado.\n",
    "* Todo departamento tiene un director."
   ]
  },
  {
   "cell_type": "markdown",
   "metadata": {
    "hidden": true
   },
   "source": [
    "### Ejercicio 4"
   ]
  },
  {
   "cell_type": "markdown",
   "metadata": {
    "hidden": true
   },
   "source": [
    "Disponemos de los siguientes elementos de información: Tarjetas de crédito (identificadas por un número), titulares de dichas tarjetas (de los que conocemos DNI, domicilio y teléfono) y cuentas corrientes (con un código, saldo y fecha de apertura). Las restricciones que tenemos son:\n",
    "* Cada persona puede tener más de una tarjeta.\n",
    "* Cada tarjeta tiene un único titular o propietario.\n",
    "* Cada tarjeta está asociada a una única cuenta.\n",
    "* Podemos cargar más de una tarjeta a una cuenta determinada.\n",
    "* Cada cuenta pertenece a una sola persona.\n",
    "* Una persona puede tener más de una cuenta."
   ]
  },
  {
   "cell_type": "markdown",
   "metadata": {
    "heading_collapsed": true
   },
   "source": [
    "# Modelo de datos relacional\n",
    "[ver definición](https://en.wikipedia.org/wiki/Relational_model)"
   ]
  },
  {
   "cell_type": "markdown",
   "metadata": {
    "hidden": true
   },
   "source": [
    "## Definiciones\n",
    "Las definiciones que vienen a continuación describen de forma general las propiedades que una base de datos relacional ha de tener. También servirán para definir su lenguaje de consultas asociado"
   ]
  },
  {
   "cell_type": "markdown",
   "metadata": {
    "hidden": true
   },
   "source": [
    "\\begin{definition}\n",
    "LLamaremos atributo a cualquier elemento de información del \"mundo\" que vamos a representar.\n",
    "\\end{definition}"
   ]
  },
  {
   "cell_type": "markdown",
   "metadata": {
    "ExecuteTime": {
     "end_time": "2016-11-21T19:01:58.493105",
     "start_time": "2016-11-21T19:01:58.485728"
    },
    "hidden": true
   },
   "source": [
    "\\begin{definition}\n",
    "Llamaremos dominio $D_i$ al conjunto de valores que puede tomar un determinado atributo $A_i$.\n",
    "\\end{definition}"
   ]
  },
  {
   "cell_type": "markdown",
   "metadata": {
    "hidden": true
   },
   "source": [
    "\\begin{definition}\n",
    "Consideremos los atributos $A_i$, $i\\in\\{1,\\ldots,n\\}$ con dominios asociados $D_i$ (no necesariamente distintos). Decimos que $R$ es relación asociada a los atributos $A_1,\\ldots,A_n$ si $R$ es un subconjunto finito del producto cartesiano $D_1\\times\\cdots\\times D_n$.\n",
    "\n",
    "Al conjunto de atributos lo escribiremos de la forma $[A_1,\\ldots,A_n]$ y a los elementos de la $R$ de la forma $t=(x_1,\\ldots,x_n)$.\n",
    "\n",
    "Si queremos solamente obtener los atributo $A_{i_1},\\ldots,A_{i_r}$ de una tupla $t$ escribiremos $t[A_{i_1},\\ldots,A_{i_r}]$.\n",
    "\\end{definition}"
   ]
  },
  {
   "cell_type": "markdown",
   "metadata": {
    "hidden": true
   },
   "source": [
    "La relaciones también son conocidas como las tablas de la base de datos."
   ]
  },
  {
   "cell_type": "markdown",
   "metadata": {
    "hidden": true
   },
   "source": [
    "\\begin{definition}\n",
    "Una base de datos relacional es un conjunto finito de relaciones.\n",
    "\\end{definition}\n"
   ]
  },
  {
   "cell_type": "markdown",
   "metadata": {
    "hidden": true
   },
   "source": [
    "Propiedades de las relaciones:\n",
    "\\begin{itemize}\n",
    "\\item No hay orden en las tuplas.\n",
    "\\item No hay orden en los atributos.\n",
    "\\item Los valores que puede tomar un atributo en una relación son atómicos, en el sentido de que no tiene estructura, son escalares. No hay listas en esos valores por lo que el número de columnas de una tabla (o relación) es fijo.\n",
    "\\item No hay tupla duplicadas en una misma relación.\n",
    "\\end{itemize}\n"
   ]
  },
  {
   "cell_type": "markdown",
   "metadata": {
    "hidden": true
   },
   "source": [
    "\\begin{textboxa}\n",
    "Solamente trabajaremos con relaciones.\n",
    "Las relaciones serán conjuntos cuyos elementos son tuplas.\n",
    "Las distintas posiciones (o valores de sus atributos) de las tuplas se pueden siempre acceder por su nombre.\n",
    "\\end{textboxa}"
   ]
  },
  {
   "cell_type": "markdown",
   "metadata": {
    "hidden": true
   },
   "source": [
    "\\begin{definition}\n",
    "Consideremos una relación $R[A_1,\\ldots,A_n]$ y $CC\\subseteq \\{A_1,\\ldots,A_n\\}$. Diremos que $CC$ es una \\textbf{clave candidata} de $R$ si verifica lo siguiente:\n",
    "\\begin{itemize}\n",
    "\\item Unicidad: para todo $t_1,t_2$ tuplas de $R$ se tiene que $t_1[CC]\\neq t_2[CC]$.\n",
    "\\item Minimalidad: No existe $CC'\\subsetneq CC$ tal que verifique la condición anterior.\n",
    "\\end{itemize}\n",
    "\\end{definition}\n"
   ]
  },
  {
   "cell_type": "markdown",
   "metadata": {
    "hidden": true
   },
   "source": [
    "\\begin{definition}\n",
    "De entre todas las claves candidatas el diseñador elegirá una a la que llamaremos \\textbf{clave primaria}.\n",
    "\\end{definition}\n"
   ]
  },
  {
   "cell_type": "markdown",
   "metadata": {
    "ExecuteTime": {
     "end_time": "2016-11-21T19:05:26.270174",
     "start_time": "2016-11-21T19:05:26.266241"
    },
    "hidden": true
   },
   "source": [
    "\\begin{textboxa}\n",
    "Toda relación tiene siempre una clave primaria. Si hiciera falta se elegirían todos los atributos de nuestra relación.\n",
    "\\end{textboxa}\n"
   ]
  },
  {
   "cell_type": "markdown",
   "metadata": {
    "hidden": true
   },
   "source": [
    "## Reglas de integridad"
   ]
  },
  {
   "cell_type": "markdown",
   "metadata": {
    "hidden": true
   },
   "source": [
    "\\begin{definition}\n",
    "Llamamos \\textbf{regla de integridad} a toda propiedad que ha verificar los elementos de las relaciones para mantener la coherencia de los datos.\n",
    "\\end{definition}\n"
   ]
  },
  {
   "cell_type": "markdown",
   "metadata": {
    "ExecuteTime": {
     "end_time": "2016-11-21T19:07:04.826500",
     "start_time": "2016-11-21T19:07:04.821224"
    },
    "hidden": true
   },
   "source": [
    "\\begin{definition}\n",
    "Decimos que una regla de integridad es \\textbf{específica} si proviene de la semántica del atributo. Son propias de cada base de datos concreta. Por ejemplo si un atributo es EDAD las tupla no pueden tomar valores negativos en ese atributo.\n",
    "\\end{definition}"
   ]
  },
  {
   "cell_type": "markdown",
   "metadata": {
    "hidden": true
   },
   "source": [
    "Las reglas de integridad específicas las daremos al definir las tablas"
   ]
  },
  {
   "cell_type": "markdown",
   "metadata": {
    "hidden": true
   },
   "source": [
    "Existen reglas de integridad genéricas aplicables a toda base de datos.\n"
   ]
  },
  {
   "cell_type": "markdown",
   "metadata": {
    "hidden": true
   },
   "source": [
    "\\begin{definition}\n",
    "\\textbf{Regla de integridad de entidad:} los atributos que forman parte de una clave primaria no pueden tomar valores nulos, ni siquiera parcialmente.\n",
    "\\end{definition}\n"
   ]
  },
  {
   "cell_type": "markdown",
   "metadata": {
    "hidden": true
   },
   "source": [
    "Un valor nulo es un valor desconocido. No se introdujo al meter los datos en la tabla."
   ]
  },
  {
   "cell_type": "markdown",
   "metadata": {
    "hidden": true
   },
   "source": [
    "\\begin{definition}\n",
    "Sea $R[A_1,\\ldots,A_n]$ una relación con clave primaria $CP$, $S[B_1,\\ldots,B_p]$ otra relación y $CE\\subseteq \\{B_1,\\ldots,B_p\\}$ tal que $\\textrm{Cardinal}(CP)=\\textrm{Cardinal}(CE)$ con dominios iguales ($CP$, que es un conjunto de atributos, coincide con $CE$ que también es un conjunto de atributos). Decimos que \\textbf{ $CE$ es clave externa con respecto a $CP$} si se verifica que\n",
    "\\textbf{para toda tupla $t\\in S$,  existe una tupla $t'\\in R $  tal que $t[CE]=t'[CP]$}.\n",
    "\\end{definition}\n"
   ]
  },
  {
   "cell_type": "markdown",
   "metadata": {
    "hidden": true
   },
   "source": [
    "\\begin{textboxa}\n",
    "Si tenemos el atributo DNI en la tabla MATRICULAS, ese DNI ha de aparecer en la tabla ALUMNOS. Tenemos que\n",
    "MATRICULAS.DNI es clave externa con respecto a ALUMNOS.DNI.\n",
    "\\end{textboxa}\n"
   ]
  },
  {
   "cell_type": "markdown",
   "metadata": {
    "hidden": true
   },
   "source": [
    "\\begin{definition}\n",
    "\\textbf{Regla de integridad referencial:} Si una relación incluye una clave externa \\textbf{conectada a una clave primaria}, el valor de la clave externa debe ser igual a un valor ya existente de la clave primaria o completamente nulo (esto último únicamente si el problema lo permite).\n",
    "\n",
    "Si incluimos en una relación $S$ un la clave primaria de otra relación $R$, ese subconjunto de atributos de $S$ se convierte en clave externa con respecto a la clave primaria de $R$.\n",
    "\\end{definition}\n"
   ]
  },
  {
   "cell_type": "markdown",
   "metadata": {
    "hidden": true
   },
   "source": [
    "Mantenimiento de las reglas de integridad de entidad:\n",
    "\\begin{itemize}\n",
    "\\item Mantenimiento de la integridad de entidad: Se debe comprobar que el valor de los atributos que forman parte de una clave primaria no es nulo y que el valor conjunto de ellos no se repite en los procesos de inserción y de actualización.\n",
    "\\end{itemize}"
   ]
  },
  {
   "cell_type": "markdown",
   "metadata": {
    "hidden": true
   },
   "source": [
    "Mantenimiento de integridad referencial:\n",
    "\\begin{itemize}\n",
    "\\item En una inserción se debe comprobar que el valor de una clave externa sea nulo o concuerde con un valor de la clave primaria de la relación a la que hace referencia.\n",
    "\\item En una actualización si se actualiza la clave externa se deben comprobar las condiciones de clave externa. Si se actualiza la clave primaria se deben actualizar en cadena las claves externas que tomen los valores antiguos de dicha clave primaria.\n",
    "\\item En una operación de borrado se deben borrar en cadena las tuplas cuyas claves externas concuerden con la clave primaria de la tupla borrada o poner a nulo en cadena el valor de la clave externa si las demás restricciones de integridad lo permiten.\n",
    "\\end{itemize}"
   ]
  },
  {
   "cell_type": "markdown",
   "metadata": {
    "hidden": true
   },
   "source": [
    "\\begin{textboxa}\n",
    "La integridad de nuestros datos ha de ser mantenida por el sistema de gestión de bases de datos que tengamos, aunque en muchos sistemas esto a veces no sucede.\n",
    "\\end{textboxa}\n"
   ]
  },
  {
   "cell_type": "markdown",
   "metadata": {},
   "source": [
    "# Lenguajes de consultas SQL y bases de datos relacionales\n",
    "[definición SQL](https://en.wikipedia.org/wiki/SQL), [definición Base de Datos Relacional](https://en.wikipedia.org/wiki/Relational_database) "
   ]
  },
  {
   "cell_type": "markdown",
   "metadata": {},
   "source": [
    "Podemos usar distintos programas de gestión de bases de datos. \n",
    "Los dos que usaremos son `sqlite` y `mysql`.\n",
    "Aunque el más completo es `mysql` requiere la instalación de un programa de al unos 200MB en el ordenador. En cambio \n",
    "`sqlite` solo requiere la descarga del programa [`sqlite3.exe`](https://sqlite.org/2016/sqlite-tools-win32-x86-3150100.zip) de menos de 1MB para poder empezar a crear una base de datos y operar en ella.\n"
   ]
  },
  {
   "cell_type": "markdown",
   "metadata": {
    "heading_collapsed": true
   },
   "source": [
    "## Creación de la base de datos"
   ]
  },
  {
   "cell_type": "markdown",
   "metadata": {
    "collapsed": true,
    "hidden": true
   },
   "source": [
    "Ejecutamos el programa `sqlite3.exe`.\n",
    "\n",
    "Algunas de las órdenes que tenemos son:\n",
    "\\begin{itemize}\n",
    "\t\\item .databases\n",
    "\t\\item .tables\n",
    "\t\\item .schema TABLA, donde `TABLA` es una de las tabla de nuestra base de datos.\n",
    "\\end{itemize}\n",
    "Para crear una nueva base de datos hemos de usar el comando\n",
    "\\begin{textboxa}`.open pr1.dat`\\end{textboxa} \n",
    "donde `pr1.dat` es el\n",
    "nombre del fichero en el que quedará almacenada nuestra base de datos. Para eliminar la base de datos anterior basta con eliminar el fichero creado."
   ]
  },
  {
   "cell_type": "markdown",
   "metadata": {
    "heading_collapsed": true
   },
   "source": [
    "## Creación de tablas"
   ]
  },
  {
   "cell_type": "markdown",
   "metadata": {
    "hidden": true
   },
   "source": [
    "Tipos de datos que tenemos:\n",
    "\\begin{itemize}\n",
    "\\item `INT` o `INTEGER`: Entero con signo,\n",
    "\\item `FLOAT`: Número con parte decimal,\n",
    "\\item `CHAR(n)`: Cadena de $n$ caracteres,\n",
    "\\item `VARCHAR(n)`: Cadena de caracteres de longitud variable y con un máximo de $n$ caracteres,\n",
    "\\item `DECIMAL(p,s)`: Número de $p$ dígitos $s$ de las cuales son cifras decimales,\n",
    "\\item `LONG`: Entero largo,\n",
    "\\item `DATE`: Fecha,\n",
    "\\item `TIME`: Hora,\n",
    "\\item `DATETIME`: Fecha-hora.\n",
    "\\end{itemize}"
   ]
  },
  {
   "cell_type": "markdown",
   "metadata": {
    "heading_collapsed": true,
    "hidden": true
   },
   "source": [
    "### Ejemplos"
   ]
  },
  {
   "cell_type": "markdown",
   "metadata": {
    "hidden": true
   },
   "source": [
    "#### Ejemplo sencillo, ordenes `.schema` y `drop`"
   ]
  },
  {
   "cell_type": "markdown",
   "metadata": {
    "hidden": true
   },
   "source": [
    "`\n",
    "CREATE TABLE alumnos(\n",
    "DNI CHAR(8), nomalum VARCHAR(50), fechanac DATE, \n",
    "direccion VARCHAR(40), provincia VARCHAR(20), beca VARCHAR(2)\n",
    ");\n",
    "`"
   ]
  },
  {
   "cell_type": "markdown",
   "metadata": {
    "hidden": true
   },
   "source": [
    "En la línea de comandos podemos ejecutar las siguientes órdendes en el `Windows Command Prompt`:\n",
    "* sqlite3.exe\n",
    "* .open prueba.db\n",
    "* CREATE TABLE alumnos ...\n",
    "* .tables\n",
    "* .schema alumnos"
   ]
  },
  {
   "cell_type": "markdown",
   "metadata": {
    "hidden": true
   },
   "source": [
    "Para eliminar la tabla ejecutamos `drop table alumnos`. La orden `.schema nombre_tabla` nos muestra como se ha definido una tabla."
   ]
  },
  {
   "cell_type": "markdown",
   "metadata": {
    "hidden": true
   },
   "source": [
    "#### Con clave primaria"
   ]
  },
  {
   "cell_type": "markdown",
   "metadata": {
    "hidden": true
   },
   "source": [
    "`\n",
    "CREATE TABLE alumnos (\n",
    "DNI CHAR(8) PRIMARY KEY,\n",
    " nomalum VARCHAR(50), fechanac DATE, direccion VARCHAR(40), provincia VARCHAR(20), beca VARCHAR(2)\n",
    ");\n",
    "`"
   ]
  },
  {
   "cell_type": "markdown",
   "metadata": {
    "hidden": true
   },
   "source": [
    "#### Con clave primaria con varios atributos"
   ]
  },
  {
   "cell_type": "markdown",
   "metadata": {
    "hidden": true
   },
   "source": [
    "`CREATE TABLE matriculas(\n",
    "codasig CHAR(4), codgrupo CHAR(4), tipo CHAR(1), DNI CHAR(8), \n",
    "convocatoria INT, calificacion DECIMAL(3,1),\n",
    "PRIMARY KEY(codasig, codgrupo, tipo, DNI, convocatoria)\n",
    ");`"
   ]
  },
  {
   "cell_type": "markdown",
   "metadata": {
    "hidden": true
   },
   "source": [
    "#### Con control sobre las claves candidatas (control de unicidad)"
   ]
  },
  {
   "cell_type": "markdown",
   "metadata": {
    "hidden": true
   },
   "source": [
    "`CREATE TABLE asignaturas(\n",
    "codasig CHAR(4) PRIMARY KEY,\n",
    "nomasig VARCHAR(30) UNIQUE,\n",
    "creditos DECIMAL(4,1), caracter CHAR(2), curso DECIMAL(1,0)\n",
    ");`"
   ]
  },
  {
   "cell_type": "markdown",
   "metadata": {
    "hidden": true
   },
   "source": [
    "`CREATE TABLE asignaturas(\n",
    "codasig CHAR(4) PRIMARY KEY,\n",
    "nomasig VARCHAR(30),\n",
    "creditos DECIMAL(4,1), caracter CHAR(2), curso DECIMAL(1,0),\n",
    "UNIQUE(nomasig)\n",
    ");`"
   ]
  },
  {
   "cell_type": "markdown",
   "metadata": {
    "hidden": true
   },
   "source": [
    "#### Control de valores nulos"
   ]
  },
  {
   "cell_type": "markdown",
   "metadata": {
    "hidden": true
   },
   "source": [
    "`CREATE TABLE profesores(\n",
    "NRP CHAR(8) PRIMARY KEY NOT NULL, nomprof VARCHAR(35) NOT NULL, \n",
    "categoria CHAR(2) CHECK (categoria IN ('AS','TE','TU','CU')),\n",
    "area VARCHAR(20), coddep CHAR(4)\n",
    ");`"
   ]
  },
  {
   "cell_type": "markdown",
   "metadata": {
    "hidden": true
   },
   "source": [
    "#### Control de rango en columna"
   ]
  },
  {
   "cell_type": "markdown",
   "metadata": {
    "hidden": true
   },
   "source": [
    "`CREATE TABLE aulas(\n",
    "codaula CHAR(4) PRIMARY KEY,\n",
    "capacidad DECIMAL \n",
    "    CHECK ((capacidad>=0)AND(capacidad<=150)AND(capacidad<>0))\n",
    ");`"
   ]
  },
  {
   "cell_type": "markdown",
   "metadata": {
    "hidden": true
   },
   "source": [
    "`CREATE TABLE aulas(\n",
    "codaula CHAR(4) PRIMARY KEY,\n",
    "capacidad DECIMAL CHECK (capacidad BETWEEN 0 AND 150)\n",
    ");`"
   ]
  },
  {
   "cell_type": "markdown",
   "metadata": {
    "hidden": true
   },
   "source": [
    "`CREATE TABLE asignaturas(\n",
    "codasig CHAR(4) PRIMARY KEY,\n",
    "nomasig VARCHAR(30) UNIQUE,\n",
    "creditos DECIMAL(4,1),\n",
    "caracter CHAR(2) CHECK (caracter IN ('tr','ob','op')),\n",
    "curso DECIMAL CHECK (curso BETWEEN 1 AND 5)\n",
    ");`"
   ]
  },
  {
   "cell_type": "markdown",
   "metadata": {
    "hidden": true
   },
   "source": [
    "#### Claves externas:\n",
    "en `sqlite` si vamos a utilizar claves externas hemos de indicarlo previamente con la orden \n",
    "`PRAGMA foreign_keys=ON;`\n",
    "La línea anterior la podemos poner al comienzo de nuestro fichero `.sql`"
   ]
  },
  {
   "cell_type": "markdown",
   "metadata": {
    "hidden": true
   },
   "source": [
    "`CREATE table departamentos(\n",
    "    iddep varchar(5) primary key not null,\n",
    "    nombre varchar(50),\n",
    "    dniDirector char(8),\n",
    "    foreign key (dniDirector) references profesores(NRP)\n",
    ");\n",
    "`"
   ]
  },
  {
   "cell_type": "markdown",
   "metadata": {
    "hidden": true
   },
   "source": [
    "`CREATE TABLE grupos(\n",
    "codgrupo CHAR(4) not null, codasig CHAR(4) not null,\n",
    "tipo CHAR(1) CHECK (tipo IN ('T','P')) not null,\n",
    "NRP CHAR(4),\n",
    "maxal INT CHECK (maxal BETWEEN 10 AND 150),\n",
    "PRIMARY KEY (codasig, codgrupo, tipo),\n",
    "FOREIGN KEY (codasig) REFERENCES asignaturas(codasig),\n",
    "FOREIGN KEY (NRP) REFERENCES profesores(NRP)\n",
    ");`"
   ]
  },
  {
   "cell_type": "markdown",
   "metadata": {
    "hidden": true
   },
   "source": [
    "`CREATE TABLE matriculas(\n",
    "codasig CHAR(4) not null, codgrupo CHAR(4) not null, \n",
    "tipo CHAR(1) not null,\n",
    "DNI CHAR(8) REFERENCES alumnos(DNI) not null,\n",
    "convocatoria DECIMAL not null, \n",
    "calificacion DECIMAL,\n",
    "PRIMARY KEY (codasig, codgrupo, tipo, DNI, convocatoria),\n",
    "FOREIGN KEY(codasig, codgrupo, tipo) REFERENCES grupos(codasig,codgrupo,tipo)\n",
    ");`"
   ]
  },
  {
   "cell_type": "markdown",
   "metadata": {
    "hidden": true
   },
   "source": [
    "#### Mantenimiento de la integridad"
   ]
  },
  {
   "cell_type": "markdown",
   "metadata": {
    "hidden": true
   },
   "source": [
    "`CREATE table departamentos(\n",
    "    iddep varchar(5) primary key not null,\n",
    "    nombre varchar(50),\n",
    "    dniDirector char(8),\n",
    "    foreign key (dniDirector) references profesores(NRP)\n",
    "        on delete set null\n",
    "        on update cascade\n",
    ");\n",
    "`"
   ]
  },
  {
   "cell_type": "markdown",
   "metadata": {
    "hidden": true
   },
   "source": [
    "`CREATE table departamentos(\n",
    "    iddep varchar(5),\n",
    "    nombre varchar(50),\n",
    "    dniDirector char(8),\n",
    "    foreign key (dniDirector) references profesores(NRP)\n",
    "        on delete cascade\n",
    "        on update set null\n",
    ");\n",
    "`"
   ]
  },
  {
   "cell_type": "markdown",
   "metadata": {
    "hidden": true
   },
   "source": [
    "`CREATE TABLE grupos(\n",
    "codgrupo CHAR(4), codasig CHAR(4),\n",
    "tipo CHAR(1) CHECK (tipo IN ('T', 'P')),\n",
    "NRP CHAR(4),\n",
    "maxal INT CHECK (maxal BETWEEN 10 AND 150),\n",
    "PRIMARY KEY (codasig,codgrupo, tipo),\n",
    "FOREIGN KEY (codasig) REFERENCES asignaturas(codasig)\n",
    "    ON DELETE CASCADE\n",
    "    ON UPDATE CASCADE,\n",
    "FOREIGN KEY (NRP) REFERENCES profesores(NRP)\n",
    "    ON DELETE SET NULL\n",
    "    ON UPDATE CASCADE\n",
    ");`"
   ]
  },
  {
   "cell_type": "markdown",
   "metadata": {
    "hidden": true
   },
   "source": [
    "#### Valores por defecto"
   ]
  },
  {
   "cell_type": "markdown",
   "metadata": {
    "hidden": true
   },
   "source": [
    "`CREATE TABLE matriculas(\n",
    "codasig CHAR(4), codgrupo CHAR(4), tipo CHAR(1),\n",
    "DNI CHAR(8) REFERENCES alumnos(DNI),\n",
    "convocatoria DECIMAL DEFAULT 1,\n",
    "calificacion DECIMAL\n",
    "%CONSTRAINT restric-rangocalif\n",
    "CHECK ((calificacion>=0)AND(calificacion<=10)),\n",
    "PRIMARY KEY (codasig,codgrupo,tipo,DNI,convocatoria),\n",
    "FOREIGN KEY(codasig,codgrupo, tipo) REFERENCES grupos (codasig,codgrupo,tipo)\n",
    ");`"
   ]
  },
  {
   "cell_type": "markdown",
   "metadata": {
    "hidden": true
   },
   "source": [
    "En una tabla \n",
    "\n",
    "`create table t1(\n",
    "    a integer,\n",
    "    b integer\n",
    ");`\n",
    "\n",
    "si insertamos de la siguiente forma:\n",
    "`insert into t1(b) values (11);`\n",
    "el valor de a es nulo. Podemos hacer a continuación \n",
    "`select * from t1 where a is null;`\n",
    "para comprobarlo."
   ]
  },
  {
   "cell_type": "markdown",
   "metadata": {
    "hidden": true
   },
   "source": [
    "### Ficheros `.sql`"
   ]
  },
  {
   "cell_type": "markdown",
   "metadata": {
    "hidden": true
   },
   "source": [
    "Es más cómodo crear un fichero `tablas.sql` y poner en él todas las definiciones de nuestras tablas. Si usamos `mysql` la orden a usar es `source tablas.sql`, con `sqlite` la orden es `.read tablas.sql`.\n",
    "De esta forma no tenemos que escribir todas las órdenes en la pantalla y las conservamos todas en un fichero lo cual es útil si estamos haciendo pruebas y queremos alterar las deficiones de las tablas de nuestra base de datos."
   ]
  },
  {
   "cell_type": "markdown",
   "metadata": {
    "heading_collapsed": true
   },
   "source": [
    "## Inserciones, borrados y actualizaciones"
   ]
  },
  {
   "cell_type": "markdown",
   "metadata": {
    "hidden": true
   },
   "source": [
    "### Inserción"
   ]
  },
  {
   "cell_type": "markdown",
   "metadata": {
    "hidden": true
   },
   "source": [
    "* `INSERT INTO id_tabla VALUES (valor1,valor2,...,valorn);`\n",
    "* `INSERT INTO id_tabla(id_columna1,...,id_columnan) VALUES (valor1,valor2,...,valorn);`\n",
    "* Cargar datos de una tabla desde un fichero con `sqlite`: \n",
    "    * `.separator '',''`\n",
    "    * `.import ficheroDatos.txt nombreTabla`"
   ]
  },
  {
   "cell_type": "markdown",
   "metadata": {
    "hidden": true
   },
   "source": [
    "Con las órdenes de inserción podemos e comprobar si nuestra base de datos tiene en cuenta las restricciones impuestas a los atributos de una tabla."
   ]
  },
  {
   "cell_type": "markdown",
   "metadata": {
    "hidden": true
   },
   "source": [
    "### Borrado"
   ]
  },
  {
   "cell_type": "markdown",
   "metadata": {
    "hidden": true
   },
   "source": [
    "`DELETE FROM id_tabla [WHERE condición]}`"
   ]
  },
  {
   "cell_type": "markdown",
   "metadata": {
    "hidden": true
   },
   "source": [
    "Ejemplos:\n",
    "* `DELETE FROM alumnos;`\n",
    "* `DELETE FROM alumnos WHERE beca='SI';`"
   ]
  },
  {
   "cell_type": "markdown",
   "metadata": {
    "hidden": true
   },
   "source": [
    "* `delete from profesores where categoria ='TE' and NRP = 'nrp5';`\n",
    "* `delete from profesores where categoria ='TE' or NRP = 'nrp5';`\n",
    "* `delete from profesores where not categoria ='TE' and NRP = 'nrp5';`\n",
    "* `delete from profesores where not (categoria ='TE' or NRP = 'nrp5') and area is not null;`"
   ]
  },
  {
   "cell_type": "markdown",
   "metadata": {
    "hidden": true
   },
   "source": [
    "### Actualización"
   ]
  },
  {
   "cell_type": "markdown",
   "metadata": {
    "hidden": true
   },
   "source": [
    "`UPDATE id_tabla SET id_columna=expresión [{,id_columna=expresión}] [WHERE condición];`"
   ]
  },
  {
   "cell_type": "markdown",
   "metadata": {
    "hidden": true
   },
   "source": [
    "* `update profesores set nomprof='---',categoria='TU' where categoria='TE';`\n",
    "* `update profesores set nomprof='juan',area='Álgebra' where NRP='nrp4';`\n",
    "* `update profesores set area='Álgebra',nombre='Juan' where categoria='TU';`\n",
    "* `update profesores set area='Álgebra',nomprof='Juan';`"
   ]
  },
  {
   "cell_type": "markdown",
   "metadata": {},
   "source": [
    "## Consultas"
   ]
  },
  {
   "cell_type": "markdown",
   "metadata": {
    "heading_collapsed": true
   },
   "source": [
    "### Consultas sobre una tabla"
   ]
  },
  {
   "cell_type": "markdown",
   "metadata": {
    "hidden": true
   },
   "source": [
    "La forma de estas consultas es:\n",
    "> `select id_col[,id_col] from id_tabla [ where cond];"
   ]
  },
  {
   "cell_type": "markdown",
   "metadata": {
    "hidden": true
   },
   "source": [
    "Ejemplos:\n",
    "* `select NRP,nomprof,categoria from profesores;`\n",
    "* `select * from aulas;`\n",
    "* `select * from profesores where categoria='AS' and (area='fisica' or area='quimica');`\n",
    "* `SELECT * FROM aulas WHERE capacidad BETWEEN 30 AND 50;`\n",
    "* `SELECT nomalum FROM alumnos WHERE provincia IN (’Cadiz’,’Malaga’) AND beca=’SI’;`\n",
    "* `SELECT nomalum FROM alumnos WHERE nomalum<’juan’;`\n",
    "* `SELECT * FROM alumnos WHERE nomalum LIKE ’%j%’;`\n",
    "* `SELECT * FROM alumnos WHERE nomalum LIKE ’__j%’;`\n",
    "* `SELECT * FROM alumnos WHERE nomalum LIKE ’j%’;`\n",
    "* `SELECT * FROM alumnos WHERE nomalum LIKE ’j_%’;`\n",
    "* `SELECT DNI FROM matriculas WHERE codasig IN ('asi1','asi2');`"
   ]
  },
  {
   "cell_type": "markdown",
   "metadata": {
    "hidden": true
   },
   "source": [
    "Podemos pedir que los resultados sean devueltos de forma ordenada:\n",
    "* `SELECT nomalum FROM alumnos WHERE beca=’si’ ORDER BY\n",
    "nomalum;`\n",
    "* `SELECT provincia, nomalum FROM alumnos ORDER BY provincia\n",
    "DESC, nomalum ASC;`"
   ]
  },
  {
   "cell_type": "markdown",
   "metadata": {
    "hidden": true
   },
   "source": [
    "Como se habrá podido observar, al realizar una búsqueda podemos obtener tuplas\n",
    "repetidas. Siempre podemos hacer uso de DISTINCT para la eliminación de tuplas duplicadas:\n",
    "* `SELECT DISTINCT categoria FROM profesores;`"
   ]
  },
  {
   "cell_type": "markdown",
   "metadata": {
    "heading_collapsed": true
   },
   "source": [
    "### Escritura de resultados en un fichero"
   ]
  },
  {
   "cell_type": "markdown",
   "metadata": {
    "hidden": true
   },
   "source": [
    "La escritura en un fichero de los\n",
    "datos de una tabla se puede realizar como muestra la siguiente ordenes:\n",
    "* `.output fichero.txt` (pedimos que las salidas sean enviadas a un fichero)\n",
    "* `.mode csv` (cambiamos el modo de salida)\n",
    "* `select * from alumnos;` (realizamos la búsqueda que queremos guardar)\n",
    "* `.output stdout` (hacemos que la salida vuelva a la pantalla)"
   ]
  },
  {
   "cell_type": "markdown",
   "metadata": {
    "heading_collapsed": true
   },
   "source": [
    "### Consultas sobre varias tablas"
   ]
  },
  {
   "cell_type": "markdown",
   "metadata": {
    "hidden": true
   },
   "source": [
    "Las consultas sobre varias tablas se hacen\n",
    "de la siguiente forma:\n",
    "> `SELECT id_columna[{,id_columna}] FROM\n",
    "id_tabla[{,id_tabla}] [WHERE condicion]`\n",
    "\n",
    "Esta orden realiza el producto cartesiano entre varias tablas y selecciona algunas de sus columnas."
   ]
  },
  {
   "cell_type": "markdown",
   "metadata": {
    "hidden": true
   },
   "source": [
    "Ejemplos:\n",
    "* `select profesores.nrp,grupos.nrp,grupos.codasig from\n",
    "profesores,grupos where grupos.nrp=profesores.nrp;`\n",
    "* `select profesores.nomprof,departamentos.nomdep from\n",
    "profesores,departamentos where profesores.coddep=departamentos.coddep;`\n",
    "* `select * from profesores as p1, profesores as p2;`\n",
    "* `select p1.nomprof,p2.nomprof from profesores as p1, profesores as p2;`\n",
    "* `select p1.nrp,p2.nrp from profesores as p1, profesores as p2 where p1.nrp<>p2.nrp;`"
   ]
  },
  {
   "cell_type": "markdown",
   "metadata": {},
   "source": [
    "### Consultas anidadas"
   ]
  },
  {
   "cell_type": "markdown",
   "metadata": {},
   "source": [
    " Hay ocasiones en las que debemos anidar nuestras consultas (aparece una consulta dentro de otra).\n",
    "Los siguientes ejemplos muestras las opciones más usadas en este tipo de consultas y\n",
    "algunas clausulas que podemos usar en nuestras búsquedas (`IN`, `=`, `EXISTS`, `NOT EXISTS` y alias de tablas). Ejemplos:\n",
    "* `select * from profesores,(select * from aulas where capacidad >40) t2 where t2.capacidad > 50;`\n",
    "\n",
    "* DNI de alumnos matriculas en alguna optativa. \n",
    "> `SELECT DNI FROM matriculas WHERE codasig IN\n",
    "(SELECT codasig FROM asignaturas WHERE caracter=’op’);`\n",
    "\n",
    "* DNI de alumnos matriculados en alguna asignatura que no sea optativa. \n",
    "> `SELECT DISTINCT DNI FROM matriculas WHERE codasig NOT IN\n",
    "(SELECT codasig FROM asignaturas WHERE caracter=’op’);`\n",
    "\n",
    "\n",
    "* DNI de los que se han matricula de al menos una asignatura de primero. \n",
    "> `SELECT DISTINCT DNI FROM matriculas WHERE codasig IN\n",
    "(SELECT codasig FROM asignaturas WHERE curso=1);`\n",
    "\n",
    "* DNI de alumnos de la misma provincia que Ana.\n",
    "> `SELECT DNI FROM alumnos WHERE provincia=(SELECT provincia\n",
    "FROM alumnos WHERE nomalum=’ana’);`\n",
    "\n",
    "* Nombre de las asignaturas en las que se ha matriculado al menos una persona.\n",
    "> `SELECT nomasig FROM asignaturas WHERE EXISTS\n",
    "(SELECT * FROM matriculas where matriculas.codasig=asignaturas.codasig);`\n",
    "\n",
    "* Nombre de las asignaturas en las que se ha matriculado al menos una persona.\n",
    "> `select nomasig from asignaturas where codasig in (select codasig from matriculas);`\n",
    "\n",
    "* DNI de alumnos que no están matriculados de nada.\n",
    "> `select dni from alumnos where not exists (select dni from\n",
    "matriculas where dni=alumnos.dni);`\n",
    "\n",
    "* Tabla con las aulas de menor capacidad.\n",
    ">`select * from aulas a1 where not exists (select * from aulas a2 where a2.capacidad<a1.capacidad);`\n",
    "\n",
    "* DNI de alumnos que no están matriculados de nada.\n",
    "> `select DNI from alumnos where DNI not in(select DNI from matriculas);`\n",
    "\n",
    "\n",
    "* Reunión bajo DNI de la tabla alumnos consigo misma.\n",
    "> `select * from alumnos, alumnos a1 where alumnos.dni=a1.dni;`\n",
    "\n",
    "* Nombre de las asignaturas y créditos de las asignaturas con grupos de cien\n",
    "personas como máximo.\n",
    "> `SELECT nomasig, creditos FROM\n",
    "(SELECT DISTINCT codasig FROM grupos where maxal<=100) a1,\n",
    "asignaturas\n",
    "WHERE a1.codasig=asignaturas.codasig;`\n",
    "\n",
    "* DNI de los que han obtenido la mayor nota en la asignatura de código ’asi1’.\n",
    "> `select dni from matriculas t1 where codasig='asi1' and not exists \n",
    "(select dni from matriculas t2 where codasig='asi1' and t2.calificacion>t1.calificacion);`\n",
    "* DNI de los que se han matricula de al menos una asignatura de tercero.\n",
    "> `select dni from matriculas t1, asignaturas t2 where t1.codasig=t2.codasig and exists\n",
    "(select * from asignaturas t3 where curso=3 and t3.codasig=t2.codasig);`\n",
    "* Tabla con el DNI mínimo según el order lexicográfico.\n",
    "> `select * from alumnos where dni in (select min(dni) from alumnos order by dni);`\n",
    "\n",
    "* Tabla con las aulas de menor capacidad\n",
    "> `select * from aulas where capacidad in (select min(capacidad) from aulas);`"
   ]
  },
  {
   "cell_type": "markdown",
   "metadata": {},
   "source": [
    "Una opción que ayuda bastante al realizar búsquedas es la creación de tablas\n",
    "temporales o vistas. Con la orden `CREATE VIEW` almacenamos las vista (ver [aquí](https://www.sqlite.org/lang_createview.html))\n",
    "\n",
    "> `CREATE TEMP VIEW t1 AS SELECT dni,nomalum FROM alumnos WHERE nomalum<’juan’;`\n",
    "\n",
    ">`SELECT * FROM t1 WHERE DNI <’d’;`\n",
    "\n",
    "Para borrar ejecutamos la orden: \n",
    "> `drop view T1;`\n",
    "\n",
    "Si queremos que la vista no sea temporal basta con quitar no usar la opción `TEMP`."
   ]
  },
  {
   "cell_type": "markdown",
   "metadata": {},
   "source": [
    "### Operadores de conjunto"
   ]
  },
  {
   "cell_type": "markdown",
   "metadata": {},
   "source": [
    "* Unión:\n",
    "`SELECT * FROM alumnos WHERE provincia=’cadiz’ UNION SELECT * FROM alumnos WHERE provincia=’sevilla’;`\n",
    "\n",
    "* Intersección: `select * from alumnos where provincia=’cadiz’\n",
    "intersect select * from alumnos where beca=’si’;`\n",
    "\n",
    "* Diferencia: `select * from alumnos except select * from alumnos\n",
    "where provincia=’sevilla’;`\n",
    "\n",
    "* División: no tenemos esta operación pero con la clausula `EXISTS` podemos\n",
    "realizarla. Ejemplo: \n",
    "> Asignaturas en las que están matriculados todos los alumnos de provincia=’Cadiz’. Fijamos asignaturas.codasig en la primera línea; el resto nos devuelve los\n",
    "alumnos de Cádiz que no están matriculados en esa asignatura.\n",
    ">> `SELECT codasig FROM asignaturas WHERE NOT EXISTS(\n",
    "SELECT * FROM alumnos WHERE provincia=’cadiz’ AND\n",
    "NOT EXISTS(\n",
    "SELECT * FROM matriculas WHERE asignaturas.codasig=matriculas.codasig AND alumnos.DNI=matriculas.DNI ));`\n"
   ]
  },
  {
   "cell_type": "markdown",
   "metadata": {},
   "source": [
    "Si tenemos las tablas:\n",
    "\n",
    "| Taux1 | a1 | a2 |\n",
    "|----|----|----|\n",
    "|    | 1  | a  |\n",
    "|    | 2  | b  |\n",
    "|    | 2  | a  |\n",
    "|    | 1  | b  |\n",
    "|    | 2  | c  |\n",
    "|    | 2  | d  |\n",
    "|    | 1  | e  |\n",
    "\n",
    "|Taux2|a2|\n",
    "|--|--|\n",
    "|  |a |\n",
    "|  |b |\n",
    "|  |c |\n",
    "\n",
    "la división $Taux1 \\div Taux2$ es \n",
    "\n",
    "|Resultado|\n",
    "|---------|\n",
    "|2|\n",
    "\n",
    "Comparado con el ejemplo anterior es como si las asignaturas fuesen $1$ y $2$ y los alumnos de Cádiz $a$, $b$ y $c$. La división podría realizarse con la orden:\n",
    "- `select distinct a1 from Taux1 t1 where not exists \n",
    "(select a2 from Taux2 t2 where not exists (select * from Taux1 t11 where t1.a1=t11.a1 and t2.a2=t11.a2)\n",
    ");`"
   ]
  },
  {
   "cell_type": "markdown",
   "metadata": {},
   "source": [
    "Con las tablas siguiente:\n",
    "* ALUMNOS(DNI,NOMALUM,FECHANAC,DIRECCION,PROVINCIA,BECA)\n",
    "* ASIGNATURAS(CODASIG,NOMASIG,CREDITOS,CARACTER,CURSO)\n",
    "* PROFESORES(NRP,NOMPROF,CATEGORIA,AREA,CODDEP)\n",
    "* DEPARTAMENTO(CODDEP,NOMDEP,DIRECTOR)\n",
    "* AULAS(CODAULA,CAPACIDAD)\n",
    "* GRUPOS(CODASIG,CODGRUPO,TIPO,NRP,MAXAL)\n",
    "* CLASES(CODAULA,DIA,HORA,CODGRUPO,CODASIG,TIPO)\n",
    "* MATRICULAS(CODASIG,CODGRUPO,TIPO,DNI,CALIFICACION,CONVOCATORIA)\n",
    "\n",
    "realiza las siguientes consultas:\n",
    "\n",
    "1. Mostrar los códigos de todas las aulas.\n",
    "2. Profesores con categoría `AS` (asociado).\n",
    "3. Profesores que no sean asociados y cuya área sea `MATEMATICAS` o `FISICA`.\n",
    "4. Alumnos de Cádiz o Málaga con beca.\n",
    "5. Alumnos que precedan por su nombre a `Juan`\n",
    "6. Alumnos cuyo nombre empieze con H.\n",
    "7. Alumnos cuyo nombre contenga una H.\n",
    "8. Alumnos cuyo nombre tenga como segunda letra una H.\n",
    "9. Precio de las asignaturas si el crédito vale 20.55 euros.\n",
    "10. Asignaturas cuyos créditos estén entre 5 y 7.\n",
    "11. Asignaturas de créditos desconocido (NULL).\n",
    "12. Listado con las provincias de los alumnos (usar DISTINCT antes del atributo\n",
    "provincia).\n",
    "13. Nombre y NRP de cada profesor junto con el nombre del departamento al que\n",
    "pertenece.\n",
    "14. Lista de profesores de igual categor´ ıa que su director de departamento.\n",
    "15. Listado con las diferentes categor´ ıas en el profesorado.\n",
    "16. Tabla con N.R.P. y nombre de los profesores del departamento de matemáticas.\n",
    "17. Tabla con nombre del departamento y nombre de su director.\n",
    "18. Tabla con DNI y nombre de los alumnos de la asignatura topolog´ ıa que son\n",
    "becarios.\n",
    "19. Tabla con nombre y DNI de los alumnos que no sean de Cádiz y que estén\n",
    "matriculados en alguna asignatura de primero.\n",
    "20. Tabla con DNI y nombre de los alumnos de edad mayor o igual que la del\n",
    "alumno ”José Fernández Fernández”.\n",
    "21. Lista de profesores que imparten la asignatura topolog´ ıa.\n",
    "22. Lista con las asignaturas optativas de tercero o cuarto.\n",
    "23. Lista de códigos de las asignaturas en las que no se ha matriculado ningún\n",
    "alumno.\n",
    "24. Tabla con nombre y DNI de los alumnos de Sevilla que no estén matriculados\n",
    "de asignaturas obligatorias.\n",
    "25. Listado con las aulas que estén ocupadas todos los d´ ıas de la semana.\n",
    "26. Listado con los departamentos que tengan profesores de todas las categor´ ıas."
   ]
  },
  {
   "cell_type": "markdown",
   "metadata": {},
   "source": [
    "### Claves, fechas, hora y funciones matemáticas y aleatorias (ver [funciones](https://www.tutorialspoint.com/sqlite/sqlite_useful_functions.htm) y [fecha y hora](https://www.tutorialspoint.com/sqlite/sqlite_date_time.htm))"
   ]
  },
  {
   "cell_type": "markdown",
   "metadata": {},
   "source": [
    "* `select codaula,pow(capacidad,2) from aulas;`\n",
    "* `select codaula,capacidad/3. from aulas;`\n",
    "* `select capacidad+1 v from aulas where v>50;`\n",
    "* `SELECT SUM(capacidad) FROM aulas;`\n",
    "* `SELECT AVG(creditos) FROM asignaturas WHERE curso=1;`\n",
    "* `SELECT MAX(creditos), MIN(creditos) FROM asignaturas;`\n",
    "* `SELECT COUNT(*) FROM profesores;`\n",
    "* `SELECT COUNT(DISTINCT nomprof) FROM profesores;`\n",
    "* `SELECT AVG(capacidad) FROM aulas;`"
   ]
  },
  {
   "cell_type": "markdown",
   "metadata": {},
   "source": [
    "* `SELECT DATE();`\n",
    "* `SELECT TIME();`\n",
    "* `SELECT DATETIME();`\n",
    "* Podemos usar las funciones para insertar valores:\n",
    ">`insert into alumnos values (’33’,’manolo’,date(),’ccc’,’malaga’,’si’);`\n",
    "* `SELECT strftime('%s','now');`\n",
    "* `SELECT strftime('%s','now')-strftime('%s','2011-12-17');`"
   ]
  },
  {
   "cell_type": "markdown",
   "metadata": {},
   "source": [
    "* `SELECT LOWER(’aAbBcC’);`\n",
    "* `select lower(provincia) aux1,DNI from alumnos where aux1='cadiz';`\n",
    "* `select provinciA,DNI from alumnos where lower(PROVINCIA)='cadiz';`\n",
    "* De nuevo, puede resultar útil al insertar valores:\n",
    ">`INSERT INTO AULAS VALUES(LOWER(’AUL’),77);`\n",
    "* `SELECT upper(’aAbBcC’);`\n",
    "* `SELECT LENGTH(’01234567890123456789012345678901234567890’);`"
   ]
  },
  {
   "cell_type": "markdown",
   "metadata": {},
   "source": [
    "Varianza:\n",
    "* `create table t1(a integer);`\n",
    "* `insert into t1 values (5),(7),(9);`\n",
    "* `select (avg(a*a)-avg(a)*avg(a)) from t1;`"
   ]
  },
  {
   "cell_type": "markdown",
   "metadata": {},
   "source": [
    "Concatenación de cadenas de caracteres:\n",
    "* `SELECT \"HOLA\"||\"abc\";`\n",
    "* `SELECT date()||' '||time();`"
   ]
  },
  {
   "cell_type": "markdown",
   "metadata": {},
   "source": [
    "### Consultas agrupadas"
   ]
  },
  {
   "cell_type": "markdown",
   "metadata": {},
   "source": [
    "Realiza agrupaciones en las salidas de una consulta. Se puede considerar que divide\n",
    "la consulta en subconsultas. Ejemplos:\n",
    "\n",
    "* `SELECT COUNT(DNI),provincia FROM ALUMNOS GROUP BY provincia;`\n",
    "* `SELECT COUNT(DNI),provincia FROM alumnos GROUP BY provincia ORDER BY provincia ASC;`\n",
    "\n",
    "Con `GROUP BY` podemos usar la opción `HAVING`. Una cláusula `HAVING` es como una cláusula `WHERE`, pero que solo se aplica a los grupos en su totalidad (es decir, a las filas del conjunto de resultados que representa los grupos), a diferencia de la cláusula `WHERE`, que se aplica a filas individuales. `HAVING` puede usarse como un `WHERE` del siguiente modo:\n",
    "* `SELECT * FROM aulas group by codaula having capacidad>=(select ’50’);`\n",
    "* `SELECT * FROM aulas group by codaula having capacidad>=’50’;`\n",
    "* `SELECT COUNT(DNI),lower(provincia) FROM ALUMNOS GROUP BY lower(provincia) having lower(provincia)='cadiz' or lower(provincia)='sevilla';`\n",
    "\n",
    "Las dos búsquedas anteriores coinciden con:\n",
    "* `SELECT * FROM aulas WHERE capacidas>=50;`\n",
    "\n",
    "Obtenemos aquellos alumnos que están matriculados de más de 10 créditos:\n",
    "* `SELECT DNI, SUM(creditos) FROM matriculas, asignaturas WHERE asignaturas.codasig=matriculas.codasig\n",
    "GROUP BY DNI HAVING SUM(creditos)>=10;`\n",
    "* `SELECT DNI, SUM(creditos) scr FROM matriculas, asignaturas WHERE asignaturas.codasig=matriculas.codasig\n",
    "GROUP BY DNI HAVING scr>=10;`\n",
    "\n",
    "La siguiente búsqueda nos da la asignatura con más aprobados (*):\n",
    "* `SELECT codasig FROM matriculas WHERE calificacion>=5\n",
    "GROUP BY codasig HAVING COUNT(*)>= (SELECT count(*) c FROM matriculas WHERE calificacion>=5 GROUP BY codasig order by c desc);`\n",
    "* `select aa from (select a1,count(a2) aa from t1 group by a1) tt;`\n",
    "\n",
    "Podemos agrupar usando varios atributos:\n",
    "* `select count(*),provincia,beca from alumnos group by provincia,beca;`"
   ]
  },
  {
   "cell_type": "markdown",
   "metadata": {},
   "source": [
    "`create temp view taux1 as select a.codasig,dni,creditos from matriculas m,asignaturas a where m.codasig=a.codasig;`\n",
    "\n",
    "`select dni,sum(creditos) sc from taux1 group by dni having sc >= 10;`"
   ]
  },
  {
   "cell_type": "markdown",
   "metadata": {
    "heading_collapsed": true
   },
   "source": [
    "## Ejercicios sobre consultas\n",
    "\n",
    "\n",
    "1. Número de alumnos en cada asignatura y suma total pagada por ella si cada crédito sale a $10.50$ euros.\n",
    "2. Nombre, código y número total de alumnos en los que haya menos de 5 alumnos matriculados.\n",
    "3. Mostrar todas las aulas que tengan una capacidad comprendida entre 30 y 50.\n",
    "4. Nombre de los alumnos procedentes de fuera de la provincia de C\\'{a}diz.\n",
    "5. Nombre de los alumnos con DNI comenzando con 35.\n",
    "6. Alumnos que no est\\'{e}n matriculados de ninguna asignatura optativa.\n",
    "7. Alumnos matriculados en alguna asignatura de cuarto. Mostrar a los alumnos en orden descendente de edad.\n",
    "8. NRP de los profesores que impartan una \\'{u}nica asignatura.\n",
    "9. Alumnos que est\\'{e}n matriculados tan solo en asignaturas de segundo curso.\n",
    "10. Profesores que impartan m\\'{a}s de una asignatura diferente.\n",
    "11. Nombre de los alumnos que hayan obtenido la peor calificaci\\'{o}n en la asignatura con c\\'{o}digo '0001'.\n",
    "12. Aulas donde no se imparte la asignatura de c\\'{o}digo '0001'.\n",
    "13. Profesores que impartan clase a todos los alumnos matriculados en alguna asignatura de cuarto.\n",
    "14. Alumnos que tienen como profesores todos los profesores del departamento con c\\'{o}digo 'dep1'.\n",
    "15. Alumnos de tercero con todas sus calificaciones superiores a 8.\n",
    "16. Listado con provincia y número de alumnos de esa provincia.\n",
    "17. Capacidad media de las aulas donde se imparten asignaturas de primero.\n",
    "18. Media de créditos matriculados y créditos totales según provincia.\n",
    "19. Número total de categorías.\n",
    "20. Departamentos con profesores de todas la categorías.\n",
    "21. Alumnos matriculados de todas las asignaturas de primero.\n",
    "22. Nota media de los alumnos de un profesor\n"
   ]
  },
  {
   "cell_type": "markdown",
   "metadata": {},
   "source": [
    "## Librería `sqlite3`\n",
    "[extraido de zetcode](http://zetcode.com/db/sqlitepythontutorial/)"
   ]
  },
  {
   "cell_type": "markdown",
   "metadata": {},
   "source": [
    "Para usar la librería tenemos que importarla"
   ]
  },
  {
   "cell_type": "code",
   "execution_count": 8,
   "metadata": {
    "ExecuteTime": {
     "end_time": "2021-12-14T10:29:45.688894Z",
     "start_time": "2021-12-14T10:29:45.684897Z"
    }
   },
   "outputs": [],
   "source": [
    "import sqlite3"
   ]
  },
  {
   "cell_type": "markdown",
   "metadata": {},
   "source": [
    "Nos conectamos con la orden `sqlite3.connect`. Es igual que el `.open fichero.datos` que hemos usado con el `sqlite3.exe`"
   ]
  },
  {
   "cell_type": "code",
   "execution_count": 12,
   "metadata": {
    "ExecuteTime": {
     "end_time": "2021-12-14T10:33:32.804471Z",
     "start_time": "2021-12-14T10:33:32.786473Z"
    }
   },
   "outputs": [],
   "source": [
    "con = sqlite3.connect('bd1.datos') # es lo mismo que .open bd2.datos, si existe la lee y si no existe la crea"
   ]
  },
  {
   "cell_type": "markdown",
   "metadata": {},
   "source": [
    "Antes de nada, obtenemos el cursor de la base de datos"
   ]
  },
  {
   "cell_type": "code",
   "execution_count": 13,
   "metadata": {
    "ExecuteTime": {
     "end_time": "2021-12-14T10:33:33.605314Z",
     "start_time": "2021-12-14T10:33:33.595316Z"
    }
   },
   "outputs": [],
   "source": [
    "cur = con.cursor()"
   ]
  },
  {
   "cell_type": "markdown",
   "metadata": {},
   "source": [
    "Con el cursor enviamos órdenes"
   ]
  },
  {
   "cell_type": "code",
   "execution_count": 14,
   "metadata": {
    "ExecuteTime": {
     "end_time": "2021-12-14T10:34:02.291207Z",
     "start_time": "2021-12-14T10:34:02.261208Z"
    }
   },
   "outputs": [
    {
     "data": {
      "text/plain": [
       "<sqlite3.Cursor at 0x20463f75110>"
      ]
     },
     "execution_count": 14,
     "metadata": {},
     "output_type": "execute_result"
    }
   ],
   "source": [
    "cur.execute('create table t1 (dni integer primary key, nombre varchar(20) )')"
   ]
  },
  {
   "cell_type": "markdown",
   "metadata": {},
   "source": [
    "Para terminar cerramos la conexión"
   ]
  },
  {
   "cell_type": "code",
   "execution_count": 15,
   "metadata": {
    "ExecuteTime": {
     "end_time": "2021-12-14T10:34:06.202555Z",
     "start_time": "2021-12-14T10:34:06.188520Z"
    }
   },
   "outputs": [],
   "source": [
    "con.close() #cerrar bd2.datos"
   ]
  },
  {
   "cell_type": "markdown",
   "metadata": {},
   "source": [
    "Ahora, todo junto "
   ]
  },
  {
   "cell_type": "code",
   "execution_count": 17,
   "metadata": {
    "ExecuteTime": {
     "end_time": "2021-12-14T10:34:50.561000Z",
     "start_time": "2021-12-14T10:34:50.540002Z"
    }
   },
   "outputs": [],
   "source": [
    "con = sqlite3.connect('test3.datos') # es lo mismo que .open test.datos\n",
    "cur = con.cursor()\n",
    "cur.execute('drop table if exists t1')\n",
    "cur.execute('create table t1 (dni integer primary key, nombre varchar(20) )')\n",
    "con.close()"
   ]
  },
  {
   "cell_type": "markdown",
   "metadata": {},
   "source": [
    "Para insertar es necesario usar la orden `con.commit()`"
   ]
  },
  {
   "cell_type": "code",
   "execution_count": 18,
   "metadata": {
    "ExecuteTime": {
     "end_time": "2021-12-14T10:35:32.530805Z",
     "start_time": "2021-12-14T10:35:32.516806Z"
    }
   },
   "outputs": [],
   "source": [
    "con = sqlite3.connect('test3.datos')\n",
    "cur = con.cursor()\n",
    "cur.execute(\"insert into t1 values(222,'juan1'),(2344444,'pepe1')\")\n",
    "cur.execute(\"insert into t1 values(111111,'antonio'),(777,'jose')\")\n",
    "\n",
    "con.commit() #es necesario si insertamos\n",
    "con.close()"
   ]
  },
  {
   "cell_type": "markdown",
   "metadata": {},
   "source": [
    "Vemos ahora como hacer una selección. Se utiliza la orden `cur.fetchall()` y nos devuelve una lista con los resultados"
   ]
  },
  {
   "cell_type": "code",
   "execution_count": 41,
   "metadata": {
    "ExecuteTime": {
     "end_time": "2021-12-14T10:45:55.880203Z",
     "start_time": "2021-12-14T10:45:55.874173Z"
    }
   },
   "outputs": [
    {
     "name": "stdout",
     "output_type": "stream",
     "text": [
      "[(222, 'juan1'), (777, 'jose'), (111111, 'antonio'), (2344444, 'pepe1')]\n"
     ]
    }
   ],
   "source": [
    "con = sqlite3.connect('test3.datos')\n",
    "cur = con.cursor()\n",
    "\n",
    "cur.execute(\"select * from t1\")\n",
    "laux=cur.fetchall()\n",
    "con.close()\n",
    "print(laux)"
   ]
  },
  {
   "cell_type": "code",
   "execution_count": 42,
   "metadata": {
    "ExecuteTime": {
     "end_time": "2021-12-14T10:45:56.495253Z",
     "start_time": "2021-12-14T10:45:56.483256Z"
    }
   },
   "outputs": [
    {
     "data": {
      "text/plain": [
       "[222, 777, 111111, 2344444]"
      ]
     },
     "execution_count": 42,
     "metadata": {},
     "output_type": "execute_result"
    }
   ],
   "source": [
    "dnis=[x[0] for x in laux]\n",
    "dnis"
   ]
  },
  {
   "cell_type": "code",
   "execution_count": 45,
   "metadata": {
    "ExecuteTime": {
     "end_time": "2021-12-14T10:46:52.646021Z",
     "start_time": "2021-12-14T10:46:52.637979Z"
    }
   },
   "outputs": [
    {
     "name": "stdout",
     "output_type": "stream",
     "text": [
      "La búsqueda es: \"select * from t1 where dni='222' or dni='111111'\";\n",
      "[(222, 'juan1'), (111111, 'antonio')]\n"
     ]
    }
   ],
   "source": [
    "q=\"select * from t1 where dni='{1}' or dni='{0}'\".format(dnis[2],dnis[0])\n",
    "print(\"La búsqueda es: \\\"{0}\\\";\".format(q))\n",
    "\n",
    "con = sqlite3.connect('test3.datos')\n",
    "cur = con.cursor()\n",
    "\n",
    "cur.execute(q)\n",
    "laux1=cur.fetchall()\n",
    "con.close()\n",
    "print(laux1)"
   ]
  },
  {
   "cell_type": "markdown",
   "metadata": {
    "heading_collapsed": true
   },
   "source": [
    "### Más código (con lo anterior es suficiente)"
   ]
  },
  {
   "cell_type": "code",
   "execution_count": 36,
   "metadata": {
    "ExecuteTime": {
     "end_time": "2019-12-17T12:34:51.948138Z",
     "start_time": "2019-12-17T12:34:51.942154Z"
    },
    "hidden": true
   },
   "outputs": [
    {
     "name": "stdout",
     "output_type": "stream",
     "text": [
      "1 - a\n",
      "2 - b\n",
      "3 - c\n"
     ]
    }
   ],
   "source": [
    "l1=[(1,'a'),(2,'b'),(3,'c')]\n",
    "\n",
    "for x,y in l1:\n",
    "    print(x,'-',y)"
   ]
  },
  {
   "cell_type": "code",
   "execution_count": 38,
   "metadata": {
    "ExecuteTime": {
     "end_time": "2019-12-17T12:36:26.974049Z",
     "start_time": "2019-12-17T12:36:26.968512Z"
    },
    "hidden": true
   },
   "outputs": [
    {
     "data": {
      "text/plain": [
       "'1111AAAA'"
      ]
     },
     "execution_count": 38,
     "metadata": {},
     "output_type": "execute_result"
    }
   ],
   "source": [
    "x=1111\n",
    "a='AAAA'\n",
    "str(x)+a"
   ]
  },
  {
   "cell_type": "code",
   "execution_count": 41,
   "metadata": {
    "ExecuteTime": {
     "end_time": "2019-12-17T12:40:29.526597Z",
     "start_time": "2019-12-17T12:40:29.511639Z"
    },
    "hidden": true
   },
   "outputs": [
    {
     "name": "stdout",
     "output_type": "stream",
     "text": [
      "insert into t1 values( 1 ,'a')\n",
      "insert into t1 values( 2 ,'b')\n",
      "insert into t1 values( 3 ,'c')\n"
     ]
    }
   ],
   "source": [
    "con = sqlite3.connect('test3.datos')\n",
    "cur = con.cursor()\n",
    "\n",
    "for x,y in l1:\n",
    "    insercion=\"insert into t1 values( %d ,'%s')\" % (x,y)\n",
    "    print(insercion)\n",
    "    cur.execute(insercion)\n",
    "con.commit()\n",
    "\n",
    "con.close()"
   ]
  },
  {
   "cell_type": "code",
   "execution_count": 43,
   "metadata": {
    "ExecuteTime": {
     "end_time": "2019-12-17T12:44:16.795331Z",
     "start_time": "2019-12-17T12:44:16.785361Z"
    },
    "hidden": true
   },
   "outputs": [
    {
     "name": "stdout",
     "output_type": "stream",
     "text": [
      "[(2, 'b'), (222, 'juan1'), (2344444, 'pepe1')]\n",
      "2 - b\n",
      "222 - juan1\n",
      "2344444 - pepe1\n"
     ]
    }
   ],
   "source": [
    "con = sqlite3.connect('test3.datos')\n",
    "cur = con.cursor()\n",
    "cur.execute(\"select * from t1 where dni like '%2%'\")\n",
    "data = cur.fetchall()\n",
    "print(data)\n",
    "con.close()\n",
    "\n",
    "for x,y in data:\n",
    "    print(x,'-',y)"
   ]
  },
  {
   "cell_type": "code",
   "execution_count": 48,
   "metadata": {
    "ExecuteTime": {
     "end_time": "2019-12-17T12:55:54.135267Z",
     "start_time": "2019-12-17T12:55:54.059501Z"
    },
    "hidden": true
   },
   "outputs": [],
   "source": [
    "con = sqlite3.connect('test3.datos')\n",
    "cur = con.cursor()\n",
    "cur.execute(\"drop table t1\")\n",
    "con.close()"
   ]
  },
  {
   "cell_type": "code",
   "execution_count": 46,
   "metadata": {
    "ExecuteTime": {
     "end_time": "2019-12-17T12:55:00.744712Z",
     "start_time": "2019-12-17T12:55:00.732263Z"
    },
    "hidden": true
   },
   "outputs": [],
   "source": [
    "con = sqlite3.connect('test3.datos')\n",
    "cur = con.cursor()\n",
    "cur.execute(\"delete from t1 where dni=222\")\n",
    "con.commit()\n",
    "con.close()"
   ]
  },
  {
   "cell_type": "code",
   "execution_count": 26,
   "metadata": {
    "ExecuteTime": {
     "end_time": "2019-01-09T12:44:26.757674Z",
     "start_time": "2019-01-09T12:44:26.749694Z"
    },
    "hidden": true
   },
   "outputs": [
    {
     "data": {
      "text/plain": [
       "\"insert into t1 values(7777,'jose')\""
      ]
     },
     "execution_count": 26,
     "metadata": {},
     "output_type": "execute_result"
    }
   ],
   "source": [
    "dni,nombre=7777,\"jose\"\n",
    "\"insert into t1 values(\"+str(dni)+\",'\"+nombre+\"')\""
   ]
  },
  {
   "cell_type": "code",
   "execution_count": 2,
   "metadata": {
    "ExecuteTime": {
     "end_time": "2019-12-17T13:08:32.731647Z",
     "start_time": "2019-12-17T13:08:32.726625Z"
    },
    "hidden": true
   },
   "outputs": [],
   "source": [
    "def insertar(dni,nombre):\n",
    "    con = sqlite3.connect('test3.datos')\n",
    "    cur = con.cursor()\n",
    "    cur.execute( \"insert into t1 values(%d,'%s')\" % (dni,nombre) )\n",
    "    con.commit() #es necesario si insertamos\n",
    "    con.close()"
   ]
  },
  {
   "cell_type": "code",
   "execution_count": 54,
   "metadata": {
    "ExecuteTime": {
     "end_time": "2019-12-17T13:04:16.921640Z",
     "start_time": "2019-12-17T13:04:16.910668Z"
    },
    "hidden": true
   },
   "outputs": [],
   "source": [
    "insertar(22,'b2')"
   ]
  },
  {
   "cell_type": "code",
   "execution_count": null,
   "metadata": {
    "hidden": true
   },
   "outputs": [],
   "source": [
    "def insertar1(dni,nombre,cur):\n",
    "    cur.execute( \"insert into t1 values(%d,'%s')\" % (dni,nombre) )\n",
    "    con.commit() #es necesario si insertamos"
   ]
  },
  {
   "cell_type": "code",
   "execution_count": 29,
   "metadata": {
    "ExecuteTime": {
     "end_time": "2019-01-09T12:51:34.244665Z",
     "start_time": "2019-01-09T12:51:34.238681Z"
    },
    "hidden": true
   },
   "outputs": [
    {
     "data": {
      "text/plain": [
       "'select * from t1 where dni=123'"
      ]
     },
     "execution_count": 29,
     "metadata": {},
     "output_type": "execute_result"
    }
   ],
   "source": [
    "dni=123\n",
    "\"select * from t1 where dni=\"+str(dni)"
   ]
  },
  {
   "cell_type": "code",
   "execution_count": 3,
   "metadata": {
    "ExecuteTime": {
     "end_time": "2019-12-17T13:08:39.069509Z",
     "start_time": "2019-12-17T13:08:39.063469Z"
    },
    "hidden": true
   },
   "outputs": [],
   "source": [
    "def buscar(dni):\n",
    "    con = sqlite3.connect('test3.datos')\n",
    "    cur = con.cursor()\n",
    "    cur.execute(\"select * from t1 where dni=%d\" % (dni,) )\n",
    "    data = cur.fetchall()\n",
    "    #print(data)\n",
    "    con.close()\n",
    "    return data"
   ]
  },
  {
   "cell_type": "code",
   "execution_count": null,
   "metadata": {
    "ExecuteTime": {
     "start_time": "2019-12-17T13:08:09.085Z"
    },
    "hidden": true
   },
   "outputs": [],
   "source": [
    "buscar(234)"
   ]
  },
  {
   "cell_type": "code",
   "execution_count": 37,
   "metadata": {
    "ExecuteTime": {
     "end_time": "2019-01-09T12:57:16.818273Z",
     "start_time": "2019-01-09T12:57:16.811267Z"
    },
    "hidden": true
   },
   "outputs": [
    {
     "name": "stdout",
     "output_type": "stream",
     "text": [
      "[(222, 'juan1')]\n"
     ]
    },
    {
     "data": {
      "text/plain": [
       "222"
      ]
     },
     "execution_count": 37,
     "metadata": {},
     "output_type": "execute_result"
    }
   ],
   "source": [
    "data=buscar(222)\n",
    "data[0][0]"
   ]
  },
  {
   "cell_type": "code",
   "execution_count": 6,
   "metadata": {
    "ExecuteTime": {
     "end_time": "2019-12-17T13:10:22.314983Z",
     "start_time": "2019-12-17T13:09:43.357867Z"
    },
    "hidden": true
   },
   "outputs": [
    {
     "name": "stdout",
     "output_type": "stream",
     "text": [
      "\n",
      "1.- Insertar dni,nombre\n",
      "2.- Buscar por dni\n",
      "3.- Salir\n",
      "Opcion: 2\n",
      "\n",
      "DNI a buscar:77\n",
      "77 es el dni de ddd\n",
      "\n",
      "1.- Insertar dni,nombre\n",
      "2.- Buscar por dni\n",
      "3.- Salir\n",
      "Opcion: 3\n",
      "\n"
     ]
    }
   ],
   "source": [
    "opcion=\"\"\n",
    "while opcion!=\"3\":\n",
    "    print(\"\\n1.- Insertar dni,nombre\")\n",
    "    print(\"2.- Buscar por dni\")\n",
    "    print(\"3.- Salir\")\n",
    "    opcion=input(\"Opcion: \")\n",
    "    print()\n",
    "    if(opcion==\"1\"):\n",
    "        try: \n",
    "            dni=int(input(\"DNI: \"))\n",
    "            nombre=input(\"Nombre: \")\n",
    "            insertar(dni,nombre)\n",
    "        except:\n",
    "            print(\"La próxima vez inserta un entero\")\n",
    "    elif(opcion==\"2\"):\n",
    "        dni=int(input(\"DNI a buscar:\"))\n",
    "        data=buscar(dni)\n",
    "        if len(data)==0:\n",
    "            print(\"No hay personas con ese dni\")\n",
    "        else:\n",
    "            print(str(data[0][0])+\" es el dni de \"+data[0][1])\n",
    "    elif(opcion==\"3\"):\n",
    "        pass\n"
   ]
  },
  {
   "cell_type": "code",
   "execution_count": null,
   "metadata": {
    "ExecuteTime": {
     "start_time": "2019-12-17T13:07:29.703Z"
    },
    "hidden": true
   },
   "outputs": [],
   "source": [
    "for x in data:\n",
    "    print(x[0],x[1])"
   ]
  },
  {
   "cell_type": "markdown",
   "metadata": {
    "hidden": true
   },
   "source": [
    "Vemos la versión de la librería"
   ]
  },
  {
   "cell_type": "code",
   "execution_count": 15,
   "metadata": {
    "ExecuteTime": {
     "end_time": "2019-12-17T00:22:25.496946Z",
     "start_time": "2019-12-17T00:22:25.483322Z"
    },
    "hidden": true
   },
   "outputs": [
    {
     "data": {
      "text/plain": [
       "'2.6.0'"
      ]
     },
     "execution_count": 15,
     "metadata": {},
     "output_type": "execute_result"
    }
   ],
   "source": [
    "sqlite3.version"
   ]
  },
  {
   "cell_type": "code",
   "execution_count": 16,
   "metadata": {
    "ExecuteTime": {
     "end_time": "2019-12-17T00:22:27.053156Z",
     "start_time": "2019-12-17T00:22:27.047176Z"
    },
    "hidden": true
   },
   "outputs": [
    {
     "data": {
      "text/plain": [
       "'3.28.0'"
      ]
     },
     "execution_count": 16,
     "metadata": {},
     "output_type": "execute_result"
    }
   ],
   "source": [
    "sqlite3.sqlite_version"
   ]
  },
  {
   "cell_type": "markdown",
   "metadata": {
    "hidden": true
   },
   "source": [
    "Podemos ejecutar la siguiente orden para ver la versión usada en un fichero que guarda una base de datos con la siguiente orden. Podemos probar a ejecutar la orden `SELECT SQLITE_VERSION()` desde el programa `sqlite3.exe` y ver si devuelve o no el mismo resultado"
   ]
  },
  {
   "cell_type": "code",
   "execution_count": null,
   "metadata": {
    "hidden": true
   },
   "outputs": [],
   "source": []
  },
  {
   "cell_type": "code",
   "execution_count": 50,
   "metadata": {
    "ExecuteTime": {
     "end_time": "2017-12-19T12:54:39.440094Z",
     "start_time": "2017-12-19T12:54:39.420037Z"
    },
    "hidden": true
   },
   "outputs": [
    {
     "name": "stdout",
     "output_type": "stream",
     "text": [
      "SQLite version: [('3.8.11',)]\n"
     ]
    }
   ],
   "source": [
    "try:\n",
    "    con = sqlite3.connect('test.db')\n",
    "    cur = con.cursor()\n",
    "    cur.execute('SELECT SQLITE_VERSION()')\n",
    "    data = cur.fetchall()\n",
    "    print(\"SQLite version: %s\" % data )\n",
    "except sqlite3.Error as e:\n",
    "    print(\"Error %s:\" % e.args[0])\n",
    "finally:    \n",
    "    if con:\n",
    "        con.close()"
   ]
  },
  {
   "cell_type": "markdown",
   "metadata": {
    "hidden": true
   },
   "source": [
    "Otra forma de realizar lo anterior."
   ]
  },
  {
   "cell_type": "code",
   "execution_count": 51,
   "metadata": {
    "ExecuteTime": {
     "end_time": "2017-12-19T12:55:55.426740Z",
     "start_time": "2017-12-19T12:55:55.415710Z"
    },
    "hidden": true
   },
   "outputs": [
    {
     "name": "stdout",
     "output_type": "stream",
     "text": [
      "SQLite version: 2017-12-19 12:55:55\n"
     ]
    }
   ],
   "source": [
    "con = sqlite3.connect('test.db')\n",
    "with con:\n",
    "    cur = con.cursor()    \n",
    "    #cur.execute('SELECT SQLITE_VERSION()')\n",
    "    cur.execute('select datetime()')\n",
    "    data = cur.fetchone()\n",
    "    print(\"SQLite version: %s\" % data)\n",
    "    \n",
    "con.close()"
   ]
  },
  {
   "cell_type": "markdown",
   "metadata": {
    "hidden": true
   },
   "source": [
    "Podemos crear tablas del siguiente modo"
   ]
  },
  {
   "cell_type": "code",
   "execution_count": 53,
   "metadata": {
    "ExecuteTime": {
     "end_time": "2017-12-19T12:57:28.450301Z",
     "start_time": "2017-12-19T12:57:28.393644Z"
    },
    "hidden": true
   },
   "outputs": [],
   "source": [
    "con = sqlite3.connect('test.db')\n",
    "with con:\n",
    "    cur = con.cursor()    \n",
    "    cur.execute(\"DROP TABLE if exists Cars\")\n",
    "    cur.execute(\"CREATE TABLE Cars(Id INT, Name TEXT, Price INT)\")\n",
    "    cur.execute(\"INSERT INTO Cars VALUES(1,'Audi',52642)\")\n",
    "    cur.execute(\"INSERT INTO Cars VALUES(2,'Mercedes',57127)\")\n",
    "    cur.execute(\"INSERT INTO Cars VALUES(3,'Skoda',9000)\")\n",
    "    cur.execute(\"INSERT INTO Cars VALUES(4,'Volvo',29000)\")\n",
    "    cur.execute(\"INSERT INTO Cars VALUES(5,'Bentley',350000)\")\n",
    "    cur.execute(\"INSERT INTO Cars VALUES(6,'Citroen',21000)\")\n",
    "    cur.execute(\"INSERT INTO Cars VALUES(7,'Hummer',41400)\")\n",
    "    cur.execute(\"INSERT INTO Cars VALUES(8,'Volkswagen',21600)\")\n",
    "\n",
    "con.close()"
   ]
  },
  {
   "cell_type": "markdown",
   "metadata": {
    "hidden": true
   },
   "source": [
    "Otra forma de hacer lo anterior es la siguiente"
   ]
  },
  {
   "cell_type": "code",
   "execution_count": 19,
   "metadata": {
    "ExecuteTime": {
     "end_time": "2017-12-19T06:27:58.823192Z",
     "start_time": "2017-12-19T06:27:58.746459Z"
    },
    "hidden": true
   },
   "outputs": [],
   "source": [
    "cars = (\n",
    "    (1, 'Audi', 52642),\n",
    "    (2, 'Mercedes', 57127),\n",
    "    (3, 'Skoda', 9000),\n",
    "    (4, 'Volvo', 29000),\n",
    "    (5, 'Bentley', 350000),\n",
    "    (6, 'Hummer', 41400),\n",
    "    (7, 'Volkswagen', 21600)\n",
    ")\n",
    "con = sqlite3.connect('test.db')\n",
    "with con:\n",
    "    cur = con.cursor()    \n",
    "    cur.execute(\"DROP TABLE IF EXISTS Cars\")\n",
    "    cur.execute(\"CREATE TABLE Cars(Id INT, Name TEXT, Price INT)\")\n",
    "    cur.executemany(\"INSERT INTO Cars VALUES(?, ?, ?)\", cars)\n",
    "con.close()"
   ]
  },
  {
   "cell_type": "markdown",
   "metadata": {
    "hidden": true
   },
   "source": [
    "y otra más"
   ]
  },
  {
   "cell_type": "code",
   "execution_count": 35,
   "metadata": {
    "ExecuteTime": {
     "end_time": "2017-12-19T06:39:20.296462Z",
     "start_time": "2017-12-19T06:39:20.130476Z"
    },
    "hidden": true
   },
   "outputs": [],
   "source": [
    "try:\n",
    "    con = sqlite3.connect('test.db')\n",
    "    cur = con.cursor()  \n",
    "    cur.executescript(\"\"\"\n",
    "        DROP TABLE IF EXISTS Cars;\n",
    "        CREATE TABLE Cars(Id INT, Name TEXT, Price INT);\n",
    "        INSERT INTO Cars VALUES(1,'Audi',52642);\n",
    "        INSERT INTO Cars VALUES(2,'Mercedes1',57127);\n",
    "        INSERT INTO Cars VALUES(3,'Skoda',9000);\n",
    "        INSERT INTO Cars VALUES(4,'Volvo',29000);\n",
    "        INSERT INTO Cars VALUES(5,'Bentley',350000);\n",
    "        INSERT INTO Cars VALUES(6,'Citroen',21000);\n",
    "        INSERT INTO Cars VALUES(7,'Hummer',41400);\n",
    "        INSERT INTO Cars VALUES(8,'Volkswagen1',21600);\n",
    "        \"\"\")\n",
    "    #con.commit()\n",
    "except sqlite3.Error as e:\n",
    "    if con:\n",
    "        con.rollback()\n",
    "    print(\"Error %s:\" % e.args[0])\n",
    "    sys.exit(1)\n",
    "finally:\n",
    "    if con:\n",
    "        con.close() "
   ]
  },
  {
   "cell_type": "markdown",
   "metadata": {
    "hidden": true
   },
   "source": [
    "Para obtener el resultado de una búsqueda usamos el método `cur.fetchall`"
   ]
  },
  {
   "cell_type": "code",
   "execution_count": 54,
   "metadata": {
    "ExecuteTime": {
     "end_time": "2017-12-19T12:58:57.020063Z",
     "start_time": "2017-12-19T12:58:56.999505Z"
    },
    "hidden": true
   },
   "outputs": [
    {
     "name": "stdout",
     "output_type": "stream",
     "text": [
      "1 Audi 52642 <class 'tuple'>\n",
      "2 Mercedes 57127 <class 'tuple'>\n",
      "3 Skoda 9000 <class 'tuple'>\n",
      "4 Volvo 29000 <class 'tuple'>\n",
      "5 Bentley 350000 <class 'tuple'>\n",
      "6 Citroen 21000 <class 'tuple'>\n",
      "7 Hummer 41400 <class 'tuple'>\n",
      "8 Volkswagen 21600 <class 'tuple'>\n"
     ]
    }
   ],
   "source": [
    "con = sqlite3.connect('test.db')\n",
    "with con:    \n",
    "    cur = con.cursor()    \n",
    "    cur.execute(\"SELECT * FROM Cars\")\n",
    "    rows = cur.fetchall()\n",
    "    for row in rows:\n",
    "        print(row[0],row[1],row[2],type(row))\n",
    "        #print (row[\"Id\"], row[\"Name\"], row[\"Price\"])\n",
    "con.close()"
   ]
  },
  {
   "cell_type": "code",
   "execution_count": 55,
   "metadata": {
    "ExecuteTime": {
     "end_time": "2017-12-19T12:59:24.277944Z",
     "start_time": "2017-12-19T12:59:24.269922Z"
    },
    "hidden": true
   },
   "outputs": [
    {
     "data": {
      "text/plain": [
       "[(1, 'Audi', 52642),\n",
       " (2, 'Mercedes', 57127),\n",
       " (3, 'Skoda', 9000),\n",
       " (4, 'Volvo', 29000),\n",
       " (5, 'Bentley', 350000),\n",
       " (6, 'Citroen', 21000),\n",
       " (7, 'Hummer', 41400),\n",
       " (8, 'Volkswagen', 21600)]"
      ]
     },
     "execution_count": 55,
     "metadata": {},
     "output_type": "execute_result"
    }
   ],
   "source": [
    "rows"
   ]
  },
  {
   "cell_type": "markdown",
   "metadata": {
    "hidden": true
   },
   "source": [
    "Con las siguientes órdenes obtenemos los nombres y la orden con la que se crearon las tablas de una base de datos. La orden `SELECT name,sql FROM sqlite_master WHERE type='table'` pueden probarse desde dentro del programa `sqlite3.exe test.db` y ver que nos devuelve el mismo resultado"
   ]
  },
  {
   "cell_type": "code",
   "execution_count": 64,
   "metadata": {
    "ExecuteTime": {
     "end_time": "2017-12-19T13:02:52.267544Z",
     "start_time": "2017-12-19T13:02:52.258518Z"
    },
    "hidden": true
   },
   "outputs": [
    {
     "name": "stdout",
     "output_type": "stream",
     "text": [
      "[('Cars', 'CREATE TABLE Cars(Id INT, Name TEXT, Price INT)')]\n"
     ]
    }
   ],
   "source": [
    "import sqlite3\n",
    "con = sqlite3.connect('test.db')\n",
    "with con:    \n",
    "    cur = con.cursor()    \n",
    "    cur.execute(\"SELECT name,sql FROM sqlite_master WHERE type='table'\")\n",
    "    rows=cur.fetchall()\n",
    "    print(rows)\n",
    "con.close()"
   ]
  },
  {
   "cell_type": "markdown",
   "metadata": {
    "collapsed": true,
    "hidden": true
   },
   "source": [
    "Podemos definir la siguiente función para realizar búsquedas en una base de datos"
   ]
  },
  {
   "cell_type": "code",
   "execution_count": 59,
   "metadata": {
    "ExecuteTime": {
     "end_time": "2017-12-19T13:01:12.718592Z",
     "start_time": "2017-12-19T13:01:12.708567Z"
    },
    "hidden": true
   },
   "outputs": [],
   "source": [
    "def ejecutaOrden(orden,baseDeDatos):\n",
    "    rows=[]\n",
    "    con = sqlite3.connect(baseDeDatos)\n",
    "    with con:    \n",
    "        cur = con.cursor()    \n",
    "        cur.execute(orden)\n",
    "        rows = cur.fetchall()\n",
    "    con.close()\n",
    "    return rows"
   ]
  },
  {
   "cell_type": "code",
   "execution_count": 57,
   "metadata": {
    "ExecuteTime": {
     "end_time": "2017-12-19T12:59:49.004877Z",
     "start_time": "2017-12-19T12:59:48.996853Z"
    },
    "hidden": true
   },
   "outputs": [
    {
     "data": {
      "text/plain": [
       "[(1, 'Audi', 52642),\n",
       " (2, 'Mercedes', 57127),\n",
       " (3, 'Skoda', 9000),\n",
       " (4, 'Volvo', 29000),\n",
       " (5, 'Bentley', 350000),\n",
       " (6, 'Citroen', 21000),\n",
       " (7, 'Hummer', 41400),\n",
       " (8, 'Volkswagen', 21600)]"
      ]
     },
     "execution_count": 57,
     "metadata": {},
     "output_type": "execute_result"
    }
   ],
   "source": [
    "ejecutaOrden('select * from Cars','test.db')"
   ]
  },
  {
   "cell_type": "code",
   "execution_count": 44,
   "metadata": {
    "ExecuteTime": {
     "end_time": "2017-12-19T06:41:58.290668Z",
     "start_time": "2017-12-19T06:41:58.258581Z"
    },
    "hidden": true
   },
   "outputs": [
    {
     "data": {
      "text/plain": [
       "[]"
      ]
     },
     "execution_count": 44,
     "metadata": {},
     "output_type": "execute_result"
    }
   ],
   "source": [
    "ejecutaOrden(\"insert into Cars values (2,'Audi',52642)\",'test.db')"
   ]
  },
  {
   "cell_type": "code",
   "execution_count": 45,
   "metadata": {
    "ExecuteTime": {
     "end_time": "2017-12-19T06:41:59.411891Z",
     "start_time": "2017-12-19T06:41:59.402866Z"
    },
    "hidden": true
   },
   "outputs": [
    {
     "data": {
      "text/plain": [
       "[(1, 'Audi', 52642),\n",
       " (2, 'Mercedes1', 57127),\n",
       " (3, 'Skoda', 9000),\n",
       " (4, 'Volvo', 29000),\n",
       " (5, 'Bentley', 350000),\n",
       " (6, 'Citroen', 21000),\n",
       " (7, 'Hummer', 41400),\n",
       " (8, 'Volkswagen1', 21600),\n",
       " (2, 'Audi', 52642),\n",
       " (2, 'Audi', 52642)]"
      ]
     },
     "execution_count": 45,
     "metadata": {},
     "output_type": "execute_result"
    }
   ],
   "source": [
    "ejecutaOrden('select * from Cars','test.db')"
   ]
  },
  {
   "cell_type": "code",
   "execution_count": 63,
   "metadata": {
    "ExecuteTime": {
     "end_time": "2017-12-19T13:02:46.739185Z",
     "start_time": "2017-12-19T13:02:46.729133Z"
    },
    "hidden": true
   },
   "outputs": [
    {
     "data": {
      "text/plain": [
       "[('12312312', 'jose jose', '1995-01-02', 'calle 11', 'CADIZ', 'no'),\n",
       " ('12312377', 'alfredo', None, None, None, None),\n",
       " ('d1', 'juan', '2000-01-01', 'calle1', 'cadiz', 'si'),\n",
       " ('d2', 'pepejuan', '2001-01-01', 'calle1', 'cadiz', 'si'),\n",
       " ('d3', 'antonio', '2002-01-01', 'calle2', 'malaga', 'no'),\n",
       " ('d4', 'jose juan', '2000-01-01', 'calle1', 'malaga', 'no'),\n",
       " ('d5', 'luis juan', '1999-01-01', None, 'sevilla', 'si'),\n",
       " ('d6', 'ana', '2007-03-07', None, 'cadiz', 'no'),\n",
       " ('d7', 'juan', '2001-02-03', 'calle 5', 'sevilla', 'no')]"
      ]
     },
     "execution_count": 63,
     "metadata": {},
     "output_type": "execute_result"
    }
   ],
   "source": [
    "ejecutaOrden('select * from alumnos','bd2')"
   ]
  },
  {
   "cell_type": "code",
   "execution_count": 65,
   "metadata": {
    "ExecuteTime": {
     "end_time": "2017-12-19T13:03:21.997101Z",
     "start_time": "2017-12-19T13:03:21.985069Z"
    },
    "hidden": true
   },
   "outputs": [
    {
     "name": "stdout",
     "output_type": "stream",
     "text": [
      "[('TT1', 'CREATE TABLE TT1 (a1 integer)'), ('alumnos', 'CREATE TABLE alumnos(\\nDNI CHAR(8) PRIMARY KEY,\\nnomalum VARCHAR(50),\\nfechanac DATE, direccion VARCHAR(40),\\nprovincia VARCHAR(20), beca VARCHAR(2)\\n)'), ('departamentos', 'CREATE TABLE departamentos(\\ncoddep CHAR(4) PRIMARY KEY,\\nnomdep VARCHAR(50) NOT NULL,\\nNRPdir CHAR(8)\\n)'), ('profesores', \"CREATE TABLE profesores(\\n    NRP CHAR(8) not null PRIMARY KEY,\\n    nomprof VARCHAR(35) NOT NULL,\\n    categoria CHAR(2) CHECK (categoria IN ('AS','TE','TU','CU')),\\n    area VARCHAR(20), \\n    coddep CHAR(4) REFERENCES departamentos(coddep)\\n)\"), ('aulas', 'CREATE TABLE aulas(\\ncodaula CHAR(4) PRIMARY KEY,\\ncapacidad DECIMAL CHECK (capacidad BETWEEN 0 AND 150)\\n)'), ('asignaturas', \"CREATE TABLE asignaturas(\\ncodasig CHAR(4) PRIMARY KEY,\\nnomasig VARCHAR(30) UNIQUE, creditos DECIMAL(4,1),\\ncaracter CHAR(2) CHECK (caracter IN ('tr','ob','op')),\\ncurso DECIMAL CHECK (curso BETWEEN 1 AND 5)\\n)\"), ('grupos', \"CREATE TABLE grupos(\\n    codgrupo CHAR(4), codasig CHAR(4),\\n    tipo CHAR(1) CHECK (tipo IN ('T', 'P')),\\n    NRP CHAR(4),\\n    maxal INT CHECK (maxal BETWEEN 10 AND 150),\\n    PRIMARY KEY (codasig,codgrupo, tipo),\\n    FOREIGN KEY (codasig) REFERENCES asignaturas(codasig)\\n        ON DELETE CASCADE\\n        ON UPDATE CASCADE,\\n    FOREIGN KEY (NRP) REFERENCES profesores(NRP)\\n        ON DELETE SET NULL\\n        ON UPDATE CASCADE\\n)\"), ('matriculas', 'CREATE TABLE matriculas(\\n    codasig CHAR(4), codgrupo CHAR(4), tipo CHAR(1),\\n    DNI CHAR(8) REFERENCES alumnos(DNI),\\n    convocatoria DECIMAL DEFAULT 1,\\n    calificacion DECIMAL CHECK ((calificacion>=0)AND(calificacion<=10)),\\n    PRIMARY KEY (codasig,codgrupo,tipo,DNI,convocatoria),\\n    FOREIGN KEY(codasig,codgrupo, tipo) \\n        REFERENCES grupos (codasig,codgrupo,tipo)\\n)'), ('clases', \"CREATE TABLE clases(\\ncodaula CHAR(4) REFERENCES aulas(codaula),\\ndia CHAR(1) CHECK (dia in ('L','M','X','J','V')),\\nhora TIME,\\ncodgrupo CHAR(4),\\ncodasig CHAR(4),\\ntipo CHAR(1),\\nPRIMARY KEY (codaula,dia,hora),\\nFOREIGN KEY(codasig,codgrupo, tipo) REFERENCES grupos\\n(codasig,codgrupo,tipo)\\n)\"), ('dirige', 'CREATE TABLE dirige(\\n    NRP CHAR(8) primary key,\\n    coddep CHAR(4) unique,\\n    foreign key (NRP) references profesores(NRP),\\n    foreign key (coddep) references departamentos(coddep)\\n)'), ('T1', 'CREATE TABLE T1 (a1 integer,a2 varchar(2))'), ('T2', 'CREATE TABLE T2 (a2 varchar(2))'), ('tabla1', 'CREATE TABLE tabla1(a integer)')]\n"
     ]
    }
   ],
   "source": [
    "import sqlite3\n",
    "con = sqlite3.connect('bd2')\n",
    "with con:    \n",
    "    cur = con.cursor()    \n",
    "    cur.execute(\"SELECT name,sql FROM sqlite_master WHERE type='table'\")\n",
    "    rows=cur.fetchall()\n",
    "    print(rows)\n",
    "con.close()"
   ]
  },
  {
   "cell_type": "code",
   "execution_count": 69,
   "metadata": {
    "ExecuteTime": {
     "end_time": "2017-12-19T13:04:00.489424Z",
     "start_time": "2017-12-19T13:04:00.483407Z"
    },
    "hidden": true
   },
   "outputs": [
    {
     "name": "stdout",
     "output_type": "stream",
     "text": [
      "CREATE TABLE alumnos(\n",
      "DNI CHAR(8) PRIMARY KEY,\n",
      "nomalum VARCHAR(50),\n",
      "fechanac DATE, direccion VARCHAR(40),\n",
      "provincia VARCHAR(20), beca VARCHAR(2)\n",
      ")\n"
     ]
    }
   ],
   "source": [
    "print(rows[1][1])"
   ]
  },
  {
   "cell_type": "code",
   "execution_count": 70,
   "metadata": {
    "ExecuteTime": {
     "end_time": "2017-12-19T13:06:35.314066Z",
     "start_time": "2017-12-19T13:06:35.309045Z"
    },
    "hidden": true
   },
   "outputs": [],
   "source": [
    "def pC(x):\n",
    "    return '\"'+x+'\"'"
   ]
  },
  {
   "cell_type": "code",
   "execution_count": 72,
   "metadata": {
    "ExecuteTime": {
     "end_time": "2017-12-19T13:06:47.460297Z",
     "start_time": "2017-12-19T13:06:47.454309Z"
    },
    "hidden": true
   },
   "outputs": [
    {
     "name": "stdout",
     "output_type": "stream",
     "text": [
      "\"a\"\n"
     ]
    }
   ],
   "source": [
    "print( pC('a') )"
   ]
  },
  {
   "cell_type": "code",
   "execution_count": 73,
   "metadata": {
    "ExecuteTime": {
     "end_time": "2017-12-19T13:07:18.326844Z",
     "start_time": "2017-12-19T13:07:18.319824Z"
    },
    "hidden": true
   },
   "outputs": [
    {
     "data": {
      "text/plain": [
       "'select * from alumnos where nombre=\"juan\"'"
      ]
     },
     "execution_count": 73,
     "metadata": {},
     "output_type": "execute_result"
    }
   ],
   "source": [
    "nombre=\"juan\"\n",
    "'select * from alumnos where nombre='+pC(nombre)"
   ]
  },
  {
   "cell_type": "code",
   "execution_count": 79,
   "metadata": {
    "ExecuteTime": {
     "end_time": "2017-12-19T13:14:18.075125Z",
     "start_time": "2017-12-19T13:14:18.066101Z"
    },
    "hidden": true
   },
   "outputs": [],
   "source": [
    "def alumnoNuevo(dni,nombre,fechanac,direccion,provincia,beca):\n",
    "    orden='insert into alumnos values ('+pC(dni)+','+pC(nombre)+','+pC(fechanac)+','+pC(direccion)+','+pC(provincia)+','+pC(beca)+')'\n",
    "    #print(orden)\n",
    "    ejecutaOrden(orden,'bd2')"
   ]
  },
  {
   "cell_type": "code",
   "execution_count": 81,
   "metadata": {
    "ExecuteTime": {
     "end_time": "2017-12-19T13:14:36.706768Z",
     "start_time": "2017-12-19T13:14:36.678747Z"
    },
    "hidden": true
   },
   "outputs": [],
   "source": [
    "alumnoNuevo('dni3','pepito','2000-01-01','calle numero1','cadiz','si')"
   ]
  },
  {
   "cell_type": "code",
   "execution_count": null,
   "metadata": {
    "hidden": true
   },
   "outputs": [],
   "source": []
  }
 ],
 "metadata": {
  "kernelspec": {
   "display_name": "Python 3",
   "language": "python",
   "name": "python3"
  },
  "language_info": {
   "codemirror_mode": {
    "name": "ipython",
    "version": 3
   },
   "file_extension": ".py",
   "mimetype": "text/x-python",
   "name": "python",
   "nbconvert_exporter": "python",
   "pygments_lexer": "ipython3",
   "version": "3.8.3"
  },
  "latex_envs": {
   "LaTeX_envs_menu_present": true,
   "autoclose": false,
   "autocomplete": true,
   "bibliofile": "biblio.bib",
   "cite_by": "apalike",
   "current_citInitial": 1,
   "eqLabelWithNumbers": true,
   "eqNumInitial": 0,
   "hotkeys": {
    "equation": "Ctrl-E",
    "itemize": "Ctrl-I"
   },
   "labels_anchors": false,
   "latex_user_defs": false,
   "report_style_numbering": false,
   "user_envs_cfg": false
  },
  "toc": {
   "nav_menu": {
    "height": "226px",
    "width": "251px"
   },
   "navigate_menu": true,
   "number_sections": true,
   "sideBar": true,
   "threshold": 4,
   "toc_cell": false,
   "toc_section_display": "block",
   "toc_window_display": false
  }
 },
 "nbformat": 4,
 "nbformat_minor": 1
}
