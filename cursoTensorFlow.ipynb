{
  "nbformat": 4,
  "nbformat_minor": 0,
  "metadata": {
    "colab": {
      "name": "cursoTensorFlow.ipynb",
      "provenance": [],
      "authorship_tag": "ABX9TyPVNLaQlceh4oMI2Ga0Sq8Q",
      "include_colab_link": true
    },
    "kernelspec": {
      "name": "python3",
      "display_name": "Python 3"
    },
    "language_info": {
      "name": "python"
    }
  },
  "cells": [
    {
      "cell_type": "markdown",
      "metadata": {
        "id": "view-in-github",
        "colab_type": "text"
      },
      "source": [
        "<a href=\"https://colab.research.google.com/github/JuanIgnacioGarciaUCA/pyFMSD/blob/master/cursoTensorFlow.ipynb\" target=\"_parent\"><img src=\"https://colab.research.google.com/assets/colab-badge.svg\" alt=\"Open In Colab\"/></a>"
      ]
    },
    {
      "cell_type": "code",
      "source": [
        "import tensorflow as tf\n",
        "from tensorflow import keras\n",
        "from keras import Sequential\n",
        "import numpy as np\n",
        "print(tf.__version__)"
      ],
      "metadata": {
        "colab": {
          "base_uri": "https://localhost:8080/"
        },
        "id": "xduSy30Lq016",
        "outputId": "71f819fe-fe15-4ed7-c966-b581e03b3bf4"
      },
      "execution_count": 7,
      "outputs": [
        {
          "output_type": "stream",
          "name": "stdout",
          "text": [
            "2.9.1\n"
          ]
        }
      ]
    },
    {
      "cell_type": "code",
      "execution_count": null,
      "metadata": {
        "id": "BODwHuq7qezh"
      },
      "outputs": [],
      "source": [
        "model = keras.Sequential([keras.layers.Dense(units=1,input_shape=[1])])\n",
        "model.compile(optimizer='sgd',loss='mean_squared_error')\n",
        "# sgd == stochastic gradient descent\n",
        "\n",
        "xs=np.array([-1.0,0,1,2,3,4],dtype=float)\n",
        "ys=np.array([-3,-1,1,3,5,7],dtype=float)\n",
        "\n",
        "model.fit(xs,ys,epochs=500)"
      ]
    },
    {
      "cell_type": "code",
      "source": [
        "print(model.predict([10]))"
      ],
      "metadata": {
        "colab": {
          "base_uri": "https://localhost:8080/"
        },
        "id": "kgr3d1dlqxFS",
        "outputId": "6213c113-d759-4978-ef1d-f3a0484f3c51"
      },
      "execution_count": 10,
      "outputs": [
        {
          "output_type": "stream",
          "name": "stdout",
          "text": [
            "1/1 [==============================] - 0s 48ms/step\n",
            "[[18.98622]]\n"
          ]
        }
      ]
    },
    {
      "cell_type": "code",
      "source": [
        ""
      ],
      "metadata": {
        "id": "8OgJQZQttxYp"
      },
      "execution_count": null,
      "outputs": []
    }
  ]
}