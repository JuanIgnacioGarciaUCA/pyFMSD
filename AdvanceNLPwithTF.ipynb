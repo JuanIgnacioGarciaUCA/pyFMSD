{
  "nbformat": 4,
  "nbformat_minor": 0,
  "metadata": {
    "colab": {
      "name": "AdvanceNLPwithTF.ipynb",
      "provenance": [],
      "authorship_tag": "ABX9TyPt0tKu61qq0XWj1kh7SvWN",
      "include_colab_link": true
    },
    "kernelspec": {
      "name": "python3",
      "display_name": "Python 3"
    },
    "language_info": {
      "name": "python"
    },
    "gpuClass": "standard",
    "widgets": {
      "application/vnd.jupyter.widget-state+json": {
        "724749415f8a4f458f5c37233f62ee77": {
          "model_module": "@jupyter-widgets/controls",
          "model_name": "HBoxModel",
          "model_module_version": "1.5.0",
          "state": {
            "_dom_classes": [],
            "_model_module": "@jupyter-widgets/controls",
            "_model_module_version": "1.5.0",
            "_model_name": "HBoxModel",
            "_view_count": null,
            "_view_module": "@jupyter-widgets/controls",
            "_view_module_version": "1.5.0",
            "_view_name": "HBoxView",
            "box_style": "",
            "children": [
              "IPY_MODEL_695b03da78984d838a843e712b29a3ed",
              "IPY_MODEL_4b4ad95254aa449aa4ddcc7523f31bbb",
              "IPY_MODEL_01ef4f99b3ca492dbfced7a2fc9f0e42"
            ],
            "layout": "IPY_MODEL_c0fea3dcb1774e27a271a6d75240ce33"
          }
        },
        "695b03da78984d838a843e712b29a3ed": {
          "model_module": "@jupyter-widgets/controls",
          "model_name": "HTMLModel",
          "model_module_version": "1.5.0",
          "state": {
            "_dom_classes": [],
            "_model_module": "@jupyter-widgets/controls",
            "_model_module_version": "1.5.0",
            "_model_name": "HTMLModel",
            "_view_count": null,
            "_view_module": "@jupyter-widgets/controls",
            "_view_module_version": "1.5.0",
            "_view_name": "HTMLView",
            "description": "",
            "description_tooltip": null,
            "layout": "IPY_MODEL_080ccfb4952646e4a89d877b4bc65b74",
            "placeholder": "​",
            "style": "IPY_MODEL_21d0236ffe564cefb74fb7eacdf5d001",
            "value": "Downloading https://raw.githubusercontent.com/stanfordnlp/stanza-resources/main/resources_1.4.0.json: "
          }
        },
        "4b4ad95254aa449aa4ddcc7523f31bbb": {
          "model_module": "@jupyter-widgets/controls",
          "model_name": "FloatProgressModel",
          "model_module_version": "1.5.0",
          "state": {
            "_dom_classes": [],
            "_model_module": "@jupyter-widgets/controls",
            "_model_module_version": "1.5.0",
            "_model_name": "FloatProgressModel",
            "_view_count": null,
            "_view_module": "@jupyter-widgets/controls",
            "_view_module_version": "1.5.0",
            "_view_name": "ProgressView",
            "bar_style": "success",
            "description": "",
            "description_tooltip": null,
            "layout": "IPY_MODEL_0c5fef8b45274e8086f417552cad3481",
            "max": 25998,
            "min": 0,
            "orientation": "horizontal",
            "style": "IPY_MODEL_09459bce082348ee802cdd72e1b45631",
            "value": 25998
          }
        },
        "01ef4f99b3ca492dbfced7a2fc9f0e42": {
          "model_module": "@jupyter-widgets/controls",
          "model_name": "HTMLModel",
          "model_module_version": "1.5.0",
          "state": {
            "_dom_classes": [],
            "_model_module": "@jupyter-widgets/controls",
            "_model_module_version": "1.5.0",
            "_model_name": "HTMLModel",
            "_view_count": null,
            "_view_module": "@jupyter-widgets/controls",
            "_view_module_version": "1.5.0",
            "_view_name": "HTMLView",
            "description": "",
            "description_tooltip": null,
            "layout": "IPY_MODEL_aa644ace0ee1472fa2a994dc66075283",
            "placeholder": "​",
            "style": "IPY_MODEL_c0292251a03d4599ac52b96faf2e214a",
            "value": " 154k/? [00:00&lt;00:00, 1.62MB/s]"
          }
        },
        "c0fea3dcb1774e27a271a6d75240ce33": {
          "model_module": "@jupyter-widgets/base",
          "model_name": "LayoutModel",
          "model_module_version": "1.2.0",
          "state": {
            "_model_module": "@jupyter-widgets/base",
            "_model_module_version": "1.2.0",
            "_model_name": "LayoutModel",
            "_view_count": null,
            "_view_module": "@jupyter-widgets/base",
            "_view_module_version": "1.2.0",
            "_view_name": "LayoutView",
            "align_content": null,
            "align_items": null,
            "align_self": null,
            "border": null,
            "bottom": null,
            "display": null,
            "flex": null,
            "flex_flow": null,
            "grid_area": null,
            "grid_auto_columns": null,
            "grid_auto_flow": null,
            "grid_auto_rows": null,
            "grid_column": null,
            "grid_gap": null,
            "grid_row": null,
            "grid_template_areas": null,
            "grid_template_columns": null,
            "grid_template_rows": null,
            "height": null,
            "justify_content": null,
            "justify_items": null,
            "left": null,
            "margin": null,
            "max_height": null,
            "max_width": null,
            "min_height": null,
            "min_width": null,
            "object_fit": null,
            "object_position": null,
            "order": null,
            "overflow": null,
            "overflow_x": null,
            "overflow_y": null,
            "padding": null,
            "right": null,
            "top": null,
            "visibility": null,
            "width": null
          }
        },
        "080ccfb4952646e4a89d877b4bc65b74": {
          "model_module": "@jupyter-widgets/base",
          "model_name": "LayoutModel",
          "model_module_version": "1.2.0",
          "state": {
            "_model_module": "@jupyter-widgets/base",
            "_model_module_version": "1.2.0",
            "_model_name": "LayoutModel",
            "_view_count": null,
            "_view_module": "@jupyter-widgets/base",
            "_view_module_version": "1.2.0",
            "_view_name": "LayoutView",
            "align_content": null,
            "align_items": null,
            "align_self": null,
            "border": null,
            "bottom": null,
            "display": null,
            "flex": null,
            "flex_flow": null,
            "grid_area": null,
            "grid_auto_columns": null,
            "grid_auto_flow": null,
            "grid_auto_rows": null,
            "grid_column": null,
            "grid_gap": null,
            "grid_row": null,
            "grid_template_areas": null,
            "grid_template_columns": null,
            "grid_template_rows": null,
            "height": null,
            "justify_content": null,
            "justify_items": null,
            "left": null,
            "margin": null,
            "max_height": null,
            "max_width": null,
            "min_height": null,
            "min_width": null,
            "object_fit": null,
            "object_position": null,
            "order": null,
            "overflow": null,
            "overflow_x": null,
            "overflow_y": null,
            "padding": null,
            "right": null,
            "top": null,
            "visibility": null,
            "width": null
          }
        },
        "21d0236ffe564cefb74fb7eacdf5d001": {
          "model_module": "@jupyter-widgets/controls",
          "model_name": "DescriptionStyleModel",
          "model_module_version": "1.5.0",
          "state": {
            "_model_module": "@jupyter-widgets/controls",
            "_model_module_version": "1.5.0",
            "_model_name": "DescriptionStyleModel",
            "_view_count": null,
            "_view_module": "@jupyter-widgets/base",
            "_view_module_version": "1.2.0",
            "_view_name": "StyleView",
            "description_width": ""
          }
        },
        "0c5fef8b45274e8086f417552cad3481": {
          "model_module": "@jupyter-widgets/base",
          "model_name": "LayoutModel",
          "model_module_version": "1.2.0",
          "state": {
            "_model_module": "@jupyter-widgets/base",
            "_model_module_version": "1.2.0",
            "_model_name": "LayoutModel",
            "_view_count": null,
            "_view_module": "@jupyter-widgets/base",
            "_view_module_version": "1.2.0",
            "_view_name": "LayoutView",
            "align_content": null,
            "align_items": null,
            "align_self": null,
            "border": null,
            "bottom": null,
            "display": null,
            "flex": null,
            "flex_flow": null,
            "grid_area": null,
            "grid_auto_columns": null,
            "grid_auto_flow": null,
            "grid_auto_rows": null,
            "grid_column": null,
            "grid_gap": null,
            "grid_row": null,
            "grid_template_areas": null,
            "grid_template_columns": null,
            "grid_template_rows": null,
            "height": null,
            "justify_content": null,
            "justify_items": null,
            "left": null,
            "margin": null,
            "max_height": null,
            "max_width": null,
            "min_height": null,
            "min_width": null,
            "object_fit": null,
            "object_position": null,
            "order": null,
            "overflow": null,
            "overflow_x": null,
            "overflow_y": null,
            "padding": null,
            "right": null,
            "top": null,
            "visibility": null,
            "width": null
          }
        },
        "09459bce082348ee802cdd72e1b45631": {
          "model_module": "@jupyter-widgets/controls",
          "model_name": "ProgressStyleModel",
          "model_module_version": "1.5.0",
          "state": {
            "_model_module": "@jupyter-widgets/controls",
            "_model_module_version": "1.5.0",
            "_model_name": "ProgressStyleModel",
            "_view_count": null,
            "_view_module": "@jupyter-widgets/base",
            "_view_module_version": "1.2.0",
            "_view_name": "StyleView",
            "bar_color": null,
            "description_width": ""
          }
        },
        "aa644ace0ee1472fa2a994dc66075283": {
          "model_module": "@jupyter-widgets/base",
          "model_name": "LayoutModel",
          "model_module_version": "1.2.0",
          "state": {
            "_model_module": "@jupyter-widgets/base",
            "_model_module_version": "1.2.0",
            "_model_name": "LayoutModel",
            "_view_count": null,
            "_view_module": "@jupyter-widgets/base",
            "_view_module_version": "1.2.0",
            "_view_name": "LayoutView",
            "align_content": null,
            "align_items": null,
            "align_self": null,
            "border": null,
            "bottom": null,
            "display": null,
            "flex": null,
            "flex_flow": null,
            "grid_area": null,
            "grid_auto_columns": null,
            "grid_auto_flow": null,
            "grid_auto_rows": null,
            "grid_column": null,
            "grid_gap": null,
            "grid_row": null,
            "grid_template_areas": null,
            "grid_template_columns": null,
            "grid_template_rows": null,
            "height": null,
            "justify_content": null,
            "justify_items": null,
            "left": null,
            "margin": null,
            "max_height": null,
            "max_width": null,
            "min_height": null,
            "min_width": null,
            "object_fit": null,
            "object_position": null,
            "order": null,
            "overflow": null,
            "overflow_x": null,
            "overflow_y": null,
            "padding": null,
            "right": null,
            "top": null,
            "visibility": null,
            "width": null
          }
        },
        "c0292251a03d4599ac52b96faf2e214a": {
          "model_module": "@jupyter-widgets/controls",
          "model_name": "DescriptionStyleModel",
          "model_module_version": "1.5.0",
          "state": {
            "_model_module": "@jupyter-widgets/controls",
            "_model_module_version": "1.5.0",
            "_model_name": "DescriptionStyleModel",
            "_view_count": null,
            "_view_module": "@jupyter-widgets/base",
            "_view_module_version": "1.2.0",
            "_view_name": "StyleView",
            "description_width": ""
          }
        },
        "1635144a42b34eedb745518e11262b1b": {
          "model_module": "@jupyter-widgets/controls",
          "model_name": "HBoxModel",
          "model_module_version": "1.5.0",
          "state": {
            "_dom_classes": [],
            "_model_module": "@jupyter-widgets/controls",
            "_model_module_version": "1.5.0",
            "_model_name": "HBoxModel",
            "_view_count": null,
            "_view_module": "@jupyter-widgets/controls",
            "_view_module_version": "1.5.0",
            "_view_name": "HBoxView",
            "box_style": "",
            "children": [
              "IPY_MODEL_26a84ad6919246fca93f888b1330e4ea",
              "IPY_MODEL_2d8d1462a9474e4c8e8927f9b360d9c8",
              "IPY_MODEL_b3a539a586214332829c729e4891a330"
            ],
            "layout": "IPY_MODEL_d3fa3cdc46754d38b84a7272eb554cbf"
          }
        },
        "26a84ad6919246fca93f888b1330e4ea": {
          "model_module": "@jupyter-widgets/controls",
          "model_name": "HTMLModel",
          "model_module_version": "1.5.0",
          "state": {
            "_dom_classes": [],
            "_model_module": "@jupyter-widgets/controls",
            "_model_module_version": "1.5.0",
            "_model_name": "HTMLModel",
            "_view_count": null,
            "_view_module": "@jupyter-widgets/controls",
            "_view_module_version": "1.5.0",
            "_view_name": "HTMLView",
            "description": "",
            "description_tooltip": null,
            "layout": "IPY_MODEL_e17bb020f3334b5e9c65154494a7288c",
            "placeholder": "​",
            "style": "IPY_MODEL_54eea5cd60ae40578af93ba8c0d3e0a2",
            "value": "Downloading https://raw.githubusercontent.com/stanfordnlp/stanza-resources/main/resources_1.4.0.json: "
          }
        },
        "2d8d1462a9474e4c8e8927f9b360d9c8": {
          "model_module": "@jupyter-widgets/controls",
          "model_name": "FloatProgressModel",
          "model_module_version": "1.5.0",
          "state": {
            "_dom_classes": [],
            "_model_module": "@jupyter-widgets/controls",
            "_model_module_version": "1.5.0",
            "_model_name": "FloatProgressModel",
            "_view_count": null,
            "_view_module": "@jupyter-widgets/controls",
            "_view_module_version": "1.5.0",
            "_view_name": "ProgressView",
            "bar_style": "success",
            "description": "",
            "description_tooltip": null,
            "layout": "IPY_MODEL_a05cd722ac11473aaba051f76c98db71",
            "max": 25998,
            "min": 0,
            "orientation": "horizontal",
            "style": "IPY_MODEL_07b517ca91844587bbda12b91ef4e388",
            "value": 25998
          }
        },
        "b3a539a586214332829c729e4891a330": {
          "model_module": "@jupyter-widgets/controls",
          "model_name": "HTMLModel",
          "model_module_version": "1.5.0",
          "state": {
            "_dom_classes": [],
            "_model_module": "@jupyter-widgets/controls",
            "_model_module_version": "1.5.0",
            "_model_name": "HTMLModel",
            "_view_count": null,
            "_view_module": "@jupyter-widgets/controls",
            "_view_module_version": "1.5.0",
            "_view_name": "HTMLView",
            "description": "",
            "description_tooltip": null,
            "layout": "IPY_MODEL_598c8241b03f43d5ad31a455be42e1fb",
            "placeholder": "​",
            "style": "IPY_MODEL_285c2d3dd3964bc4acebc41156b771e9",
            "value": " 154k/? [00:00&lt;00:00, 3.77MB/s]"
          }
        },
        "d3fa3cdc46754d38b84a7272eb554cbf": {
          "model_module": "@jupyter-widgets/base",
          "model_name": "LayoutModel",
          "model_module_version": "1.2.0",
          "state": {
            "_model_module": "@jupyter-widgets/base",
            "_model_module_version": "1.2.0",
            "_model_name": "LayoutModel",
            "_view_count": null,
            "_view_module": "@jupyter-widgets/base",
            "_view_module_version": "1.2.0",
            "_view_name": "LayoutView",
            "align_content": null,
            "align_items": null,
            "align_self": null,
            "border": null,
            "bottom": null,
            "display": null,
            "flex": null,
            "flex_flow": null,
            "grid_area": null,
            "grid_auto_columns": null,
            "grid_auto_flow": null,
            "grid_auto_rows": null,
            "grid_column": null,
            "grid_gap": null,
            "grid_row": null,
            "grid_template_areas": null,
            "grid_template_columns": null,
            "grid_template_rows": null,
            "height": null,
            "justify_content": null,
            "justify_items": null,
            "left": null,
            "margin": null,
            "max_height": null,
            "max_width": null,
            "min_height": null,
            "min_width": null,
            "object_fit": null,
            "object_position": null,
            "order": null,
            "overflow": null,
            "overflow_x": null,
            "overflow_y": null,
            "padding": null,
            "right": null,
            "top": null,
            "visibility": null,
            "width": null
          }
        },
        "e17bb020f3334b5e9c65154494a7288c": {
          "model_module": "@jupyter-widgets/base",
          "model_name": "LayoutModel",
          "model_module_version": "1.2.0",
          "state": {
            "_model_module": "@jupyter-widgets/base",
            "_model_module_version": "1.2.0",
            "_model_name": "LayoutModel",
            "_view_count": null,
            "_view_module": "@jupyter-widgets/base",
            "_view_module_version": "1.2.0",
            "_view_name": "LayoutView",
            "align_content": null,
            "align_items": null,
            "align_self": null,
            "border": null,
            "bottom": null,
            "display": null,
            "flex": null,
            "flex_flow": null,
            "grid_area": null,
            "grid_auto_columns": null,
            "grid_auto_flow": null,
            "grid_auto_rows": null,
            "grid_column": null,
            "grid_gap": null,
            "grid_row": null,
            "grid_template_areas": null,
            "grid_template_columns": null,
            "grid_template_rows": null,
            "height": null,
            "justify_content": null,
            "justify_items": null,
            "left": null,
            "margin": null,
            "max_height": null,
            "max_width": null,
            "min_height": null,
            "min_width": null,
            "object_fit": null,
            "object_position": null,
            "order": null,
            "overflow": null,
            "overflow_x": null,
            "overflow_y": null,
            "padding": null,
            "right": null,
            "top": null,
            "visibility": null,
            "width": null
          }
        },
        "54eea5cd60ae40578af93ba8c0d3e0a2": {
          "model_module": "@jupyter-widgets/controls",
          "model_name": "DescriptionStyleModel",
          "model_module_version": "1.5.0",
          "state": {
            "_model_module": "@jupyter-widgets/controls",
            "_model_module_version": "1.5.0",
            "_model_name": "DescriptionStyleModel",
            "_view_count": null,
            "_view_module": "@jupyter-widgets/base",
            "_view_module_version": "1.2.0",
            "_view_name": "StyleView",
            "description_width": ""
          }
        },
        "a05cd722ac11473aaba051f76c98db71": {
          "model_module": "@jupyter-widgets/base",
          "model_name": "LayoutModel",
          "model_module_version": "1.2.0",
          "state": {
            "_model_module": "@jupyter-widgets/base",
            "_model_module_version": "1.2.0",
            "_model_name": "LayoutModel",
            "_view_count": null,
            "_view_module": "@jupyter-widgets/base",
            "_view_module_version": "1.2.0",
            "_view_name": "LayoutView",
            "align_content": null,
            "align_items": null,
            "align_self": null,
            "border": null,
            "bottom": null,
            "display": null,
            "flex": null,
            "flex_flow": null,
            "grid_area": null,
            "grid_auto_columns": null,
            "grid_auto_flow": null,
            "grid_auto_rows": null,
            "grid_column": null,
            "grid_gap": null,
            "grid_row": null,
            "grid_template_areas": null,
            "grid_template_columns": null,
            "grid_template_rows": null,
            "height": null,
            "justify_content": null,
            "justify_items": null,
            "left": null,
            "margin": null,
            "max_height": null,
            "max_width": null,
            "min_height": null,
            "min_width": null,
            "object_fit": null,
            "object_position": null,
            "order": null,
            "overflow": null,
            "overflow_x": null,
            "overflow_y": null,
            "padding": null,
            "right": null,
            "top": null,
            "visibility": null,
            "width": null
          }
        },
        "07b517ca91844587bbda12b91ef4e388": {
          "model_module": "@jupyter-widgets/controls",
          "model_name": "ProgressStyleModel",
          "model_module_version": "1.5.0",
          "state": {
            "_model_module": "@jupyter-widgets/controls",
            "_model_module_version": "1.5.0",
            "_model_name": "ProgressStyleModel",
            "_view_count": null,
            "_view_module": "@jupyter-widgets/base",
            "_view_module_version": "1.2.0",
            "_view_name": "StyleView",
            "bar_color": null,
            "description_width": ""
          }
        },
        "598c8241b03f43d5ad31a455be42e1fb": {
          "model_module": "@jupyter-widgets/base",
          "model_name": "LayoutModel",
          "model_module_version": "1.2.0",
          "state": {
            "_model_module": "@jupyter-widgets/base",
            "_model_module_version": "1.2.0",
            "_model_name": "LayoutModel",
            "_view_count": null,
            "_view_module": "@jupyter-widgets/base",
            "_view_module_version": "1.2.0",
            "_view_name": "LayoutView",
            "align_content": null,
            "align_items": null,
            "align_self": null,
            "border": null,
            "bottom": null,
            "display": null,
            "flex": null,
            "flex_flow": null,
            "grid_area": null,
            "grid_auto_columns": null,
            "grid_auto_flow": null,
            "grid_auto_rows": null,
            "grid_column": null,
            "grid_gap": null,
            "grid_row": null,
            "grid_template_areas": null,
            "grid_template_columns": null,
            "grid_template_rows": null,
            "height": null,
            "justify_content": null,
            "justify_items": null,
            "left": null,
            "margin": null,
            "max_height": null,
            "max_width": null,
            "min_height": null,
            "min_width": null,
            "object_fit": null,
            "object_position": null,
            "order": null,
            "overflow": null,
            "overflow_x": null,
            "overflow_y": null,
            "padding": null,
            "right": null,
            "top": null,
            "visibility": null,
            "width": null
          }
        },
        "285c2d3dd3964bc4acebc41156b771e9": {
          "model_module": "@jupyter-widgets/controls",
          "model_name": "DescriptionStyleModel",
          "model_module_version": "1.5.0",
          "state": {
            "_model_module": "@jupyter-widgets/controls",
            "_model_module_version": "1.5.0",
            "_model_name": "DescriptionStyleModel",
            "_view_count": null,
            "_view_module": "@jupyter-widgets/base",
            "_view_module_version": "1.2.0",
            "_view_name": "StyleView",
            "description_width": ""
          }
        },
        "1e2cb5fb579748daa2ef63f79c5820c4": {
          "model_module": "@jupyter-widgets/controls",
          "model_name": "HBoxModel",
          "model_module_version": "1.5.0",
          "state": {
            "_dom_classes": [],
            "_model_module": "@jupyter-widgets/controls",
            "_model_module_version": "1.5.0",
            "_model_name": "HBoxModel",
            "_view_count": null,
            "_view_module": "@jupyter-widgets/controls",
            "_view_module_version": "1.5.0",
            "_view_name": "HBoxView",
            "box_style": "",
            "children": [
              "IPY_MODEL_abac2b6da2534582a3b67ace284bcdb6",
              "IPY_MODEL_774a0e6afb4b443a82cc03ee324758c0",
              "IPY_MODEL_d78f84f89f844e05afaf112d126ccd04"
            ],
            "layout": "IPY_MODEL_66c2fc18a2dd4f6c8eec37deb9a030ae"
          }
        },
        "abac2b6da2534582a3b67ace284bcdb6": {
          "model_module": "@jupyter-widgets/controls",
          "model_name": "HTMLModel",
          "model_module_version": "1.5.0",
          "state": {
            "_dom_classes": [],
            "_model_module": "@jupyter-widgets/controls",
            "_model_module_version": "1.5.0",
            "_model_name": "HTMLModel",
            "_view_count": null,
            "_view_module": "@jupyter-widgets/controls",
            "_view_module_version": "1.5.0",
            "_view_name": "HTMLView",
            "description": "",
            "description_tooltip": null,
            "layout": "IPY_MODEL_90225f6f339a4a14985c43228246ff1b",
            "placeholder": "​",
            "style": "IPY_MODEL_c920bc95b9404f7fb1c70af3e608b574",
            "value": "Downloading https://raw.githubusercontent.com/stanfordnlp/stanza-resources/main/resources_1.4.0.json: "
          }
        },
        "774a0e6afb4b443a82cc03ee324758c0": {
          "model_module": "@jupyter-widgets/controls",
          "model_name": "FloatProgressModel",
          "model_module_version": "1.5.0",
          "state": {
            "_dom_classes": [],
            "_model_module": "@jupyter-widgets/controls",
            "_model_module_version": "1.5.0",
            "_model_name": "FloatProgressModel",
            "_view_count": null,
            "_view_module": "@jupyter-widgets/controls",
            "_view_module_version": "1.5.0",
            "_view_name": "ProgressView",
            "bar_style": "success",
            "description": "",
            "description_tooltip": null,
            "layout": "IPY_MODEL_f6711ff9105548c284725aea25b0fcc9",
            "max": 25998,
            "min": 0,
            "orientation": "horizontal",
            "style": "IPY_MODEL_acecef7d531d451ea34eba3412a04c67",
            "value": 25998
          }
        },
        "d78f84f89f844e05afaf112d126ccd04": {
          "model_module": "@jupyter-widgets/controls",
          "model_name": "HTMLModel",
          "model_module_version": "1.5.0",
          "state": {
            "_dom_classes": [],
            "_model_module": "@jupyter-widgets/controls",
            "_model_module_version": "1.5.0",
            "_model_name": "HTMLModel",
            "_view_count": null,
            "_view_module": "@jupyter-widgets/controls",
            "_view_module_version": "1.5.0",
            "_view_name": "HTMLView",
            "description": "",
            "description_tooltip": null,
            "layout": "IPY_MODEL_a281b0889a524b3c8577b8e4b5d7e056",
            "placeholder": "​",
            "style": "IPY_MODEL_35a62a2c9e394d0eb5c17ef10a4542a5",
            "value": " 154k/? [00:00&lt;00:00, 3.72MB/s]"
          }
        },
        "66c2fc18a2dd4f6c8eec37deb9a030ae": {
          "model_module": "@jupyter-widgets/base",
          "model_name": "LayoutModel",
          "model_module_version": "1.2.0",
          "state": {
            "_model_module": "@jupyter-widgets/base",
            "_model_module_version": "1.2.0",
            "_model_name": "LayoutModel",
            "_view_count": null,
            "_view_module": "@jupyter-widgets/base",
            "_view_module_version": "1.2.0",
            "_view_name": "LayoutView",
            "align_content": null,
            "align_items": null,
            "align_self": null,
            "border": null,
            "bottom": null,
            "display": null,
            "flex": null,
            "flex_flow": null,
            "grid_area": null,
            "grid_auto_columns": null,
            "grid_auto_flow": null,
            "grid_auto_rows": null,
            "grid_column": null,
            "grid_gap": null,
            "grid_row": null,
            "grid_template_areas": null,
            "grid_template_columns": null,
            "grid_template_rows": null,
            "height": null,
            "justify_content": null,
            "justify_items": null,
            "left": null,
            "margin": null,
            "max_height": null,
            "max_width": null,
            "min_height": null,
            "min_width": null,
            "object_fit": null,
            "object_position": null,
            "order": null,
            "overflow": null,
            "overflow_x": null,
            "overflow_y": null,
            "padding": null,
            "right": null,
            "top": null,
            "visibility": null,
            "width": null
          }
        },
        "90225f6f339a4a14985c43228246ff1b": {
          "model_module": "@jupyter-widgets/base",
          "model_name": "LayoutModel",
          "model_module_version": "1.2.0",
          "state": {
            "_model_module": "@jupyter-widgets/base",
            "_model_module_version": "1.2.0",
            "_model_name": "LayoutModel",
            "_view_count": null,
            "_view_module": "@jupyter-widgets/base",
            "_view_module_version": "1.2.0",
            "_view_name": "LayoutView",
            "align_content": null,
            "align_items": null,
            "align_self": null,
            "border": null,
            "bottom": null,
            "display": null,
            "flex": null,
            "flex_flow": null,
            "grid_area": null,
            "grid_auto_columns": null,
            "grid_auto_flow": null,
            "grid_auto_rows": null,
            "grid_column": null,
            "grid_gap": null,
            "grid_row": null,
            "grid_template_areas": null,
            "grid_template_columns": null,
            "grid_template_rows": null,
            "height": null,
            "justify_content": null,
            "justify_items": null,
            "left": null,
            "margin": null,
            "max_height": null,
            "max_width": null,
            "min_height": null,
            "min_width": null,
            "object_fit": null,
            "object_position": null,
            "order": null,
            "overflow": null,
            "overflow_x": null,
            "overflow_y": null,
            "padding": null,
            "right": null,
            "top": null,
            "visibility": null,
            "width": null
          }
        },
        "c920bc95b9404f7fb1c70af3e608b574": {
          "model_module": "@jupyter-widgets/controls",
          "model_name": "DescriptionStyleModel",
          "model_module_version": "1.5.0",
          "state": {
            "_model_module": "@jupyter-widgets/controls",
            "_model_module_version": "1.5.0",
            "_model_name": "DescriptionStyleModel",
            "_view_count": null,
            "_view_module": "@jupyter-widgets/base",
            "_view_module_version": "1.2.0",
            "_view_name": "StyleView",
            "description_width": ""
          }
        },
        "f6711ff9105548c284725aea25b0fcc9": {
          "model_module": "@jupyter-widgets/base",
          "model_name": "LayoutModel",
          "model_module_version": "1.2.0",
          "state": {
            "_model_module": "@jupyter-widgets/base",
            "_model_module_version": "1.2.0",
            "_model_name": "LayoutModel",
            "_view_count": null,
            "_view_module": "@jupyter-widgets/base",
            "_view_module_version": "1.2.0",
            "_view_name": "LayoutView",
            "align_content": null,
            "align_items": null,
            "align_self": null,
            "border": null,
            "bottom": null,
            "display": null,
            "flex": null,
            "flex_flow": null,
            "grid_area": null,
            "grid_auto_columns": null,
            "grid_auto_flow": null,
            "grid_auto_rows": null,
            "grid_column": null,
            "grid_gap": null,
            "grid_row": null,
            "grid_template_areas": null,
            "grid_template_columns": null,
            "grid_template_rows": null,
            "height": null,
            "justify_content": null,
            "justify_items": null,
            "left": null,
            "margin": null,
            "max_height": null,
            "max_width": null,
            "min_height": null,
            "min_width": null,
            "object_fit": null,
            "object_position": null,
            "order": null,
            "overflow": null,
            "overflow_x": null,
            "overflow_y": null,
            "padding": null,
            "right": null,
            "top": null,
            "visibility": null,
            "width": null
          }
        },
        "acecef7d531d451ea34eba3412a04c67": {
          "model_module": "@jupyter-widgets/controls",
          "model_name": "ProgressStyleModel",
          "model_module_version": "1.5.0",
          "state": {
            "_model_module": "@jupyter-widgets/controls",
            "_model_module_version": "1.5.0",
            "_model_name": "ProgressStyleModel",
            "_view_count": null,
            "_view_module": "@jupyter-widgets/base",
            "_view_module_version": "1.2.0",
            "_view_name": "StyleView",
            "bar_color": null,
            "description_width": ""
          }
        },
        "a281b0889a524b3c8577b8e4b5d7e056": {
          "model_module": "@jupyter-widgets/base",
          "model_name": "LayoutModel",
          "model_module_version": "1.2.0",
          "state": {
            "_model_module": "@jupyter-widgets/base",
            "_model_module_version": "1.2.0",
            "_model_name": "LayoutModel",
            "_view_count": null,
            "_view_module": "@jupyter-widgets/base",
            "_view_module_version": "1.2.0",
            "_view_name": "LayoutView",
            "align_content": null,
            "align_items": null,
            "align_self": null,
            "border": null,
            "bottom": null,
            "display": null,
            "flex": null,
            "flex_flow": null,
            "grid_area": null,
            "grid_auto_columns": null,
            "grid_auto_flow": null,
            "grid_auto_rows": null,
            "grid_column": null,
            "grid_gap": null,
            "grid_row": null,
            "grid_template_areas": null,
            "grid_template_columns": null,
            "grid_template_rows": null,
            "height": null,
            "justify_content": null,
            "justify_items": null,
            "left": null,
            "margin": null,
            "max_height": null,
            "max_width": null,
            "min_height": null,
            "min_width": null,
            "object_fit": null,
            "object_position": null,
            "order": null,
            "overflow": null,
            "overflow_x": null,
            "overflow_y": null,
            "padding": null,
            "right": null,
            "top": null,
            "visibility": null,
            "width": null
          }
        },
        "35a62a2c9e394d0eb5c17ef10a4542a5": {
          "model_module": "@jupyter-widgets/controls",
          "model_name": "DescriptionStyleModel",
          "model_module_version": "1.5.0",
          "state": {
            "_model_module": "@jupyter-widgets/controls",
            "_model_module_version": "1.5.0",
            "_model_name": "DescriptionStyleModel",
            "_view_count": null,
            "_view_module": "@jupyter-widgets/base",
            "_view_module_version": "1.2.0",
            "_view_name": "StyleView",
            "description_width": ""
          }
        }
      }
    },
    "accelerator": "GPU"
  },
  "cells": [
    {
      "cell_type": "markdown",
      "metadata": {
        "id": "view-in-github",
        "colab_type": "text"
      },
      "source": [
        "<a href=\"https://colab.research.google.com/github/JuanIgnacioGarciaUCA/pyFMSD/blob/master/AdvanceNLPwithTF.ipynb\" target=\"_parent\"><img src=\"https://colab.research.google.com/assets/colab-badge.svg\" alt=\"Open In Colab\"/></a>"
      ]
    },
    {
      "cell_type": "markdown",
      "source": [
        "# Comienzo"
      ],
      "metadata": {
        "id": "tZW6ine4YYpV"
      }
    },
    {
      "cell_type": "code",
      "execution_count": 18,
      "metadata": {
        "colab": {
          "base_uri": "https://localhost:8080/",
          "height": 35
        },
        "id": "izYHF3uDCEAw",
        "outputId": "781aa04c-fa71-4898-adea-dfaf1d16beac"
      },
      "outputs": [
        {
          "output_type": "execute_result",
          "data": {
            "text/plain": [
              "'2.8.2'"
            ],
            "application/vnd.google.colaboratory.intrinsic+json": {
              "type": "string"
            }
          },
          "metadata": {},
          "execution_count": 18
        }
      ],
      "source": [
        "import tensorflow as tf\n",
        "import os\n",
        "import io\n",
        "import numpy as np\n",
        "tf.__version__"
      ]
    },
    {
      "cell_type": "code",
      "source": [
        "path_to_zip = tf.keras.utils.get_file(\"smsspamcollection.zip\",\n",
        "origin=\"https://archive.ics.uci.edu/ml/machine-learning-databases/00228/smsspamcollection.zip\",\n",
        "                  extract=True)\n",
        "# Unzip the file into a folder\n",
        "!unzip $path_to_zip -d data"
      ],
      "metadata": {
        "colab": {
          "base_uri": "https://localhost:8080/"
        },
        "id": "WfzvlW7sEG3K",
        "outputId": "6df6154c-701b-4548-dacf-7a6fc14d46fd"
      },
      "execution_count": 19,
      "outputs": [
        {
          "output_type": "stream",
          "name": "stdout",
          "text": [
            "Archive:  /root/.keras/datasets/smsspamcollection.zip\n",
            "replace data/SMSSpamCollection? [y]es, [n]o, [A]ll, [N]one, [r]ename: n\n",
            "replace data/readme? [y]es, [n]o, [A]ll, [N]one, [r]ename: n\n"
          ]
        }
      ]
    },
    {
      "cell_type": "code",
      "source": [
        "# Let's see if we read the data correctly\n",
        "lines = io.open('data/SMSSpamCollection').read().strip().split('\\n')"
      ],
      "metadata": {
        "id": "isqwGvISEQlk"
      },
      "execution_count": 20,
      "outputs": []
    },
    {
      "cell_type": "code",
      "source": [
        "spam_dataset = []\n",
        "for line in lines:\n",
        "  label, text = line.split('\\t')\n",
        "  if label.strip() == 'spam':\n",
        "    spam_dataset.append((1, text.strip()))\n",
        "  else:\n",
        "    spam_dataset.append(((0, text.strip())))\n",
        "print(spam_dataset[0]) "
      ],
      "metadata": {
        "colab": {
          "base_uri": "https://localhost:8080/"
        },
        "id": "1fBTUh0YFZHL",
        "outputId": "fd50f081-5b19-4052-c0ee-8991b8cdafd4"
      },
      "execution_count": 21,
      "outputs": [
        {
          "output_type": "stream",
          "name": "stdout",
          "text": [
            "(0, 'Go until jurong point, crazy.. Available only in bugis n great world la e buffet... Cine there got amore wat...')\n"
          ]
        }
      ]
    },
    {
      "cell_type": "code",
      "source": [
        "import pandas as pd\n",
        "df = pd.DataFrame(spam_dataset, columns=['Spam', 'Message'])\n",
        "df.describe()"
      ],
      "metadata": {
        "colab": {
          "base_uri": "https://localhost:8080/",
          "height": 300
        },
        "id": "5Y3AnzppFqes",
        "outputId": "08d0ddaf-9a27-4470-d142-c47e9eec2ee9"
      },
      "execution_count": 22,
      "outputs": [
        {
          "output_type": "execute_result",
          "data": {
            "text/plain": [
              "              Spam\n",
              "count  5574.000000\n",
              "mean      0.134015\n",
              "std       0.340699\n",
              "min       0.000000\n",
              "25%       0.000000\n",
              "50%       0.000000\n",
              "75%       0.000000\n",
              "max       1.000000"
            ],
            "text/html": [
              "\n",
              "  <div id=\"df-0b65a39f-1273-40f6-b34d-6c78fefbe47c\">\n",
              "    <div class=\"colab-df-container\">\n",
              "      <div>\n",
              "<style scoped>\n",
              "    .dataframe tbody tr th:only-of-type {\n",
              "        vertical-align: middle;\n",
              "    }\n",
              "\n",
              "    .dataframe tbody tr th {\n",
              "        vertical-align: top;\n",
              "    }\n",
              "\n",
              "    .dataframe thead th {\n",
              "        text-align: right;\n",
              "    }\n",
              "</style>\n",
              "<table border=\"1\" class=\"dataframe\">\n",
              "  <thead>\n",
              "    <tr style=\"text-align: right;\">\n",
              "      <th></th>\n",
              "      <th>Spam</th>\n",
              "    </tr>\n",
              "  </thead>\n",
              "  <tbody>\n",
              "    <tr>\n",
              "      <th>count</th>\n",
              "      <td>5574.000000</td>\n",
              "    </tr>\n",
              "    <tr>\n",
              "      <th>mean</th>\n",
              "      <td>0.134015</td>\n",
              "    </tr>\n",
              "    <tr>\n",
              "      <th>std</th>\n",
              "      <td>0.340699</td>\n",
              "    </tr>\n",
              "    <tr>\n",
              "      <th>min</th>\n",
              "      <td>0.000000</td>\n",
              "    </tr>\n",
              "    <tr>\n",
              "      <th>25%</th>\n",
              "      <td>0.000000</td>\n",
              "    </tr>\n",
              "    <tr>\n",
              "      <th>50%</th>\n",
              "      <td>0.000000</td>\n",
              "    </tr>\n",
              "    <tr>\n",
              "      <th>75%</th>\n",
              "      <td>0.000000</td>\n",
              "    </tr>\n",
              "    <tr>\n",
              "      <th>max</th>\n",
              "      <td>1.000000</td>\n",
              "    </tr>\n",
              "  </tbody>\n",
              "</table>\n",
              "</div>\n",
              "      <button class=\"colab-df-convert\" onclick=\"convertToInteractive('df-0b65a39f-1273-40f6-b34d-6c78fefbe47c')\"\n",
              "              title=\"Convert this dataframe to an interactive table.\"\n",
              "              style=\"display:none;\">\n",
              "        \n",
              "  <svg xmlns=\"http://www.w3.org/2000/svg\" height=\"24px\"viewBox=\"0 0 24 24\"\n",
              "       width=\"24px\">\n",
              "    <path d=\"M0 0h24v24H0V0z\" fill=\"none\"/>\n",
              "    <path d=\"M18.56 5.44l.94 2.06.94-2.06 2.06-.94-2.06-.94-.94-2.06-.94 2.06-2.06.94zm-11 1L8.5 8.5l.94-2.06 2.06-.94-2.06-.94L8.5 2.5l-.94 2.06-2.06.94zm10 10l.94 2.06.94-2.06 2.06-.94-2.06-.94-.94-2.06-.94 2.06-2.06.94z\"/><path d=\"M17.41 7.96l-1.37-1.37c-.4-.4-.92-.59-1.43-.59-.52 0-1.04.2-1.43.59L10.3 9.45l-7.72 7.72c-.78.78-.78 2.05 0 2.83L4 21.41c.39.39.9.59 1.41.59.51 0 1.02-.2 1.41-.59l7.78-7.78 2.81-2.81c.8-.78.8-2.07 0-2.86zM5.41 20L4 18.59l7.72-7.72 1.47 1.35L5.41 20z\"/>\n",
              "  </svg>\n",
              "      </button>\n",
              "      \n",
              "  <style>\n",
              "    .colab-df-container {\n",
              "      display:flex;\n",
              "      flex-wrap:wrap;\n",
              "      gap: 12px;\n",
              "    }\n",
              "\n",
              "    .colab-df-convert {\n",
              "      background-color: #E8F0FE;\n",
              "      border: none;\n",
              "      border-radius: 50%;\n",
              "      cursor: pointer;\n",
              "      display: none;\n",
              "      fill: #1967D2;\n",
              "      height: 32px;\n",
              "      padding: 0 0 0 0;\n",
              "      width: 32px;\n",
              "    }\n",
              "\n",
              "    .colab-df-convert:hover {\n",
              "      background-color: #E2EBFA;\n",
              "      box-shadow: 0px 1px 2px rgba(60, 64, 67, 0.3), 0px 1px 3px 1px rgba(60, 64, 67, 0.15);\n",
              "      fill: #174EA6;\n",
              "    }\n",
              "\n",
              "    [theme=dark] .colab-df-convert {\n",
              "      background-color: #3B4455;\n",
              "      fill: #D2E3FC;\n",
              "    }\n",
              "\n",
              "    [theme=dark] .colab-df-convert:hover {\n",
              "      background-color: #434B5C;\n",
              "      box-shadow: 0px 1px 3px 1px rgba(0, 0, 0, 0.15);\n",
              "      filter: drop-shadow(0px 1px 2px rgba(0, 0, 0, 0.3));\n",
              "      fill: #FFFFFF;\n",
              "    }\n",
              "  </style>\n",
              "\n",
              "      <script>\n",
              "        const buttonEl =\n",
              "          document.querySelector('#df-0b65a39f-1273-40f6-b34d-6c78fefbe47c button.colab-df-convert');\n",
              "        buttonEl.style.display =\n",
              "          google.colab.kernel.accessAllowed ? 'block' : 'none';\n",
              "\n",
              "        async function convertToInteractive(key) {\n",
              "          const element = document.querySelector('#df-0b65a39f-1273-40f6-b34d-6c78fefbe47c');\n",
              "          const dataTable =\n",
              "            await google.colab.kernel.invokeFunction('convertToInteractive',\n",
              "                                                     [key], {});\n",
              "          if (!dataTable) return;\n",
              "\n",
              "          const docLinkHtml = 'Like what you see? Visit the ' +\n",
              "            '<a target=\"_blank\" href=https://colab.research.google.com/notebooks/data_table.ipynb>data table notebook</a>'\n",
              "            + ' to learn more about interactive tables.';\n",
              "          element.innerHTML = '';\n",
              "          dataTable['output_type'] = 'display_data';\n",
              "          await google.colab.output.renderOutput(dataTable, element);\n",
              "          const docLink = document.createElement('div');\n",
              "          docLink.innerHTML = docLinkHtml;\n",
              "          element.appendChild(docLink);\n",
              "        }\n",
              "      </script>\n",
              "    </div>\n",
              "  </div>\n",
              "  "
            ]
          },
          "metadata": {},
          "execution_count": 22
        }
      ]
    },
    {
      "cell_type": "code",
      "source": [
        "df.iloc[0][\"Message\"]"
      ],
      "metadata": {
        "colab": {
          "base_uri": "https://localhost:8080/",
          "height": 53
        },
        "id": "UZoRsacjlnqa",
        "outputId": "cde47208-8af9-4fc8-fdd0-4b08d0e32006"
      },
      "execution_count": 23,
      "outputs": [
        {
          "output_type": "execute_result",
          "data": {
            "text/plain": [
              "'Go until jurong point, crazy.. Available only in bugis n great world la e buffet... Cine there got amore wat...'"
            ],
            "application/vnd.google.colaboratory.intrinsic+json": {
              "type": "string"
            }
          },
          "metadata": {},
          "execution_count": 23
        }
      ]
    },
    {
      "cell_type": "code",
      "source": [
        "import re\n",
        "def message_length(x):\n",
        "  # returns total number of characters\n",
        "  return len(x)\n",
        "def num_capitals(x):\n",
        "  _, count = re.subn(r'[A-Z]', '', x) # only works in english\n",
        "  return count\n",
        "def num_punctuation(x):\n",
        "  _, count = re.subn(r'\\W', '', x)\n",
        "  return count"
      ],
      "metadata": {
        "id": "pb4uW-iMF18x"
      },
      "execution_count": 24,
      "outputs": []
    },
    {
      "cell_type": "code",
      "source": [
        "df['Capitals'] = df['Message'].apply(num_capitals)\n",
        "df['Punctuation'] = df['Message'].apply(num_punctuation)\n",
        "df['Length'] = df['Message'].apply(message_length)\n",
        "df.describe()"
      ],
      "metadata": {
        "colab": {
          "base_uri": "https://localhost:8080/",
          "height": 300
        },
        "id": "PlufxXYjOYZY",
        "outputId": "9d6f19f7-ac74-44cf-a9e8-64d28b3a2988"
      },
      "execution_count": 25,
      "outputs": [
        {
          "output_type": "execute_result",
          "data": {
            "text/plain": [
              "              Spam     Capitals  Punctuation       Length\n",
              "count  5574.000000  5574.000000  5574.000000  5574.000000\n",
              "mean      0.134015     5.621636    18.942591    80.443488\n",
              "std       0.340699    11.683233    14.825994    59.841746\n",
              "min       0.000000     0.000000     0.000000     2.000000\n",
              "25%       0.000000     1.000000     8.000000    36.000000\n",
              "50%       0.000000     2.000000    15.000000    61.000000\n",
              "75%       0.000000     4.000000    27.000000   122.000000\n",
              "max       1.000000   129.000000   253.000000   910.000000"
            ],
            "text/html": [
              "\n",
              "  <div id=\"df-c2b01445-2f1b-406c-b233-ee06e8237159\">\n",
              "    <div class=\"colab-df-container\">\n",
              "      <div>\n",
              "<style scoped>\n",
              "    .dataframe tbody tr th:only-of-type {\n",
              "        vertical-align: middle;\n",
              "    }\n",
              "\n",
              "    .dataframe tbody tr th {\n",
              "        vertical-align: top;\n",
              "    }\n",
              "\n",
              "    .dataframe thead th {\n",
              "        text-align: right;\n",
              "    }\n",
              "</style>\n",
              "<table border=\"1\" class=\"dataframe\">\n",
              "  <thead>\n",
              "    <tr style=\"text-align: right;\">\n",
              "      <th></th>\n",
              "      <th>Spam</th>\n",
              "      <th>Capitals</th>\n",
              "      <th>Punctuation</th>\n",
              "      <th>Length</th>\n",
              "    </tr>\n",
              "  </thead>\n",
              "  <tbody>\n",
              "    <tr>\n",
              "      <th>count</th>\n",
              "      <td>5574.000000</td>\n",
              "      <td>5574.000000</td>\n",
              "      <td>5574.000000</td>\n",
              "      <td>5574.000000</td>\n",
              "    </tr>\n",
              "    <tr>\n",
              "      <th>mean</th>\n",
              "      <td>0.134015</td>\n",
              "      <td>5.621636</td>\n",
              "      <td>18.942591</td>\n",
              "      <td>80.443488</td>\n",
              "    </tr>\n",
              "    <tr>\n",
              "      <th>std</th>\n",
              "      <td>0.340699</td>\n",
              "      <td>11.683233</td>\n",
              "      <td>14.825994</td>\n",
              "      <td>59.841746</td>\n",
              "    </tr>\n",
              "    <tr>\n",
              "      <th>min</th>\n",
              "      <td>0.000000</td>\n",
              "      <td>0.000000</td>\n",
              "      <td>0.000000</td>\n",
              "      <td>2.000000</td>\n",
              "    </tr>\n",
              "    <tr>\n",
              "      <th>25%</th>\n",
              "      <td>0.000000</td>\n",
              "      <td>1.000000</td>\n",
              "      <td>8.000000</td>\n",
              "      <td>36.000000</td>\n",
              "    </tr>\n",
              "    <tr>\n",
              "      <th>50%</th>\n",
              "      <td>0.000000</td>\n",
              "      <td>2.000000</td>\n",
              "      <td>15.000000</td>\n",
              "      <td>61.000000</td>\n",
              "    </tr>\n",
              "    <tr>\n",
              "      <th>75%</th>\n",
              "      <td>0.000000</td>\n",
              "      <td>4.000000</td>\n",
              "      <td>27.000000</td>\n",
              "      <td>122.000000</td>\n",
              "    </tr>\n",
              "    <tr>\n",
              "      <th>max</th>\n",
              "      <td>1.000000</td>\n",
              "      <td>129.000000</td>\n",
              "      <td>253.000000</td>\n",
              "      <td>910.000000</td>\n",
              "    </tr>\n",
              "  </tbody>\n",
              "</table>\n",
              "</div>\n",
              "      <button class=\"colab-df-convert\" onclick=\"convertToInteractive('df-c2b01445-2f1b-406c-b233-ee06e8237159')\"\n",
              "              title=\"Convert this dataframe to an interactive table.\"\n",
              "              style=\"display:none;\">\n",
              "        \n",
              "  <svg xmlns=\"http://www.w3.org/2000/svg\" height=\"24px\"viewBox=\"0 0 24 24\"\n",
              "       width=\"24px\">\n",
              "    <path d=\"M0 0h24v24H0V0z\" fill=\"none\"/>\n",
              "    <path d=\"M18.56 5.44l.94 2.06.94-2.06 2.06-.94-2.06-.94-.94-2.06-.94 2.06-2.06.94zm-11 1L8.5 8.5l.94-2.06 2.06-.94-2.06-.94L8.5 2.5l-.94 2.06-2.06.94zm10 10l.94 2.06.94-2.06 2.06-.94-2.06-.94-.94-2.06-.94 2.06-2.06.94z\"/><path d=\"M17.41 7.96l-1.37-1.37c-.4-.4-.92-.59-1.43-.59-.52 0-1.04.2-1.43.59L10.3 9.45l-7.72 7.72c-.78.78-.78 2.05 0 2.83L4 21.41c.39.39.9.59 1.41.59.51 0 1.02-.2 1.41-.59l7.78-7.78 2.81-2.81c.8-.78.8-2.07 0-2.86zM5.41 20L4 18.59l7.72-7.72 1.47 1.35L5.41 20z\"/>\n",
              "  </svg>\n",
              "      </button>\n",
              "      \n",
              "  <style>\n",
              "    .colab-df-container {\n",
              "      display:flex;\n",
              "      flex-wrap:wrap;\n",
              "      gap: 12px;\n",
              "    }\n",
              "\n",
              "    .colab-df-convert {\n",
              "      background-color: #E8F0FE;\n",
              "      border: none;\n",
              "      border-radius: 50%;\n",
              "      cursor: pointer;\n",
              "      display: none;\n",
              "      fill: #1967D2;\n",
              "      height: 32px;\n",
              "      padding: 0 0 0 0;\n",
              "      width: 32px;\n",
              "    }\n",
              "\n",
              "    .colab-df-convert:hover {\n",
              "      background-color: #E2EBFA;\n",
              "      box-shadow: 0px 1px 2px rgba(60, 64, 67, 0.3), 0px 1px 3px 1px rgba(60, 64, 67, 0.15);\n",
              "      fill: #174EA6;\n",
              "    }\n",
              "\n",
              "    [theme=dark] .colab-df-convert {\n",
              "      background-color: #3B4455;\n",
              "      fill: #D2E3FC;\n",
              "    }\n",
              "\n",
              "    [theme=dark] .colab-df-convert:hover {\n",
              "      background-color: #434B5C;\n",
              "      box-shadow: 0px 1px 3px 1px rgba(0, 0, 0, 0.15);\n",
              "      filter: drop-shadow(0px 1px 2px rgba(0, 0, 0, 0.3));\n",
              "      fill: #FFFFFF;\n",
              "    }\n",
              "  </style>\n",
              "\n",
              "      <script>\n",
              "        const buttonEl =\n",
              "          document.querySelector('#df-c2b01445-2f1b-406c-b233-ee06e8237159 button.colab-df-convert');\n",
              "        buttonEl.style.display =\n",
              "          google.colab.kernel.accessAllowed ? 'block' : 'none';\n",
              "\n",
              "        async function convertToInteractive(key) {\n",
              "          const element = document.querySelector('#df-c2b01445-2f1b-406c-b233-ee06e8237159');\n",
              "          const dataTable =\n",
              "            await google.colab.kernel.invokeFunction('convertToInteractive',\n",
              "                                                     [key], {});\n",
              "          if (!dataTable) return;\n",
              "\n",
              "          const docLinkHtml = 'Like what you see? Visit the ' +\n",
              "            '<a target=\"_blank\" href=https://colab.research.google.com/notebooks/data_table.ipynb>data table notebook</a>'\n",
              "            + ' to learn more about interactive tables.';\n",
              "          element.innerHTML = '';\n",
              "          dataTable['output_type'] = 'display_data';\n",
              "          await google.colab.output.renderOutput(dataTable, element);\n",
              "          const docLink = document.createElement('div');\n",
              "          docLink.innerHTML = docLinkHtml;\n",
              "          element.appendChild(docLink);\n",
              "        }\n",
              "      </script>\n",
              "    </div>\n",
              "  </div>\n",
              "  "
            ]
          },
          "metadata": {},
          "execution_count": 25
        }
      ]
    },
    {
      "cell_type": "code",
      "source": [
        "df.T"
      ],
      "metadata": {
        "colab": {
          "base_uri": "https://localhost:8080/",
          "height": 473
        },
        "id": "5bDB1y-xptaI",
        "outputId": "5aaaaa08-4c13-40ac-b67d-82e7e621bd1a"
      },
      "execution_count": 26,
      "outputs": [
        {
          "output_type": "execute_result",
          "data": {
            "text/plain": [
              "                                                          0     \\\n",
              "Spam                                                         0   \n",
              "Message      Go until jurong point, crazy.. Available only ...   \n",
              "Capitals                                                     3   \n",
              "Punctuation                                                 28   \n",
              "Length                                                     111   \n",
              "\n",
              "                                      1     \\\n",
              "Spam                                     0   \n",
              "Message      Ok lar... Joking wif u oni...   \n",
              "Capitals                                 2   \n",
              "Punctuation                             11   \n",
              "Length                                  29   \n",
              "\n",
              "                                                          2     \\\n",
              "Spam                                                         1   \n",
              "Message      Free entry in 2 a wkly comp to win FA Cup fina...   \n",
              "Capitals                                                    10   \n",
              "Punctuation                                                 33   \n",
              "Length                                                     155   \n",
              "\n",
              "                                                          3     \\\n",
              "Spam                                                         0   \n",
              "Message      U dun say so early hor... U c already then say...   \n",
              "Capitals                                                     2   \n",
              "Punctuation                                                 16   \n",
              "Length                                                      49   \n",
              "\n",
              "                                                          4     \\\n",
              "Spam                                                         0   \n",
              "Message      Nah I don't think he goes to usf, he lives aro...   \n",
              "Capitals                                                     2   \n",
              "Punctuation                                                 14   \n",
              "Length                                                      61   \n",
              "\n",
              "                                                          5     \\\n",
              "Spam                                                         1   \n",
              "Message      FreeMsg Hey there darling it's been 3 week's n...   \n",
              "Capitals                                                     7   \n",
              "Punctuation                                                 40   \n",
              "Length                                                     147   \n",
              "\n",
              "                                                          6     \\\n",
              "Spam                                                         0   \n",
              "Message      Even my brother is not like to speak with me. ...   \n",
              "Capitals                                                     2   \n",
              "Punctuation                                                 17   \n",
              "Length                                                      77   \n",
              "\n",
              "                                                          7     \\\n",
              "Spam                                                         0   \n",
              "Message      As per your request 'Melle Melle (Oru Minnamin...   \n",
              "Capitals                                                    10   \n",
              "Punctuation                                                 31   \n",
              "Length                                                     160   \n",
              "\n",
              "                                                          8     \\\n",
              "Spam                                                         1   \n",
              "Message      WINNER!! As a valued network customer you have...   \n",
              "Capitals                                                    12   \n",
              "Punctuation                                                 32   \n",
              "Length                                                     157   \n",
              "\n",
              "                                                          9     ...  \\\n",
              "Spam                                                         1  ...   \n",
              "Message      Had your mobile 11 months or more? U R entitle...  ...   \n",
              "Capitals                                                    14  ...   \n",
              "Punctuation                                                 30  ...   \n",
              "Length                                                     154  ...   \n",
              "\n",
              "                                                          5564  \\\n",
              "Spam                                                         0   \n",
              "Message      Ok lor... Sony ericsson salesman... I ask shuh...   \n",
              "Capitals                                                     3   \n",
              "Punctuation                                                 26   \n",
              "Length                                                      96   \n",
              "\n",
              "                            5565  \\\n",
              "Spam                           0   \n",
              "Message      Ard 6 like dat lor.   \n",
              "Capitals                       1   \n",
              "Punctuation                    5   \n",
              "Length                        19   \n",
              "\n",
              "                                                          5566          5567  \\\n",
              "Spam                                                         0             0   \n",
              "Message      Why don't you wait 'til at least wednesday to ...  Huh y lei...   \n",
              "Capitals                                                     1             1   \n",
              "Punctuation                                                 17             5   \n",
              "Length                                                      67            12   \n",
              "\n",
              "                                                          5568  \\\n",
              "Spam                                                         1   \n",
              "Message      REMINDER FROM O2: To get 2.50 pounds free call...   \n",
              "Capitals                                                    14   \n",
              "Punctuation                                                 30   \n",
              "Length                                                     147   \n",
              "\n",
              "                                                          5569  \\\n",
              "Spam                                                         1   \n",
              "Message      This is the 2nd time we have tried 2 contact u...   \n",
              "Capitals                                                     9   \n",
              "Punctuation                                                 38   \n",
              "Length                                                     160   \n",
              "\n",
              "                                             5570  \\\n",
              "Spam                                            0   \n",
              "Message      Will ü b going to esplanade fr home?   \n",
              "Capitals                                        1   \n",
              "Punctuation                                     8   \n",
              "Length                                         36   \n",
              "\n",
              "                                                          5571  \\\n",
              "Spam                                                         0   \n",
              "Message      Pity, * was in mood for that. So...any other s...   \n",
              "Capitals                                                     2   \n",
              "Punctuation                                                 16   \n",
              "Length                                                      57   \n",
              "\n",
              "                                                          5572  \\\n",
              "Spam                                                         0   \n",
              "Message      The guy did some bitching but I acted like i'd...   \n",
              "Capitals                                                     2   \n",
              "Punctuation                                                 26   \n",
              "Length                                                     125   \n",
              "\n",
              "                                   5573  \n",
              "Spam                                  0  \n",
              "Message      Rofl. Its true to its name  \n",
              "Capitals                              2  \n",
              "Punctuation                           6  \n",
              "Length                               26  \n",
              "\n",
              "[5 rows x 5574 columns]"
            ],
            "text/html": [
              "\n",
              "  <div id=\"df-ddc7b866-8083-468d-905a-d4aeae132894\">\n",
              "    <div class=\"colab-df-container\">\n",
              "      <div>\n",
              "<style scoped>\n",
              "    .dataframe tbody tr th:only-of-type {\n",
              "        vertical-align: middle;\n",
              "    }\n",
              "\n",
              "    .dataframe tbody tr th {\n",
              "        vertical-align: top;\n",
              "    }\n",
              "\n",
              "    .dataframe thead th {\n",
              "        text-align: right;\n",
              "    }\n",
              "</style>\n",
              "<table border=\"1\" class=\"dataframe\">\n",
              "  <thead>\n",
              "    <tr style=\"text-align: right;\">\n",
              "      <th></th>\n",
              "      <th>0</th>\n",
              "      <th>1</th>\n",
              "      <th>2</th>\n",
              "      <th>3</th>\n",
              "      <th>4</th>\n",
              "      <th>5</th>\n",
              "      <th>6</th>\n",
              "      <th>7</th>\n",
              "      <th>8</th>\n",
              "      <th>9</th>\n",
              "      <th>...</th>\n",
              "      <th>5564</th>\n",
              "      <th>5565</th>\n",
              "      <th>5566</th>\n",
              "      <th>5567</th>\n",
              "      <th>5568</th>\n",
              "      <th>5569</th>\n",
              "      <th>5570</th>\n",
              "      <th>5571</th>\n",
              "      <th>5572</th>\n",
              "      <th>5573</th>\n",
              "    </tr>\n",
              "  </thead>\n",
              "  <tbody>\n",
              "    <tr>\n",
              "      <th>Spam</th>\n",
              "      <td>0</td>\n",
              "      <td>0</td>\n",
              "      <td>1</td>\n",
              "      <td>0</td>\n",
              "      <td>0</td>\n",
              "      <td>1</td>\n",
              "      <td>0</td>\n",
              "      <td>0</td>\n",
              "      <td>1</td>\n",
              "      <td>1</td>\n",
              "      <td>...</td>\n",
              "      <td>0</td>\n",
              "      <td>0</td>\n",
              "      <td>0</td>\n",
              "      <td>0</td>\n",
              "      <td>1</td>\n",
              "      <td>1</td>\n",
              "      <td>0</td>\n",
              "      <td>0</td>\n",
              "      <td>0</td>\n",
              "      <td>0</td>\n",
              "    </tr>\n",
              "    <tr>\n",
              "      <th>Message</th>\n",
              "      <td>Go until jurong point, crazy.. Available only ...</td>\n",
              "      <td>Ok lar... Joking wif u oni...</td>\n",
              "      <td>Free entry in 2 a wkly comp to win FA Cup fina...</td>\n",
              "      <td>U dun say so early hor... U c already then say...</td>\n",
              "      <td>Nah I don't think he goes to usf, he lives aro...</td>\n",
              "      <td>FreeMsg Hey there darling it's been 3 week's n...</td>\n",
              "      <td>Even my brother is not like to speak with me. ...</td>\n",
              "      <td>As per your request 'Melle Melle (Oru Minnamin...</td>\n",
              "      <td>WINNER!! As a valued network customer you have...</td>\n",
              "      <td>Had your mobile 11 months or more? U R entitle...</td>\n",
              "      <td>...</td>\n",
              "      <td>Ok lor... Sony ericsson salesman... I ask shuh...</td>\n",
              "      <td>Ard 6 like dat lor.</td>\n",
              "      <td>Why don't you wait 'til at least wednesday to ...</td>\n",
              "      <td>Huh y lei...</td>\n",
              "      <td>REMINDER FROM O2: To get 2.50 pounds free call...</td>\n",
              "      <td>This is the 2nd time we have tried 2 contact u...</td>\n",
              "      <td>Will ü b going to esplanade fr home?</td>\n",
              "      <td>Pity, * was in mood for that. So...any other s...</td>\n",
              "      <td>The guy did some bitching but I acted like i'd...</td>\n",
              "      <td>Rofl. Its true to its name</td>\n",
              "    </tr>\n",
              "    <tr>\n",
              "      <th>Capitals</th>\n",
              "      <td>3</td>\n",
              "      <td>2</td>\n",
              "      <td>10</td>\n",
              "      <td>2</td>\n",
              "      <td>2</td>\n",
              "      <td>7</td>\n",
              "      <td>2</td>\n",
              "      <td>10</td>\n",
              "      <td>12</td>\n",
              "      <td>14</td>\n",
              "      <td>...</td>\n",
              "      <td>3</td>\n",
              "      <td>1</td>\n",
              "      <td>1</td>\n",
              "      <td>1</td>\n",
              "      <td>14</td>\n",
              "      <td>9</td>\n",
              "      <td>1</td>\n",
              "      <td>2</td>\n",
              "      <td>2</td>\n",
              "      <td>2</td>\n",
              "    </tr>\n",
              "    <tr>\n",
              "      <th>Punctuation</th>\n",
              "      <td>28</td>\n",
              "      <td>11</td>\n",
              "      <td>33</td>\n",
              "      <td>16</td>\n",
              "      <td>14</td>\n",
              "      <td>40</td>\n",
              "      <td>17</td>\n",
              "      <td>31</td>\n",
              "      <td>32</td>\n",
              "      <td>30</td>\n",
              "      <td>...</td>\n",
              "      <td>26</td>\n",
              "      <td>5</td>\n",
              "      <td>17</td>\n",
              "      <td>5</td>\n",
              "      <td>30</td>\n",
              "      <td>38</td>\n",
              "      <td>8</td>\n",
              "      <td>16</td>\n",
              "      <td>26</td>\n",
              "      <td>6</td>\n",
              "    </tr>\n",
              "    <tr>\n",
              "      <th>Length</th>\n",
              "      <td>111</td>\n",
              "      <td>29</td>\n",
              "      <td>155</td>\n",
              "      <td>49</td>\n",
              "      <td>61</td>\n",
              "      <td>147</td>\n",
              "      <td>77</td>\n",
              "      <td>160</td>\n",
              "      <td>157</td>\n",
              "      <td>154</td>\n",
              "      <td>...</td>\n",
              "      <td>96</td>\n",
              "      <td>19</td>\n",
              "      <td>67</td>\n",
              "      <td>12</td>\n",
              "      <td>147</td>\n",
              "      <td>160</td>\n",
              "      <td>36</td>\n",
              "      <td>57</td>\n",
              "      <td>125</td>\n",
              "      <td>26</td>\n",
              "    </tr>\n",
              "  </tbody>\n",
              "</table>\n",
              "<p>5 rows × 5574 columns</p>\n",
              "</div>\n",
              "      <button class=\"colab-df-convert\" onclick=\"convertToInteractive('df-ddc7b866-8083-468d-905a-d4aeae132894')\"\n",
              "              title=\"Convert this dataframe to an interactive table.\"\n",
              "              style=\"display:none;\">\n",
              "        \n",
              "  <svg xmlns=\"http://www.w3.org/2000/svg\" height=\"24px\"viewBox=\"0 0 24 24\"\n",
              "       width=\"24px\">\n",
              "    <path d=\"M0 0h24v24H0V0z\" fill=\"none\"/>\n",
              "    <path d=\"M18.56 5.44l.94 2.06.94-2.06 2.06-.94-2.06-.94-.94-2.06-.94 2.06-2.06.94zm-11 1L8.5 8.5l.94-2.06 2.06-.94-2.06-.94L8.5 2.5l-.94 2.06-2.06.94zm10 10l.94 2.06.94-2.06 2.06-.94-2.06-.94-.94-2.06-.94 2.06-2.06.94z\"/><path d=\"M17.41 7.96l-1.37-1.37c-.4-.4-.92-.59-1.43-.59-.52 0-1.04.2-1.43.59L10.3 9.45l-7.72 7.72c-.78.78-.78 2.05 0 2.83L4 21.41c.39.39.9.59 1.41.59.51 0 1.02-.2 1.41-.59l7.78-7.78 2.81-2.81c.8-.78.8-2.07 0-2.86zM5.41 20L4 18.59l7.72-7.72 1.47 1.35L5.41 20z\"/>\n",
              "  </svg>\n",
              "      </button>\n",
              "      \n",
              "  <style>\n",
              "    .colab-df-container {\n",
              "      display:flex;\n",
              "      flex-wrap:wrap;\n",
              "      gap: 12px;\n",
              "    }\n",
              "\n",
              "    .colab-df-convert {\n",
              "      background-color: #E8F0FE;\n",
              "      border: none;\n",
              "      border-radius: 50%;\n",
              "      cursor: pointer;\n",
              "      display: none;\n",
              "      fill: #1967D2;\n",
              "      height: 32px;\n",
              "      padding: 0 0 0 0;\n",
              "      width: 32px;\n",
              "    }\n",
              "\n",
              "    .colab-df-convert:hover {\n",
              "      background-color: #E2EBFA;\n",
              "      box-shadow: 0px 1px 2px rgba(60, 64, 67, 0.3), 0px 1px 3px 1px rgba(60, 64, 67, 0.15);\n",
              "      fill: #174EA6;\n",
              "    }\n",
              "\n",
              "    [theme=dark] .colab-df-convert {\n",
              "      background-color: #3B4455;\n",
              "      fill: #D2E3FC;\n",
              "    }\n",
              "\n",
              "    [theme=dark] .colab-df-convert:hover {\n",
              "      background-color: #434B5C;\n",
              "      box-shadow: 0px 1px 3px 1px rgba(0, 0, 0, 0.15);\n",
              "      filter: drop-shadow(0px 1px 2px rgba(0, 0, 0, 0.3));\n",
              "      fill: #FFFFFF;\n",
              "    }\n",
              "  </style>\n",
              "\n",
              "      <script>\n",
              "        const buttonEl =\n",
              "          document.querySelector('#df-ddc7b866-8083-468d-905a-d4aeae132894 button.colab-df-convert');\n",
              "        buttonEl.style.display =\n",
              "          google.colab.kernel.accessAllowed ? 'block' : 'none';\n",
              "\n",
              "        async function convertToInteractive(key) {\n",
              "          const element = document.querySelector('#df-ddc7b866-8083-468d-905a-d4aeae132894');\n",
              "          const dataTable =\n",
              "            await google.colab.kernel.invokeFunction('convertToInteractive',\n",
              "                                                     [key], {});\n",
              "          if (!dataTable) return;\n",
              "\n",
              "          const docLinkHtml = 'Like what you see? Visit the ' +\n",
              "            '<a target=\"_blank\" href=https://colab.research.google.com/notebooks/data_table.ipynb>data table notebook</a>'\n",
              "            + ' to learn more about interactive tables.';\n",
              "          element.innerHTML = '';\n",
              "          dataTable['output_type'] = 'display_data';\n",
              "          await google.colab.output.renderOutput(dataTable, element);\n",
              "          const docLink = document.createElement('div');\n",
              "          docLink.innerHTML = docLinkHtml;\n",
              "          element.appendChild(docLink);\n",
              "        }\n",
              "      </script>\n",
              "    </div>\n",
              "  </div>\n",
              "  "
            ]
          },
          "metadata": {},
          "execution_count": 26
        }
      ]
    },
    {
      "cell_type": "code",
      "source": [
        "len(df[df.Spam==1]),len(df[df.Spam==0]),len(df)"
      ],
      "metadata": {
        "colab": {
          "base_uri": "https://localhost:8080/"
        },
        "id": "c7A0VNTorkXB",
        "outputId": "abba3c80-5812-4144-e000-43e7289ee380"
      },
      "execution_count": 27,
      "outputs": [
        {
          "output_type": "execute_result",
          "data": {
            "text/plain": [
              "(747, 4827, 5574)"
            ]
          },
          "metadata": {},
          "execution_count": 27
        }
      ]
    },
    {
      "cell_type": "code",
      "source": [
        "train=df.sample(frac=0.8,random_state=42)\n",
        "test=df.drop(train.index)\n",
        "x_train = train[['Length', 'Capitals', 'Punctuation']]\n",
        "y_train = train[['Spam']]\n",
        "x_test = test[['Length', 'Capitals', 'Punctuation']]\n",
        "y_test = test[['Spam']]"
      ],
      "metadata": {
        "id": "gSp8pMBkOZDs"
      },
      "execution_count": 28,
      "outputs": []
    },
    {
      "cell_type": "code",
      "source": [
        "# Basic 1-layer neural network model for evaluation\n",
        "def make_model(input_dims=3, num_units=12):\n",
        "  model = tf.keras.Sequential()\n",
        "  # Adds a densely-connected layer with 12 units to the model:\n",
        "  model.add(tf.keras.layers.Dense(num_units, \n",
        "                                  input_dim=input_dims,\n",
        "                                  activation='relu'))\n",
        "  # Add a sigmoid layer with a binary output unit:\n",
        "  model.add(tf.keras.layers.Dense(1, activation='sigmoid'))\n",
        "  model.compile(loss='binary_crossentropy', optimizer='adam', \n",
        "                metrics=['accuracy'])\n",
        "  return model"
      ],
      "metadata": {
        "id": "c4sBW6kjOzAb"
      },
      "execution_count": 29,
      "outputs": []
    },
    {
      "cell_type": "code",
      "source": [
        "model = make_model()\n",
        "model.fit(x_train, y_train, epochs=10, batch_size=10)"
      ],
      "metadata": {
        "colab": {
          "base_uri": "https://localhost:8080/"
        },
        "id": "HdmMXDI2SKlb",
        "outputId": "b2855005-a728-4cf5-eabd-a3fa6f30781f"
      },
      "execution_count": 30,
      "outputs": [
        {
          "output_type": "stream",
          "name": "stdout",
          "text": [
            "Epoch 1/10\n",
            "446/446 [==============================] - 4s 3ms/step - loss: 1.2216 - accuracy: 0.8233\n",
            "Epoch 2/10\n",
            "446/446 [==============================] - 1s 3ms/step - loss: 0.5743 - accuracy: 0.8693\n",
            "Epoch 3/10\n",
            "446/446 [==============================] - 1s 3ms/step - loss: 0.3198 - accuracy: 0.9074\n",
            "Epoch 4/10\n",
            "446/446 [==============================] - 1s 3ms/step - loss: 0.2546 - accuracy: 0.9166\n",
            "Epoch 5/10\n",
            "446/446 [==============================] - 1s 3ms/step - loss: 0.2274 - accuracy: 0.9231\n",
            "Epoch 6/10\n",
            "446/446 [==============================] - 1s 3ms/step - loss: 0.2120 - accuracy: 0.9273\n",
            "Epoch 7/10\n",
            "446/446 [==============================] - 1s 3ms/step - loss: 0.2039 - accuracy: 0.9305\n",
            "Epoch 8/10\n",
            "446/446 [==============================] - 1s 3ms/step - loss: 0.2047 - accuracy: 0.9329\n",
            "Epoch 9/10\n",
            "446/446 [==============================] - 1s 3ms/step - loss: 0.1990 - accuracy: 0.9296\n",
            "Epoch 10/10\n",
            "446/446 [==============================] - 1s 3ms/step - loss: 0.1976 - accuracy: 0.9327\n"
          ]
        },
        {
          "output_type": "execute_result",
          "data": {
            "text/plain": [
              "<keras.callbacks.History at 0x7f77923c2a10>"
            ]
          },
          "metadata": {},
          "execution_count": 30
        }
      ]
    },
    {
      "cell_type": "code",
      "source": [
        "model.evaluate(x_test, y_test)"
      ],
      "metadata": {
        "colab": {
          "base_uri": "https://localhost:8080/"
        },
        "id": "5JgnL_c7WaJl",
        "outputId": "6ca49e34-7f14-45e9-c9bb-05ee85ac6d03"
      },
      "execution_count": 31,
      "outputs": [
        {
          "output_type": "stream",
          "name": "stdout",
          "text": [
            "35/35 [==============================] - 0s 2ms/step - loss: 0.1997 - accuracy: 0.9283\n"
          ]
        },
        {
          "output_type": "execute_result",
          "data": {
            "text/plain": [
              "[0.1996699720621109, 0.9282511472702026]"
            ]
          },
          "metadata": {},
          "execution_count": 31
        }
      ]
    },
    {
      "cell_type": "code",
      "source": [
        "#y_train_pred = model.predict_classes(x_train)\n",
        "y_train_pred = (model.predict(x_train) > 0.5).astype(\"int32\")\n",
        "tf.math.confusion_matrix(tf.constant(y_train.Spam), \n",
        "                         y_train_pred)"
      ],
      "metadata": {
        "colab": {
          "base_uri": "https://localhost:8080/"
        },
        "id": "CHJuAhapF5U4",
        "outputId": "cda978dc-f850-47ab-a3a3-e03b6a2c3d8d"
      },
      "execution_count": 33,
      "outputs": [
        {
          "output_type": "execute_result",
          "data": {
            "text/plain": [
              "<tf.Tensor: shape=(2, 2), dtype=int32, numpy=\n",
              "array([[3790,   77],\n",
              "       [ 217,  375]], dtype=int32)>"
            ]
          },
          "metadata": {},
          "execution_count": 33
        }
      ]
    },
    {
      "cell_type": "markdown",
      "source": [
        "# Continuación\n",
        "___"
      ],
      "metadata": {
        "id": "ejoP9vKlHtsw"
      }
    },
    {
      "cell_type": "markdown",
      "source": [
        "[https://stanfordnlp.github.io/stanfordnlp/](https://stanfordnlp.github.io/stanfordnlp/)\n",
        "\n",
        "[https://stanfordnlp.github.io/stanza/](https://stanfordnlp.github.io/stanza/)"
      ],
      "metadata": {
        "id": "Bszptnv6PPPs"
      }
    },
    {
      "cell_type": "code",
      "source": [
        "#!pip install stanfordnlp\n",
        "!pip install stanza"
      ],
      "metadata": {
        "colab": {
          "base_uri": "https://localhost:8080/"
        },
        "id": "ICgAe19KHz0J",
        "outputId": "1aaaf271-1dd3-4c44-bd20-1ba12e1ed706"
      },
      "execution_count": 2,
      "outputs": [
        {
          "output_type": "stream",
          "name": "stdout",
          "text": [
            "Looking in indexes: https://pypi.org/simple, https://us-python.pkg.dev/colab-wheels/public/simple/\n",
            "Requirement already satisfied: stanza in /usr/local/lib/python3.7/dist-packages (1.4.0)\n",
            "Requirement already satisfied: numpy in /usr/local/lib/python3.7/dist-packages (from stanza) (1.21.6)\n",
            "Requirement already satisfied: tqdm in /usr/local/lib/python3.7/dist-packages (from stanza) (4.64.0)\n",
            "Requirement already satisfied: six in /usr/local/lib/python3.7/dist-packages (from stanza) (1.15.0)\n",
            "Requirement already satisfied: protobuf in /usr/local/lib/python3.7/dist-packages (from stanza) (3.17.3)\n",
            "Requirement already satisfied: transformers in /usr/local/lib/python3.7/dist-packages (from stanza) (4.21.1)\n",
            "Requirement already satisfied: requests in /usr/local/lib/python3.7/dist-packages (from stanza) (2.23.0)\n",
            "Requirement already satisfied: torch>=1.3.0 in /usr/local/lib/python3.7/dist-packages (from stanza) (1.8.0+cu111)\n",
            "Requirement already satisfied: emoji in /usr/local/lib/python3.7/dist-packages (from stanza) (2.0.0)\n",
            "Requirement already satisfied: typing-extensions in /usr/local/lib/python3.7/dist-packages (from torch>=1.3.0->stanza) (4.1.1)\n",
            "Requirement already satisfied: chardet<4,>=3.0.2 in /usr/local/lib/python3.7/dist-packages (from requests->stanza) (3.0.4)\n",
            "Requirement already satisfied: certifi>=2017.4.17 in /usr/local/lib/python3.7/dist-packages (from requests->stanza) (2022.6.15)\n",
            "Requirement already satisfied: urllib3!=1.25.0,!=1.25.1,<1.26,>=1.21.1 in /usr/local/lib/python3.7/dist-packages (from requests->stanza) (1.24.3)\n",
            "Requirement already satisfied: idna<3,>=2.5 in /usr/local/lib/python3.7/dist-packages (from requests->stanza) (2.10)\n",
            "Requirement already satisfied: huggingface-hub<1.0,>=0.1.0 in /usr/local/lib/python3.7/dist-packages (from transformers->stanza) (0.9.0)\n",
            "Requirement already satisfied: pyyaml>=5.1 in /usr/local/lib/python3.7/dist-packages (from transformers->stanza) (6.0)\n",
            "Requirement already satisfied: regex!=2019.12.17 in /usr/local/lib/python3.7/dist-packages (from transformers->stanza) (2022.6.2)\n",
            "Requirement already satisfied: filelock in /usr/local/lib/python3.7/dist-packages (from transformers->stanza) (3.8.0)\n",
            "Requirement already satisfied: packaging>=20.0 in /usr/local/lib/python3.7/dist-packages (from transformers->stanza) (21.3)\n",
            "Requirement already satisfied: tokenizers!=0.11.3,<0.13,>=0.11.1 in /usr/local/lib/python3.7/dist-packages (from transformers->stanza) (0.12.1)\n",
            "Requirement already satisfied: importlib-metadata in /usr/local/lib/python3.7/dist-packages (from transformers->stanza) (4.12.0)\n",
            "Requirement already satisfied: pyparsing!=3.0.5,>=2.0.2 in /usr/local/lib/python3.7/dist-packages (from packaging>=20.0->transformers->stanza) (3.0.9)\n",
            "Requirement already satisfied: zipp>=0.5 in /usr/local/lib/python3.7/dist-packages (from importlib-metadata->transformers->stanza) (3.8.1)\n"
          ]
        }
      ]
    },
    {
      "cell_type": "code",
      "source": [
        "import stanza as stnlp\n",
        "stnlp.download('en')\n",
        "#stnlp.download('es')"
      ],
      "metadata": {
        "colab": {
          "base_uri": "https://localhost:8080/",
          "height": 158,
          "referenced_widgets": [
            "724749415f8a4f458f5c37233f62ee77",
            "695b03da78984d838a843e712b29a3ed",
            "4b4ad95254aa449aa4ddcc7523f31bbb",
            "01ef4f99b3ca492dbfced7a2fc9f0e42",
            "c0fea3dcb1774e27a271a6d75240ce33",
            "080ccfb4952646e4a89d877b4bc65b74",
            "21d0236ffe564cefb74fb7eacdf5d001",
            "0c5fef8b45274e8086f417552cad3481",
            "09459bce082348ee802cdd72e1b45631",
            "aa644ace0ee1472fa2a994dc66075283",
            "c0292251a03d4599ac52b96faf2e214a"
          ]
        },
        "id": "opnUsnuYUU21",
        "outputId": "3be0de38-74ba-4bf1-ceec-c9d641c260db"
      },
      "execution_count": 3,
      "outputs": [
        {
          "output_type": "display_data",
          "data": {
            "text/plain": [
              "Downloading https://raw.githubusercontent.com/stanfordnlp/stanza-resources/main/resources_1.4.0.json:   0%|   …"
            ],
            "application/vnd.jupyter.widget-view+json": {
              "version_major": 2,
              "version_minor": 0,
              "model_id": "724749415f8a4f458f5c37233f62ee77"
            }
          },
          "metadata": {}
        },
        {
          "output_type": "stream",
          "name": "stderr",
          "text": [
            "INFO:stanza:Downloading default packages for language: en (English)...\n",
            "INFO:stanza:File exists: /root/stanza_resources/en/default.zip\n",
            "INFO:stanza:Finished downloading models and saved to /root/stanza_resources.\n"
          ]
        }
      ]
    },
    {
      "cell_type": "code",
      "source": [
        "#import stanfordnlp as snlp\n",
        "#snlp.download('en')\n",
        "#snlp.download('es')"
      ],
      "metadata": {
        "id": "uOluiqBFHvs9"
      },
      "execution_count": 18,
      "outputs": []
    },
    {
      "cell_type": "code",
      "source": [
        "!pip3 install torch --extra-index-url https://download.pytorch.org/whl/cu113\n",
        "!pip install torch==1.8.0+cu111 torchvision==0.9.0+cu111 torchaudio==0.8.0 -f https://download.pytorch.org/whl/torch_stable.html"
      ],
      "metadata": {
        "colab": {
          "base_uri": "https://localhost:8080/",
          "height": 818
        },
        "id": "X2s1Mu3WaXcK",
        "outputId": "d8231ab0-1edf-40f7-c4e1-eeb6c2fbc7ef"
      },
      "execution_count": 40,
      "outputs": [
        {
          "output_type": "stream",
          "name": "stdout",
          "text": [
            "Looking in indexes: https://pypi.org/simple, https://us-python.pkg.dev/colab-wheels/public/simple/, https://download.pytorch.org/whl/cu113\n",
            "Requirement already satisfied: torch in /usr/local/lib/python3.7/dist-packages (1.12.1+cu113)\n",
            "Requirement already satisfied: typing-extensions in /usr/local/lib/python3.7/dist-packages (from torch) (4.1.1)\n",
            "Looking in indexes: https://pypi.org/simple, https://us-python.pkg.dev/colab-wheels/public/simple/\n",
            "Looking in links: https://download.pytorch.org/whl/torch_stable.html\n",
            "Collecting torch==1.8.0+cu111\n",
            "  Downloading https://download.pytorch.org/whl/cu111/torch-1.8.0%2Bcu111-cp37-cp37m-linux_x86_64.whl (1982.2 MB)\n",
            "\u001b[K     |█████████████▌                  | 834.1 MB 1.4 MB/s eta 0:14:04tcmalloc: large alloc 1147494400 bytes == 0x398f8000 @  0x7fe3cf821615 0x592b76 0x4df71e 0x59afff 0x515655 0x549576 0x593fce 0x548ae9 0x51566f 0x549576 0x593fce 0x548ae9 0x5127f1 0x598e3b 0x511f68 0x598e3b 0x511f68 0x598e3b 0x511f68 0x4bc98a 0x532e76 0x594b72 0x515600 0x549576 0x593fce 0x548ae9 0x5127f1 0x549576 0x593fce 0x5118f8 0x593dd7\n",
            "\u001b[K     |█████████████████               | 1055.7 MB 1.4 MB/s eta 0:11:24tcmalloc: large alloc 1434370048 bytes == 0x7df4e000 @  0x7fe3cf821615 0x592b76 0x4df71e 0x59afff 0x515655 0x549576 0x593fce 0x548ae9 0x51566f 0x549576 0x593fce 0x548ae9 0x5127f1 0x598e3b 0x511f68 0x598e3b 0x511f68 0x598e3b 0x511f68 0x4bc98a 0x532e76 0x594b72 0x515600 0x549576 0x593fce 0x548ae9 0x5127f1 0x549576 0x593fce 0x5118f8 0x593dd7\n",
            "\u001b[K     |█████████████████████▋          | 1336.2 MB 5.3 MB/s eta 0:02:02tcmalloc: large alloc 1792966656 bytes == 0x2d80000 @  0x7fe3cf821615 0x592b76 0x4df71e 0x59afff 0x515655 0x549576 0x593fce 0x548ae9 0x51566f 0x549576 0x593fce 0x548ae9 0x5127f1 0x598e3b 0x511f68 0x598e3b 0x511f68 0x598e3b 0x511f68 0x4bc98a 0x532e76 0x594b72 0x515600 0x549576 0x593fce 0x548ae9 0x5127f1 0x549576 0x593fce 0x5118f8 0x593dd7\n",
            "\u001b[K     |███████████████████████████▎    | 1691.1 MB 1.3 MB/s eta 0:03:50tcmalloc: large alloc 2241208320 bytes == 0x6db68000 @  0x7fe3cf821615 0x592b76 0x4df71e 0x59afff 0x515655 0x549576 0x593fce 0x548ae9 0x51566f 0x549576 0x593fce 0x548ae9 0x5127f1 0x598e3b 0x511f68 0x598e3b 0x511f68 0x598e3b 0x511f68 0x4bc98a 0x532e76 0x594b72 0x515600 0x549576 0x593fce 0x548ae9 0x5127f1 0x549576 0x593fce 0x5118f8 0x593dd7\n",
            "\u001b[K     |████████████████████████████████| 1982.2 MB 1.2 MB/s eta 0:00:01tcmalloc: large alloc 1982251008 bytes == 0xf34ca000 @  0x7fe3cf8201e7 0x4a3940 0x4a39cc 0x592b76 0x4df71e 0x59afff 0x515655 0x549576 0x593fce 0x511e2c 0x549576 0x593fce 0x511e2c 0x549576 0x593fce 0x511e2c 0x549576 0x593fce 0x511e2c 0x549576 0x593fce 0x511e2c 0x593dd7 0x511e2c 0x549576 0x593fce 0x548ae9 0x5127f1 0x549576 0x593fce 0x548ae9\n",
            "tcmalloc: large alloc 2477817856 bytes == 0x1ddbee000 @  0x7fe3cf821615 0x592b76 0x4df71e 0x59afff 0x515655 0x549576 0x593fce 0x511e2c 0x549576 0x593fce 0x511e2c 0x549576 0x593fce 0x511e2c 0x549576 0x593fce 0x511e2c 0x549576 0x593fce 0x511e2c 0x593dd7 0x511e2c 0x549576 0x593fce 0x548ae9 0x5127f1 0x549576 0x593fce 0x548ae9 0x5127f1 0x549576\n",
            "\u001b[K     |████████████████████████████████| 1982.2 MB 5.1 kB/s \n",
            "\u001b[?25hCollecting torchvision==0.9.0+cu111\n",
            "  Downloading https://download.pytorch.org/whl/cu111/torchvision-0.9.0%2Bcu111-cp37-cp37m-linux_x86_64.whl (17.6 MB)\n",
            "\u001b[K     |████████████████████████████████| 17.6 MB 50 kB/s \n",
            "\u001b[?25hCollecting torchaudio==0.8.0\n",
            "  Downloading torchaudio-0.8.0-cp37-cp37m-manylinux1_x86_64.whl (1.9 MB)\n",
            "\u001b[K     |████████████████████████████████| 1.9 MB 9.1 MB/s \n",
            "\u001b[?25hRequirement already satisfied: numpy in /usr/local/lib/python3.7/dist-packages (from torch==1.8.0+cu111) (1.21.6)\n",
            "Requirement already satisfied: typing-extensions in /usr/local/lib/python3.7/dist-packages (from torch==1.8.0+cu111) (4.1.1)\n",
            "Requirement already satisfied: pillow>=4.1.1 in /usr/local/lib/python3.7/dist-packages (from torchvision==0.9.0+cu111) (7.1.2)\n",
            "Installing collected packages: torch, torchvision, torchaudio\n",
            "  Attempting uninstall: torch\n",
            "    Found existing installation: torch 1.12.1+cu113\n",
            "    Uninstalling torch-1.12.1+cu113:\n",
            "      Successfully uninstalled torch-1.12.1+cu113\n",
            "  Attempting uninstall: torchvision\n",
            "    Found existing installation: torchvision 0.13.1+cu113\n",
            "    Uninstalling torchvision-0.13.1+cu113:\n",
            "      Successfully uninstalled torchvision-0.13.1+cu113\n",
            "  Attempting uninstall: torchaudio\n",
            "    Found existing installation: torchaudio 0.12.1+cu113\n",
            "    Uninstalling torchaudio-0.12.1+cu113:\n",
            "      Successfully uninstalled torchaudio-0.12.1+cu113\n",
            "\u001b[31mERROR: pip's dependency resolver does not currently take into account all the packages that are installed. This behaviour is the source of the following dependency conflicts.\n",
            "torchtext 0.13.1 requires torch==1.12.1, but you have torch 1.8.0+cu111 which is incompatible.\u001b[0m\n",
            "Successfully installed torch-1.8.0+cu111 torchaudio-0.8.0 torchvision-0.9.0+cu111\n"
          ]
        },
        {
          "output_type": "display_data",
          "data": {
            "application/vnd.colab-display-data+json": {
              "pip_warning": {
                "packages": [
                  "torch"
                ]
              }
            }
          },
          "metadata": {}
        }
      ]
    },
    {
      "cell_type": "code",
      "source": [
        "en_st = stnlp.Pipeline(lang='en') #, processors='tokenize')\n",
        "es_st = stnlp.Pipeline(lang='es') #, processors='tokenize')"
      ],
      "metadata": {
        "colab": {
          "base_uri": "https://localhost:8080/",
          "height": 939,
          "referenced_widgets": [
            "1635144a42b34eedb745518e11262b1b",
            "26a84ad6919246fca93f888b1330e4ea",
            "2d8d1462a9474e4c8e8927f9b360d9c8",
            "b3a539a586214332829c729e4891a330",
            "d3fa3cdc46754d38b84a7272eb554cbf",
            "e17bb020f3334b5e9c65154494a7288c",
            "54eea5cd60ae40578af93ba8c0d3e0a2",
            "a05cd722ac11473aaba051f76c98db71",
            "07b517ca91844587bbda12b91ef4e388",
            "598c8241b03f43d5ad31a455be42e1fb",
            "285c2d3dd3964bc4acebc41156b771e9",
            "1e2cb5fb579748daa2ef63f79c5820c4",
            "abac2b6da2534582a3b67ace284bcdb6",
            "774a0e6afb4b443a82cc03ee324758c0",
            "d78f84f89f844e05afaf112d126ccd04",
            "66c2fc18a2dd4f6c8eec37deb9a030ae",
            "90225f6f339a4a14985c43228246ff1b",
            "c920bc95b9404f7fb1c70af3e608b574",
            "f6711ff9105548c284725aea25b0fcc9",
            "acecef7d531d451ea34eba3412a04c67",
            "a281b0889a524b3c8577b8e4b5d7e056",
            "35a62a2c9e394d0eb5c17ef10a4542a5"
          ]
        },
        "id": "FbByptW7Umzr",
        "outputId": "cd012105-5bec-4b58-ea65-d6b3ac555c6e"
      },
      "execution_count": 4,
      "outputs": [
        {
          "output_type": "display_data",
          "data": {
            "text/plain": [
              "Downloading https://raw.githubusercontent.com/stanfordnlp/stanza-resources/main/resources_1.4.0.json:   0%|   …"
            ],
            "application/vnd.jupyter.widget-view+json": {
              "version_major": 2,
              "version_minor": 0,
              "model_id": "1635144a42b34eedb745518e11262b1b"
            }
          },
          "metadata": {}
        },
        {
          "output_type": "stream",
          "name": "stderr",
          "text": [
            "INFO:stanza:Loading these models for language: en (English):\n",
            "============================\n",
            "| Processor    | Package   |\n",
            "----------------------------\n",
            "| tokenize     | combined  |\n",
            "| pos          | combined  |\n",
            "| lemma        | combined  |\n",
            "| depparse     | combined  |\n",
            "| sentiment    | sstplus   |\n",
            "| constituency | wsj       |\n",
            "| ner          | ontonotes |\n",
            "============================\n",
            "\n",
            "INFO:stanza:Use device: gpu\n",
            "INFO:stanza:Loading: tokenize\n",
            "INFO:stanza:Loading: pos\n",
            "INFO:stanza:Loading: lemma\n",
            "INFO:stanza:Loading: depparse\n",
            "INFO:stanza:Loading: sentiment\n",
            "INFO:stanza:Loading: constituency\n",
            "INFO:stanza:Loading: ner\n",
            "INFO:stanza:Done loading processors!\n"
          ]
        },
        {
          "output_type": "display_data",
          "data": {
            "text/plain": [
              "Downloading https://raw.githubusercontent.com/stanfordnlp/stanza-resources/main/resources_1.4.0.json:   0%|   …"
            ],
            "application/vnd.jupyter.widget-view+json": {
              "version_major": 2,
              "version_minor": 0,
              "model_id": "1e2cb5fb579748daa2ef63f79c5820c4"
            }
          },
          "metadata": {}
        },
        {
          "output_type": "stream",
          "name": "stderr",
          "text": [
            "INFO:stanza:Loading these models for language: es (Spanish):\n",
            "=======================\n",
            "| Processor | Package |\n",
            "-----------------------\n",
            "| tokenize  | ancora  |\n",
            "| mwt       | ancora  |\n",
            "| pos       | ancora  |\n",
            "| lemma     | ancora  |\n",
            "| depparse  | ancora  |\n",
            "| ner       | conll02 |\n",
            "=======================\n",
            "\n",
            "INFO:stanza:Use device: gpu\n",
            "INFO:stanza:Loading: tokenize\n",
            "INFO:stanza:Loading: mwt\n",
            "INFO:stanza:Loading: pos\n",
            "INFO:stanza:Loading: lemma\n",
            "INFO:stanza:Loading: depparse\n",
            "INFO:stanza:Loading: ner\n",
            "INFO:stanza:Done loading processors!\n"
          ]
        }
      ]
    },
    {
      "cell_type": "code",
      "source": [
        "#en = snlp.Pipeline(lang='en') #, processors='tokenize')\n",
        "#es = snlp.Pipeline(lang='es') #, processors='tokenize')"
      ],
      "metadata": {
        "id": "ex3XqAeSIRxY"
      },
      "execution_count": 30,
      "outputs": []
    },
    {
      "cell_type": "code",
      "source": [
        "sentence = '''Go until Jurong point, crazy.. Available only in bugis\n",
        " great world'''"
      ],
      "metadata": {
        "id": "SsfCx73_IgOM"
      },
      "execution_count": 5,
      "outputs": []
    },
    {
      "cell_type": "code",
      "source": [
        "es_st(\"\"\"Hola cómo estás? Yo estoy bien. \n",
        "Creo que ya es tarde.\n",
        "¿Qué hora es?\"\"\")"
      ],
      "metadata": {
        "colab": {
          "base_uri": "https://localhost:8080/"
        },
        "id": "I0PxkawTS9PX",
        "outputId": "aa97bc99-8252-4f43-e414-aff8575d2b28"
      },
      "execution_count": 7,
      "outputs": [
        {
          "output_type": "execute_result",
          "data": {
            "text/plain": [
              "[\n",
              "  [\n",
              "    {\n",
              "      \"id\": 1,\n",
              "      \"text\": \"Hola\",\n",
              "      \"lemma\": \"Hola\",\n",
              "      \"upos\": \"INTJ\",\n",
              "      \"head\": 2,\n",
              "      \"deprel\": \"dep\",\n",
              "      \"start_char\": 0,\n",
              "      \"end_char\": 4,\n",
              "      \"ner\": \"O\",\n",
              "      \"multi_ner\": [\n",
              "        \"O\"\n",
              "      ]\n",
              "    },\n",
              "    {\n",
              "      \"id\": 2,\n",
              "      \"text\": \"cómo\",\n",
              "      \"lemma\": \"cómo\",\n",
              "      \"upos\": \"PRON\",\n",
              "      \"feats\": \"PronType=Ind\",\n",
              "      \"head\": 3,\n",
              "      \"deprel\": \"obl\",\n",
              "      \"start_char\": 5,\n",
              "      \"end_char\": 9,\n",
              "      \"ner\": \"O\",\n",
              "      \"multi_ner\": [\n",
              "        \"O\"\n",
              "      ]\n",
              "    },\n",
              "    {\n",
              "      \"id\": 3,\n",
              "      \"text\": \"estás\",\n",
              "      \"lemma\": \"estar\",\n",
              "      \"upos\": \"VERB\",\n",
              "      \"feats\": \"Mood=Ind|Number=Sing|Person=2|Tense=Pres|VerbForm=Fin\",\n",
              "      \"head\": 0,\n",
              "      \"deprel\": \"root\",\n",
              "      \"start_char\": 10,\n",
              "      \"end_char\": 15,\n",
              "      \"ner\": \"O\",\n",
              "      \"multi_ner\": [\n",
              "        \"O\"\n",
              "      ]\n",
              "    },\n",
              "    {\n",
              "      \"id\": 4,\n",
              "      \"text\": \"?\",\n",
              "      \"lemma\": \"?\",\n",
              "      \"upos\": \"PUNCT\",\n",
              "      \"feats\": \"PunctSide=Fin|PunctType=Qest\",\n",
              "      \"head\": 3,\n",
              "      \"deprel\": \"punct\",\n",
              "      \"start_char\": 15,\n",
              "      \"end_char\": 16,\n",
              "      \"ner\": \"O\",\n",
              "      \"multi_ner\": [\n",
              "        \"O\"\n",
              "      ]\n",
              "    }\n",
              "  ],\n",
              "  [\n",
              "    {\n",
              "      \"id\": 1,\n",
              "      \"text\": \"Yo\",\n",
              "      \"lemma\": \"yo\",\n",
              "      \"upos\": \"PRON\",\n",
              "      \"feats\": \"Case=Nom|Number=Sing|Person=1|PronType=Prs\",\n",
              "      \"head\": 3,\n",
              "      \"deprel\": \"nsubj\",\n",
              "      \"start_char\": 17,\n",
              "      \"end_char\": 19,\n",
              "      \"ner\": \"O\",\n",
              "      \"multi_ner\": [\n",
              "        \"O\"\n",
              "      ]\n",
              "    },\n",
              "    {\n",
              "      \"id\": 2,\n",
              "      \"text\": \"estoy\",\n",
              "      \"lemma\": \"estar\",\n",
              "      \"upos\": \"AUX\",\n",
              "      \"feats\": \"Mood=Ind|Number=Sing|Person=1|Tense=Pres|VerbForm=Fin\",\n",
              "      \"head\": 3,\n",
              "      \"deprel\": \"cop\",\n",
              "      \"start_char\": 20,\n",
              "      \"end_char\": 25,\n",
              "      \"ner\": \"O\",\n",
              "      \"multi_ner\": [\n",
              "        \"O\"\n",
              "      ]\n",
              "    },\n",
              "    {\n",
              "      \"id\": 3,\n",
              "      \"text\": \"bien\",\n",
              "      \"lemma\": \"bien\",\n",
              "      \"upos\": \"ADV\",\n",
              "      \"head\": 0,\n",
              "      \"deprel\": \"root\",\n",
              "      \"start_char\": 26,\n",
              "      \"end_char\": 30,\n",
              "      \"ner\": \"O\",\n",
              "      \"multi_ner\": [\n",
              "        \"O\"\n",
              "      ]\n",
              "    },\n",
              "    {\n",
              "      \"id\": 4,\n",
              "      \"text\": \".\",\n",
              "      \"lemma\": \".\",\n",
              "      \"upos\": \"PUNCT\",\n",
              "      \"feats\": \"PunctType=Peri\",\n",
              "      \"head\": 3,\n",
              "      \"deprel\": \"punct\",\n",
              "      \"start_char\": 30,\n",
              "      \"end_char\": 31,\n",
              "      \"ner\": \"O\",\n",
              "      \"multi_ner\": [\n",
              "        \"O\"\n",
              "      ]\n",
              "    }\n",
              "  ],\n",
              "  [\n",
              "    {\n",
              "      \"id\": 1,\n",
              "      \"text\": \"Creo\",\n",
              "      \"lemma\": \"creer\",\n",
              "      \"upos\": \"VERB\",\n",
              "      \"feats\": \"Mood=Ind|Number=Sing|Person=1|Tense=Pres|VerbForm=Fin\",\n",
              "      \"head\": 0,\n",
              "      \"deprel\": \"root\",\n",
              "      \"start_char\": 33,\n",
              "      \"end_char\": 37,\n",
              "      \"ner\": \"O\",\n",
              "      \"multi_ner\": [\n",
              "        \"O\"\n",
              "      ]\n",
              "    },\n",
              "    {\n",
              "      \"id\": 2,\n",
              "      \"text\": \"que\",\n",
              "      \"lemma\": \"que\",\n",
              "      \"upos\": \"SCONJ\",\n",
              "      \"head\": 5,\n",
              "      \"deprel\": \"mark\",\n",
              "      \"start_char\": 38,\n",
              "      \"end_char\": 41,\n",
              "      \"ner\": \"O\",\n",
              "      \"multi_ner\": [\n",
              "        \"O\"\n",
              "      ]\n",
              "    },\n",
              "    {\n",
              "      \"id\": 3,\n",
              "      \"text\": \"ya\",\n",
              "      \"lemma\": \"ya\",\n",
              "      \"upos\": \"ADV\",\n",
              "      \"head\": 5,\n",
              "      \"deprel\": \"advmod\",\n",
              "      \"start_char\": 42,\n",
              "      \"end_char\": 44,\n",
              "      \"ner\": \"O\",\n",
              "      \"multi_ner\": [\n",
              "        \"O\"\n",
              "      ]\n",
              "    },\n",
              "    {\n",
              "      \"id\": 4,\n",
              "      \"text\": \"es\",\n",
              "      \"lemma\": \"ser\",\n",
              "      \"upos\": \"AUX\",\n",
              "      \"feats\": \"Mood=Ind|Number=Sing|Person=3|Tense=Pres|VerbForm=Fin\",\n",
              "      \"head\": 5,\n",
              "      \"deprel\": \"cop\",\n",
              "      \"start_char\": 45,\n",
              "      \"end_char\": 47,\n",
              "      \"ner\": \"O\",\n",
              "      \"multi_ner\": [\n",
              "        \"O\"\n",
              "      ]\n",
              "    },\n",
              "    {\n",
              "      \"id\": 5,\n",
              "      \"text\": \"tarde\",\n",
              "      \"lemma\": \"tarde\",\n",
              "      \"upos\": \"ADV\",\n",
              "      \"head\": 1,\n",
              "      \"deprel\": \"ccomp\",\n",
              "      \"start_char\": 48,\n",
              "      \"end_char\": 53,\n",
              "      \"ner\": \"O\",\n",
              "      \"multi_ner\": [\n",
              "        \"O\"\n",
              "      ]\n",
              "    },\n",
              "    {\n",
              "      \"id\": 6,\n",
              "      \"text\": \".\",\n",
              "      \"lemma\": \".\",\n",
              "      \"upos\": \"PUNCT\",\n",
              "      \"feats\": \"PunctType=Peri\",\n",
              "      \"head\": 1,\n",
              "      \"deprel\": \"punct\",\n",
              "      \"start_char\": 53,\n",
              "      \"end_char\": 54,\n",
              "      \"ner\": \"O\",\n",
              "      \"multi_ner\": [\n",
              "        \"O\"\n",
              "      ]\n",
              "    }\n",
              "  ],\n",
              "  [\n",
              "    {\n",
              "      \"id\": 1,\n",
              "      \"text\": \"¿\",\n",
              "      \"lemma\": \"¿\",\n",
              "      \"upos\": \"PUNCT\",\n",
              "      \"feats\": \"PunctSide=Ini|PunctType=Qest\",\n",
              "      \"head\": 3,\n",
              "      \"deprel\": \"punct\",\n",
              "      \"start_char\": 55,\n",
              "      \"end_char\": 56,\n",
              "      \"ner\": \"O\",\n",
              "      \"multi_ner\": [\n",
              "        \"O\"\n",
              "      ]\n",
              "    },\n",
              "    {\n",
              "      \"id\": 2,\n",
              "      \"text\": \"Qué\",\n",
              "      \"lemma\": \"qué\",\n",
              "      \"upos\": \"DET\",\n",
              "      \"feats\": \"PronType=Int,Rel\",\n",
              "      \"head\": 3,\n",
              "      \"deprel\": \"det\",\n",
              "      \"start_char\": 56,\n",
              "      \"end_char\": 59,\n",
              "      \"ner\": \"O\",\n",
              "      \"multi_ner\": [\n",
              "        \"O\"\n",
              "      ]\n",
              "    },\n",
              "    {\n",
              "      \"id\": 3,\n",
              "      \"text\": \"hora\",\n",
              "      \"lemma\": \"hora\",\n",
              "      \"upos\": \"NOUN\",\n",
              "      \"feats\": \"Gender=Fem|Number=Sing\",\n",
              "      \"head\": 0,\n",
              "      \"deprel\": \"root\",\n",
              "      \"start_char\": 60,\n",
              "      \"end_char\": 64,\n",
              "      \"ner\": \"O\",\n",
              "      \"multi_ner\": [\n",
              "        \"O\"\n",
              "      ]\n",
              "    },\n",
              "    {\n",
              "      \"id\": 4,\n",
              "      \"text\": \"es\",\n",
              "      \"lemma\": \"ser\",\n",
              "      \"upos\": \"AUX\",\n",
              "      \"feats\": \"Mood=Ind|Number=Sing|Person=3|Tense=Pres|VerbForm=Fin\",\n",
              "      \"head\": 3,\n",
              "      \"deprel\": \"cop\",\n",
              "      \"start_char\": 65,\n",
              "      \"end_char\": 67,\n",
              "      \"ner\": \"O\",\n",
              "      \"multi_ner\": [\n",
              "        \"O\"\n",
              "      ]\n",
              "    },\n",
              "    {\n",
              "      \"id\": 5,\n",
              "      \"text\": \"?\",\n",
              "      \"lemma\": \"?\",\n",
              "      \"upos\": \"PUNCT\",\n",
              "      \"feats\": \"PunctSide=Fin|PunctType=Qest\",\n",
              "      \"head\": 3,\n",
              "      \"deprel\": \"punct\",\n",
              "      \"start_char\": 67,\n",
              "      \"end_char\": 68,\n",
              "      \"ner\": \"O\",\n",
              "      \"multi_ner\": [\n",
              "        \"O\"\n",
              "      ]\n",
              "    }\n",
              "  ]\n",
              "]"
            ]
          },
          "metadata": {},
          "execution_count": 7
        }
      ]
    },
    {
      "cell_type": "code",
      "source": [
        "tokenized = en_st(sentence)\n",
        "len(tokenized.sentences)"
      ],
      "metadata": {
        "colab": {
          "base_uri": "https://localhost:8080/"
        },
        "id": "ACFL5PgOIxix",
        "outputId": "fb67d194-aa1d-4b62-bfa4-c99996f4cf3f"
      },
      "execution_count": 8,
      "outputs": [
        {
          "output_type": "execute_result",
          "data": {
            "text/plain": [
              "2"
            ]
          },
          "metadata": {},
          "execution_count": 8
        }
      ]
    },
    {
      "cell_type": "code",
      "source": [
        "s0=tokenized.sentences[0]"
      ],
      "metadata": {
        "id": "X3YpLDysMdTY"
      },
      "execution_count": 9,
      "outputs": []
    },
    {
      "cell_type": "code",
      "source": [
        "s0.print_tokens()"
      ],
      "metadata": {
        "colab": {
          "base_uri": "https://localhost:8080/"
        },
        "id": "Dwpx9idSOGe4",
        "outputId": "c40f25d3-6eb2-4ea8-b090-e2a192cb490a"
      },
      "execution_count": 10,
      "outputs": [
        {
          "output_type": "stream",
          "name": "stdout",
          "text": [
            "<Token id=1;words=[<Word id=1;text=Go;lemma=go;upos=VERB;xpos=VB;feats=Mood=Imp|VerbForm=Fin;head=0;deprel=root>]>\n",
            "<Token id=2;words=[<Word id=2;text=until;lemma=until;upos=ADP;xpos=IN;head=4;deprel=case>]>\n",
            "<Token id=3;words=[<Word id=3;text=Jurong;lemma=Jurong;upos=PROPN;xpos=NNP;feats=Number=Sing;head=4;deprel=compound>]>\n",
            "<Token id=4;words=[<Word id=4;text=point;lemma=point;upos=NOUN;xpos=NN;feats=Number=Sing;head=1;deprel=obl>]>\n",
            "<Token id=5;words=[<Word id=5;text=,;lemma=,;upos=PUNCT;xpos=,;head=6;deprel=punct>]>\n",
            "<Token id=6;words=[<Word id=6;text=crazy;lemma=crazy;upos=ADJ;xpos=JJ;feats=Degree=Pos;head=1;deprel=parataxis>]>\n",
            "<Token id=7;words=[<Word id=7;text=..;lemma=..;upos=PUNCT;xpos=.;head=1;deprel=punct>]>\n"
          ]
        }
      ]
    },
    {
      "cell_type": "code",
      "source": [
        "for snt in tokenized.sentences:\n",
        "  for word in snt.tokens:\n",
        "    print(word.text)\n",
        "  print(\"<End of Sentence>\")"
      ],
      "metadata": {
        "colab": {
          "base_uri": "https://localhost:8080/"
        },
        "id": "IrNmbEGKOSsO",
        "outputId": "6aa042d7-003b-4f7f-8581-1492ce77c420"
      },
      "execution_count": 11,
      "outputs": [
        {
          "output_type": "stream",
          "name": "stdout",
          "text": [
            "Go\n",
            "until\n",
            "Jurong\n",
            "point\n",
            ",\n",
            "crazy\n",
            "..\n",
            "<End of Sentence>\n",
            "Available\n",
            "only\n",
            "in\n",
            "bugis\n",
            "great\n",
            "world\n",
            "<End of Sentence>\n"
          ]
        }
      ]
    },
    {
      "cell_type": "code",
      "source": [
        "s0=tokenized.sentences[0]"
      ],
      "metadata": {
        "id": "SvbPLYBjOj0T"
      },
      "execution_count": 12,
      "outputs": []
    },
    {
      "cell_type": "code",
      "source": [
        "s0.print_tokens()"
      ],
      "metadata": {
        "colab": {
          "base_uri": "https://localhost:8080/"
        },
        "id": "7S4SWl-KQGAe",
        "outputId": "81f743e8-0600-4f9a-c6a3-f2931b54e691"
      },
      "execution_count": 13,
      "outputs": [
        {
          "output_type": "stream",
          "name": "stdout",
          "text": [
            "<Token id=1;words=[<Word id=1;text=Go;lemma=go;upos=VERB;xpos=VB;feats=Mood=Imp|VerbForm=Fin;head=0;deprel=root>]>\n",
            "<Token id=2;words=[<Word id=2;text=until;lemma=until;upos=ADP;xpos=IN;head=4;deprel=case>]>\n",
            "<Token id=3;words=[<Word id=3;text=Jurong;lemma=Jurong;upos=PROPN;xpos=NNP;feats=Number=Sing;head=4;deprel=compound>]>\n",
            "<Token id=4;words=[<Word id=4;text=point;lemma=point;upos=NOUN;xpos=NN;feats=Number=Sing;head=1;deprel=obl>]>\n",
            "<Token id=5;words=[<Word id=5;text=,;lemma=,;upos=PUNCT;xpos=,;head=6;deprel=punct>]>\n",
            "<Token id=6;words=[<Word id=6;text=crazy;lemma=crazy;upos=ADJ;xpos=JJ;feats=Degree=Pos;head=1;deprel=parataxis>]>\n",
            "<Token id=7;words=[<Word id=7;text=..;lemma=..;upos=PUNCT;xpos=.;head=1;deprel=punct>]>\n"
          ]
        }
      ]
    },
    {
      "cell_type": "code",
      "source": [
        "tokEs=es_st(\"Esto es una prueba. Estoy viendo la tele.\")\n",
        "tokEs"
      ],
      "metadata": {
        "colab": {
          "base_uri": "https://localhost:8080/"
        },
        "id": "8nwk1yDKQDu0",
        "outputId": "1c190115-0f54-4f80-e8a2-5334f3a08d49"
      },
      "execution_count": 14,
      "outputs": [
        {
          "output_type": "execute_result",
          "data": {
            "text/plain": [
              "[\n",
              "  [\n",
              "    {\n",
              "      \"id\": 1,\n",
              "      \"text\": \"Esto\",\n",
              "      \"lemma\": \"este\",\n",
              "      \"upos\": \"PRON\",\n",
              "      \"feats\": \"Number=Sing|PronType=Dem\",\n",
              "      \"head\": 4,\n",
              "      \"deprel\": \"nsubj\",\n",
              "      \"start_char\": 0,\n",
              "      \"end_char\": 4,\n",
              "      \"ner\": \"O\",\n",
              "      \"multi_ner\": [\n",
              "        \"O\"\n",
              "      ]\n",
              "    },\n",
              "    {\n",
              "      \"id\": 2,\n",
              "      \"text\": \"es\",\n",
              "      \"lemma\": \"ser\",\n",
              "      \"upos\": \"AUX\",\n",
              "      \"feats\": \"Mood=Ind|Number=Sing|Person=3|Tense=Pres|VerbForm=Fin\",\n",
              "      \"head\": 4,\n",
              "      \"deprel\": \"cop\",\n",
              "      \"start_char\": 5,\n",
              "      \"end_char\": 7,\n",
              "      \"ner\": \"O\",\n",
              "      \"multi_ner\": [\n",
              "        \"O\"\n",
              "      ]\n",
              "    },\n",
              "    {\n",
              "      \"id\": 3,\n",
              "      \"text\": \"una\",\n",
              "      \"lemma\": \"uno\",\n",
              "      \"upos\": \"DET\",\n",
              "      \"feats\": \"Definite=Ind|Gender=Fem|Number=Sing|PronType=Art\",\n",
              "      \"head\": 4,\n",
              "      \"deprel\": \"det\",\n",
              "      \"start_char\": 8,\n",
              "      \"end_char\": 11,\n",
              "      \"ner\": \"O\",\n",
              "      \"multi_ner\": [\n",
              "        \"O\"\n",
              "      ]\n",
              "    },\n",
              "    {\n",
              "      \"id\": 4,\n",
              "      \"text\": \"prueba\",\n",
              "      \"lemma\": \"prueba\",\n",
              "      \"upos\": \"NOUN\",\n",
              "      \"feats\": \"Gender=Fem|Number=Sing\",\n",
              "      \"head\": 0,\n",
              "      \"deprel\": \"root\",\n",
              "      \"start_char\": 12,\n",
              "      \"end_char\": 18,\n",
              "      \"ner\": \"O\",\n",
              "      \"multi_ner\": [\n",
              "        \"O\"\n",
              "      ]\n",
              "    },\n",
              "    {\n",
              "      \"id\": 5,\n",
              "      \"text\": \".\",\n",
              "      \"lemma\": \".\",\n",
              "      \"upos\": \"PUNCT\",\n",
              "      \"feats\": \"PunctType=Peri\",\n",
              "      \"head\": 4,\n",
              "      \"deprel\": \"punct\",\n",
              "      \"start_char\": 18,\n",
              "      \"end_char\": 19,\n",
              "      \"ner\": \"O\",\n",
              "      \"multi_ner\": [\n",
              "        \"O\"\n",
              "      ]\n",
              "    }\n",
              "  ],\n",
              "  [\n",
              "    {\n",
              "      \"id\": 1,\n",
              "      \"text\": \"Estoy\",\n",
              "      \"lemma\": \"estar\",\n",
              "      \"upos\": \"AUX\",\n",
              "      \"feats\": \"Mood=Ind|Number=Sing|Person=1|Tense=Pres|VerbForm=Fin\",\n",
              "      \"head\": 2,\n",
              "      \"deprel\": \"aux\",\n",
              "      \"start_char\": 20,\n",
              "      \"end_char\": 25,\n",
              "      \"ner\": \"O\",\n",
              "      \"multi_ner\": [\n",
              "        \"O\"\n",
              "      ]\n",
              "    },\n",
              "    {\n",
              "      \"id\": 2,\n",
              "      \"text\": \"viendo\",\n",
              "      \"lemma\": \"ver\",\n",
              "      \"upos\": \"VERB\",\n",
              "      \"feats\": \"VerbForm=Ger\",\n",
              "      \"head\": 0,\n",
              "      \"deprel\": \"root\",\n",
              "      \"start_char\": 26,\n",
              "      \"end_char\": 32,\n",
              "      \"ner\": \"O\",\n",
              "      \"multi_ner\": [\n",
              "        \"O\"\n",
              "      ]\n",
              "    },\n",
              "    {\n",
              "      \"id\": 3,\n",
              "      \"text\": \"la\",\n",
              "      \"lemma\": \"el\",\n",
              "      \"upos\": \"DET\",\n",
              "      \"feats\": \"Definite=Def|Gender=Fem|Number=Sing|PronType=Art\",\n",
              "      \"head\": 4,\n",
              "      \"deprel\": \"det\",\n",
              "      \"start_char\": 33,\n",
              "      \"end_char\": 35,\n",
              "      \"ner\": \"O\",\n",
              "      \"multi_ner\": [\n",
              "        \"O\"\n",
              "      ]\n",
              "    },\n",
              "    {\n",
              "      \"id\": 4,\n",
              "      \"text\": \"tele\",\n",
              "      \"lemma\": \"tele\",\n",
              "      \"upos\": \"NOUN\",\n",
              "      \"feats\": \"Gender=Fem|Number=Sing\",\n",
              "      \"head\": 2,\n",
              "      \"deprel\": \"obj\",\n",
              "      \"start_char\": 36,\n",
              "      \"end_char\": 40,\n",
              "      \"ner\": \"O\",\n",
              "      \"multi_ner\": [\n",
              "        \"O\"\n",
              "      ]\n",
              "    },\n",
              "    {\n",
              "      \"id\": 5,\n",
              "      \"text\": \".\",\n",
              "      \"lemma\": \".\",\n",
              "      \"upos\": \"PUNCT\",\n",
              "      \"feats\": \"PunctType=Peri\",\n",
              "      \"head\": 2,\n",
              "      \"deprel\": \"punct\",\n",
              "      \"start_char\": 40,\n",
              "      \"end_char\": 41,\n",
              "      \"ner\": \"O\",\n",
              "      \"multi_ner\": [\n",
              "        \"O\"\n",
              "      ]\n",
              "    }\n",
              "  ]\n",
              "]"
            ]
          },
          "metadata": {},
          "execution_count": 14
        }
      ]
    },
    {
      "cell_type": "code",
      "source": [
        "tokEs.sentences[1].print_tokens()"
      ],
      "metadata": {
        "colab": {
          "base_uri": "https://localhost:8080/"
        },
        "id": "GgjVfPFbQgUf",
        "outputId": "65db1c0a-81ed-4ef5-f0e3-3b2503f059a8"
      },
      "execution_count": null,
      "outputs": [
        {
          "output_type": "stream",
          "name": "stdout",
          "text": [
            "<Token id=1;words=[<Word id=1;text=Estoy;lemma=estar;upos=AUX;feats=Mood=Ind|Number=Sing|Person=1|Tense=Pres|VerbForm=Fin;head=2;deprel=aux>]>\n",
            "<Token id=2;words=[<Word id=2;text=viendo;lemma=ver;upos=VERB;feats=VerbForm=Ger;head=0;deprel=root>]>\n",
            "<Token id=3;words=[<Word id=3;text=la;lemma=el;upos=DET;feats=Definite=Def|Gender=Fem|Number=Sing|PronType=Art;head=4;deprel=det>]>\n",
            "<Token id=4;words=[<Word id=4;text=tele;lemma=tele;upos=NOUN;feats=Gender=Fem|Number=Sing;head=2;deprel=obj>]>\n",
            "<Token id=5;words=[<Word id=5;text=.;lemma=.;upos=PUNCT;feats=PunctType=Peri;head=2;deprel=punct>]>\n"
          ]
        }
      ]
    },
    {
      "cell_type": "code",
      "source": [
        "#en = snlp.Pipeline(lang='en')\n",
        "def word_counts(x, pipeline=en_st):\n",
        "  doc = pipeline(x)\n",
        "  count = sum([len(sentence.tokens) for sentence in doc.sentences])\n",
        "  return count"
      ],
      "metadata": {
        "id": "sLwKn18rQmVg"
      },
      "execution_count": 15,
      "outputs": []
    },
    {
      "cell_type": "code",
      "source": [
        "train['Message'].iloc[5:7].apply(word_counts)"
      ],
      "metadata": {
        "colab": {
          "base_uri": "https://localhost:8080/"
        },
        "id": "x4qgyq_hgcek",
        "outputId": "2761de00-599b-4bd7-caae-d94e46b66e34"
      },
      "execution_count": 34,
      "outputs": [
        {
          "output_type": "execute_result",
          "data": {
            "text/plain": [
              "5412    22\n",
              "4362    24\n",
              "Name: Message, dtype: int64"
            ]
          },
          "metadata": {},
          "execution_count": 34
        }
      ]
    },
    {
      "cell_type": "code",
      "source": [
        "len( train['Message'] )"
      ],
      "metadata": {
        "colab": {
          "base_uri": "https://localhost:8080/"
        },
        "id": "rSU-saU-hS5Q",
        "outputId": "9f26d406-5ade-4553-b748-96e48a0c16ba"
      },
      "execution_count": 35,
      "outputs": [
        {
          "output_type": "execute_result",
          "data": {
            "text/plain": [
              "4459"
            ]
          },
          "metadata": {},
          "execution_count": 35
        }
      ]
    },
    {
      "cell_type": "code",
      "source": [
        "train['Words'] = train['Message'].apply(word_counts)"
      ],
      "metadata": {
        "id": "LhRBcoybRIf5"
      },
      "execution_count": 36,
      "outputs": []
    },
    {
      "cell_type": "code",
      "source": [
        "test['Words'] = test['Message'].apply(word_counts)"
      ],
      "metadata": {
        "id": "UIHtrjztgUNO"
      },
      "execution_count": 37,
      "outputs": []
    },
    {
      "cell_type": "code",
      "source": [
        "x_train = train[['Length', 'Punctuation', 'Capitals', 'Words']]\n",
        "y_train = train[['Spam']]\n",
        "x_test = test[['Length', 'Punctuation', 'Capitals' , 'Words']]\n",
        "y_test = test[['Spam']]"
      ],
      "metadata": {
        "id": "T5Yj2drpRs7g"
      },
      "execution_count": 38,
      "outputs": []
    },
    {
      "cell_type": "code",
      "source": [
        "model = make_model(input_dims=4)"
      ],
      "metadata": {
        "id": "UN_g1IzjAl9L"
      },
      "execution_count": 39,
      "outputs": []
    },
    {
      "cell_type": "code",
      "source": [
        "train.loc[train.Spam == 1].describe()"
      ],
      "metadata": {
        "colab": {
          "base_uri": "https://localhost:8080/",
          "height": 300
        },
        "id": "yeKyQel_hl-F",
        "outputId": "6939e3e6-dd81-46f0-c82c-4f2d5c01be68"
      },
      "execution_count": 40,
      "outputs": [
        {
          "output_type": "execute_result",
          "data": {
            "text/plain": [
              "        Spam    Capitals  Punctuation      Length       Words\n",
              "count  592.0  592.000000   592.000000  592.000000  592.000000\n",
              "mean     1.0   15.320946    29.086149  138.856419   28.989865\n",
              "std      0.0   11.635105     7.083572   28.079980    7.298093\n",
              "min      1.0    0.000000     2.000000   13.000000    2.000000\n",
              "25%      1.0    7.000000    26.000000  132.000000   26.000000\n",
              "50%      1.0   14.000000    30.000000  149.000000   30.000000\n",
              "75%      1.0   21.000000    34.000000  157.000000   34.000000\n",
              "max      1.0  128.000000    49.000000  197.000000   46.000000"
            ],
            "text/html": [
              "\n",
              "  <div id=\"df-f270083b-d77f-4ed4-abc6-e972c462040d\">\n",
              "    <div class=\"colab-df-container\">\n",
              "      <div>\n",
              "<style scoped>\n",
              "    .dataframe tbody tr th:only-of-type {\n",
              "        vertical-align: middle;\n",
              "    }\n",
              "\n",
              "    .dataframe tbody tr th {\n",
              "        vertical-align: top;\n",
              "    }\n",
              "\n",
              "    .dataframe thead th {\n",
              "        text-align: right;\n",
              "    }\n",
              "</style>\n",
              "<table border=\"1\" class=\"dataframe\">\n",
              "  <thead>\n",
              "    <tr style=\"text-align: right;\">\n",
              "      <th></th>\n",
              "      <th>Spam</th>\n",
              "      <th>Capitals</th>\n",
              "      <th>Punctuation</th>\n",
              "      <th>Length</th>\n",
              "      <th>Words</th>\n",
              "    </tr>\n",
              "  </thead>\n",
              "  <tbody>\n",
              "    <tr>\n",
              "      <th>count</th>\n",
              "      <td>592.0</td>\n",
              "      <td>592.000000</td>\n",
              "      <td>592.000000</td>\n",
              "      <td>592.000000</td>\n",
              "      <td>592.000000</td>\n",
              "    </tr>\n",
              "    <tr>\n",
              "      <th>mean</th>\n",
              "      <td>1.0</td>\n",
              "      <td>15.320946</td>\n",
              "      <td>29.086149</td>\n",
              "      <td>138.856419</td>\n",
              "      <td>28.989865</td>\n",
              "    </tr>\n",
              "    <tr>\n",
              "      <th>std</th>\n",
              "      <td>0.0</td>\n",
              "      <td>11.635105</td>\n",
              "      <td>7.083572</td>\n",
              "      <td>28.079980</td>\n",
              "      <td>7.298093</td>\n",
              "    </tr>\n",
              "    <tr>\n",
              "      <th>min</th>\n",
              "      <td>1.0</td>\n",
              "      <td>0.000000</td>\n",
              "      <td>2.000000</td>\n",
              "      <td>13.000000</td>\n",
              "      <td>2.000000</td>\n",
              "    </tr>\n",
              "    <tr>\n",
              "      <th>25%</th>\n",
              "      <td>1.0</td>\n",
              "      <td>7.000000</td>\n",
              "      <td>26.000000</td>\n",
              "      <td>132.000000</td>\n",
              "      <td>26.000000</td>\n",
              "    </tr>\n",
              "    <tr>\n",
              "      <th>50%</th>\n",
              "      <td>1.0</td>\n",
              "      <td>14.000000</td>\n",
              "      <td>30.000000</td>\n",
              "      <td>149.000000</td>\n",
              "      <td>30.000000</td>\n",
              "    </tr>\n",
              "    <tr>\n",
              "      <th>75%</th>\n",
              "      <td>1.0</td>\n",
              "      <td>21.000000</td>\n",
              "      <td>34.000000</td>\n",
              "      <td>157.000000</td>\n",
              "      <td>34.000000</td>\n",
              "    </tr>\n",
              "    <tr>\n",
              "      <th>max</th>\n",
              "      <td>1.0</td>\n",
              "      <td>128.000000</td>\n",
              "      <td>49.000000</td>\n",
              "      <td>197.000000</td>\n",
              "      <td>46.000000</td>\n",
              "    </tr>\n",
              "  </tbody>\n",
              "</table>\n",
              "</div>\n",
              "      <button class=\"colab-df-convert\" onclick=\"convertToInteractive('df-f270083b-d77f-4ed4-abc6-e972c462040d')\"\n",
              "              title=\"Convert this dataframe to an interactive table.\"\n",
              "              style=\"display:none;\">\n",
              "        \n",
              "  <svg xmlns=\"http://www.w3.org/2000/svg\" height=\"24px\"viewBox=\"0 0 24 24\"\n",
              "       width=\"24px\">\n",
              "    <path d=\"M0 0h24v24H0V0z\" fill=\"none\"/>\n",
              "    <path d=\"M18.56 5.44l.94 2.06.94-2.06 2.06-.94-2.06-.94-.94-2.06-.94 2.06-2.06.94zm-11 1L8.5 8.5l.94-2.06 2.06-.94-2.06-.94L8.5 2.5l-.94 2.06-2.06.94zm10 10l.94 2.06.94-2.06 2.06-.94-2.06-.94-.94-2.06-.94 2.06-2.06.94z\"/><path d=\"M17.41 7.96l-1.37-1.37c-.4-.4-.92-.59-1.43-.59-.52 0-1.04.2-1.43.59L10.3 9.45l-7.72 7.72c-.78.78-.78 2.05 0 2.83L4 21.41c.39.39.9.59 1.41.59.51 0 1.02-.2 1.41-.59l7.78-7.78 2.81-2.81c.8-.78.8-2.07 0-2.86zM5.41 20L4 18.59l7.72-7.72 1.47 1.35L5.41 20z\"/>\n",
              "  </svg>\n",
              "      </button>\n",
              "      \n",
              "  <style>\n",
              "    .colab-df-container {\n",
              "      display:flex;\n",
              "      flex-wrap:wrap;\n",
              "      gap: 12px;\n",
              "    }\n",
              "\n",
              "    .colab-df-convert {\n",
              "      background-color: #E8F0FE;\n",
              "      border: none;\n",
              "      border-radius: 50%;\n",
              "      cursor: pointer;\n",
              "      display: none;\n",
              "      fill: #1967D2;\n",
              "      height: 32px;\n",
              "      padding: 0 0 0 0;\n",
              "      width: 32px;\n",
              "    }\n",
              "\n",
              "    .colab-df-convert:hover {\n",
              "      background-color: #E2EBFA;\n",
              "      box-shadow: 0px 1px 2px rgba(60, 64, 67, 0.3), 0px 1px 3px 1px rgba(60, 64, 67, 0.15);\n",
              "      fill: #174EA6;\n",
              "    }\n",
              "\n",
              "    [theme=dark] .colab-df-convert {\n",
              "      background-color: #3B4455;\n",
              "      fill: #D2E3FC;\n",
              "    }\n",
              "\n",
              "    [theme=dark] .colab-df-convert:hover {\n",
              "      background-color: #434B5C;\n",
              "      box-shadow: 0px 1px 3px 1px rgba(0, 0, 0, 0.15);\n",
              "      filter: drop-shadow(0px 1px 2px rgba(0, 0, 0, 0.3));\n",
              "      fill: #FFFFFF;\n",
              "    }\n",
              "  </style>\n",
              "\n",
              "      <script>\n",
              "        const buttonEl =\n",
              "          document.querySelector('#df-f270083b-d77f-4ed4-abc6-e972c462040d button.colab-df-convert');\n",
              "        buttonEl.style.display =\n",
              "          google.colab.kernel.accessAllowed ? 'block' : 'none';\n",
              "\n",
              "        async function convertToInteractive(key) {\n",
              "          const element = document.querySelector('#df-f270083b-d77f-4ed4-abc6-e972c462040d');\n",
              "          const dataTable =\n",
              "            await google.colab.kernel.invokeFunction('convertToInteractive',\n",
              "                                                     [key], {});\n",
              "          if (!dataTable) return;\n",
              "\n",
              "          const docLinkHtml = 'Like what you see? Visit the ' +\n",
              "            '<a target=\"_blank\" href=https://colab.research.google.com/notebooks/data_table.ipynb>data table notebook</a>'\n",
              "            + ' to learn more about interactive tables.';\n",
              "          element.innerHTML = '';\n",
              "          dataTable['output_type'] = 'display_data';\n",
              "          await google.colab.output.renderOutput(dataTable, element);\n",
              "          const docLink = document.createElement('div');\n",
              "          docLink.innerHTML = docLinkHtml;\n",
              "          element.appendChild(docLink);\n",
              "        }\n",
              "      </script>\n",
              "    </div>\n",
              "  </div>\n",
              "  "
            ]
          },
          "metadata": {},
          "execution_count": 40
        }
      ]
    },
    {
      "cell_type": "code",
      "source": [
        "train.loc[train.Spam == 0].describe()"
      ],
      "metadata": {
        "colab": {
          "base_uri": "https://localhost:8080/",
          "height": 300
        },
        "id": "akhoyEa8AT7L",
        "outputId": "a3348a6b-1a2f-4524-c79d-0b73dae8b70b"
      },
      "execution_count": 41,
      "outputs": [
        {
          "output_type": "execute_result",
          "data": {
            "text/plain": [
              "         Spam     Capitals  Punctuation       Length        Words\n",
              "count  3867.0  3867.000000  3867.000000  3867.000000  3867.000000\n",
              "mean      0.0     4.018878    17.325058    71.354538    17.076028\n",
              "std       0.0    10.599291    14.826644    57.755351    13.599832\n",
              "min       0.0     0.000000     0.000000     2.000000     1.000000\n",
              "25%       0.0     1.000000     8.000000    33.000000     8.000000\n",
              "50%       0.0     2.000000    13.000000    53.000000    13.000000\n",
              "75%       0.0     3.000000    23.000000    92.000000    22.000000\n",
              "max       0.0   129.000000   253.000000   910.000000   206.000000"
            ],
            "text/html": [
              "\n",
              "  <div id=\"df-913aa93f-99cb-4bf5-a0d3-3308c70c8d4d\">\n",
              "    <div class=\"colab-df-container\">\n",
              "      <div>\n",
              "<style scoped>\n",
              "    .dataframe tbody tr th:only-of-type {\n",
              "        vertical-align: middle;\n",
              "    }\n",
              "\n",
              "    .dataframe tbody tr th {\n",
              "        vertical-align: top;\n",
              "    }\n",
              "\n",
              "    .dataframe thead th {\n",
              "        text-align: right;\n",
              "    }\n",
              "</style>\n",
              "<table border=\"1\" class=\"dataframe\">\n",
              "  <thead>\n",
              "    <tr style=\"text-align: right;\">\n",
              "      <th></th>\n",
              "      <th>Spam</th>\n",
              "      <th>Capitals</th>\n",
              "      <th>Punctuation</th>\n",
              "      <th>Length</th>\n",
              "      <th>Words</th>\n",
              "    </tr>\n",
              "  </thead>\n",
              "  <tbody>\n",
              "    <tr>\n",
              "      <th>count</th>\n",
              "      <td>3867.0</td>\n",
              "      <td>3867.000000</td>\n",
              "      <td>3867.000000</td>\n",
              "      <td>3867.000000</td>\n",
              "      <td>3867.000000</td>\n",
              "    </tr>\n",
              "    <tr>\n",
              "      <th>mean</th>\n",
              "      <td>0.0</td>\n",
              "      <td>4.018878</td>\n",
              "      <td>17.325058</td>\n",
              "      <td>71.354538</td>\n",
              "      <td>17.076028</td>\n",
              "    </tr>\n",
              "    <tr>\n",
              "      <th>std</th>\n",
              "      <td>0.0</td>\n",
              "      <td>10.599291</td>\n",
              "      <td>14.826644</td>\n",
              "      <td>57.755351</td>\n",
              "      <td>13.599832</td>\n",
              "    </tr>\n",
              "    <tr>\n",
              "      <th>min</th>\n",
              "      <td>0.0</td>\n",
              "      <td>0.000000</td>\n",
              "      <td>0.000000</td>\n",
              "      <td>2.000000</td>\n",
              "      <td>1.000000</td>\n",
              "    </tr>\n",
              "    <tr>\n",
              "      <th>25%</th>\n",
              "      <td>0.0</td>\n",
              "      <td>1.000000</td>\n",
              "      <td>8.000000</td>\n",
              "      <td>33.000000</td>\n",
              "      <td>8.000000</td>\n",
              "    </tr>\n",
              "    <tr>\n",
              "      <th>50%</th>\n",
              "      <td>0.0</td>\n",
              "      <td>2.000000</td>\n",
              "      <td>13.000000</td>\n",
              "      <td>53.000000</td>\n",
              "      <td>13.000000</td>\n",
              "    </tr>\n",
              "    <tr>\n",
              "      <th>75%</th>\n",
              "      <td>0.0</td>\n",
              "      <td>3.000000</td>\n",
              "      <td>23.000000</td>\n",
              "      <td>92.000000</td>\n",
              "      <td>22.000000</td>\n",
              "    </tr>\n",
              "    <tr>\n",
              "      <th>max</th>\n",
              "      <td>0.0</td>\n",
              "      <td>129.000000</td>\n",
              "      <td>253.000000</td>\n",
              "      <td>910.000000</td>\n",
              "      <td>206.000000</td>\n",
              "    </tr>\n",
              "  </tbody>\n",
              "</table>\n",
              "</div>\n",
              "      <button class=\"colab-df-convert\" onclick=\"convertToInteractive('df-913aa93f-99cb-4bf5-a0d3-3308c70c8d4d')\"\n",
              "              title=\"Convert this dataframe to an interactive table.\"\n",
              "              style=\"display:none;\">\n",
              "        \n",
              "  <svg xmlns=\"http://www.w3.org/2000/svg\" height=\"24px\"viewBox=\"0 0 24 24\"\n",
              "       width=\"24px\">\n",
              "    <path d=\"M0 0h24v24H0V0z\" fill=\"none\"/>\n",
              "    <path d=\"M18.56 5.44l.94 2.06.94-2.06 2.06-.94-2.06-.94-.94-2.06-.94 2.06-2.06.94zm-11 1L8.5 8.5l.94-2.06 2.06-.94-2.06-.94L8.5 2.5l-.94 2.06-2.06.94zm10 10l.94 2.06.94-2.06 2.06-.94-2.06-.94-.94-2.06-.94 2.06-2.06.94z\"/><path d=\"M17.41 7.96l-1.37-1.37c-.4-.4-.92-.59-1.43-.59-.52 0-1.04.2-1.43.59L10.3 9.45l-7.72 7.72c-.78.78-.78 2.05 0 2.83L4 21.41c.39.39.9.59 1.41.59.51 0 1.02-.2 1.41-.59l7.78-7.78 2.81-2.81c.8-.78.8-2.07 0-2.86zM5.41 20L4 18.59l7.72-7.72 1.47 1.35L5.41 20z\"/>\n",
              "  </svg>\n",
              "      </button>\n",
              "      \n",
              "  <style>\n",
              "    .colab-df-container {\n",
              "      display:flex;\n",
              "      flex-wrap:wrap;\n",
              "      gap: 12px;\n",
              "    }\n",
              "\n",
              "    .colab-df-convert {\n",
              "      background-color: #E8F0FE;\n",
              "      border: none;\n",
              "      border-radius: 50%;\n",
              "      cursor: pointer;\n",
              "      display: none;\n",
              "      fill: #1967D2;\n",
              "      height: 32px;\n",
              "      padding: 0 0 0 0;\n",
              "      width: 32px;\n",
              "    }\n",
              "\n",
              "    .colab-df-convert:hover {\n",
              "      background-color: #E2EBFA;\n",
              "      box-shadow: 0px 1px 2px rgba(60, 64, 67, 0.3), 0px 1px 3px 1px rgba(60, 64, 67, 0.15);\n",
              "      fill: #174EA6;\n",
              "    }\n",
              "\n",
              "    [theme=dark] .colab-df-convert {\n",
              "      background-color: #3B4455;\n",
              "      fill: #D2E3FC;\n",
              "    }\n",
              "\n",
              "    [theme=dark] .colab-df-convert:hover {\n",
              "      background-color: #434B5C;\n",
              "      box-shadow: 0px 1px 3px 1px rgba(0, 0, 0, 0.15);\n",
              "      filter: drop-shadow(0px 1px 2px rgba(0, 0, 0, 0.3));\n",
              "      fill: #FFFFFF;\n",
              "    }\n",
              "  </style>\n",
              "\n",
              "      <script>\n",
              "        const buttonEl =\n",
              "          document.querySelector('#df-913aa93f-99cb-4bf5-a0d3-3308c70c8d4d button.colab-df-convert');\n",
              "        buttonEl.style.display =\n",
              "          google.colab.kernel.accessAllowed ? 'block' : 'none';\n",
              "\n",
              "        async function convertToInteractive(key) {\n",
              "          const element = document.querySelector('#df-913aa93f-99cb-4bf5-a0d3-3308c70c8d4d');\n",
              "          const dataTable =\n",
              "            await google.colab.kernel.invokeFunction('convertToInteractive',\n",
              "                                                     [key], {});\n",
              "          if (!dataTable) return;\n",
              "\n",
              "          const docLinkHtml = 'Like what you see? Visit the ' +\n",
              "            '<a target=\"_blank\" href=https://colab.research.google.com/notebooks/data_table.ipynb>data table notebook</a>'\n",
              "            + ' to learn more about interactive tables.';\n",
              "          element.innerHTML = '';\n",
              "          dataTable['output_type'] = 'display_data';\n",
              "          await google.colab.output.renderOutput(dataTable, element);\n",
              "          const docLink = document.createElement('div');\n",
              "          docLink.innerHTML = docLinkHtml;\n",
              "          element.appendChild(docLink);\n",
              "        }\n",
              "      </script>\n",
              "    </div>\n",
              "  </div>\n",
              "  "
            ]
          },
          "metadata": {},
          "execution_count": 41
        }
      ]
    },
    {
      "cell_type": "code",
      "source": [
        "model.fit(x_train, y_train, epochs=10, batch_size=10)"
      ],
      "metadata": {
        "colab": {
          "base_uri": "https://localhost:8080/"
        },
        "id": "rubk25z2AuQH",
        "outputId": "6093e84c-882f-49f6-fb1d-6af02dab7ca2"
      },
      "execution_count": 42,
      "outputs": [
        {
          "output_type": "stream",
          "name": "stdout",
          "text": [
            "Epoch 1/10\n",
            "446/446 [==============================] - 2s 3ms/step - loss: 0.5676 - accuracy: 0.8634\n",
            "Epoch 2/10\n",
            "446/446 [==============================] - 1s 3ms/step - loss: 0.3323 - accuracy: 0.9087\n",
            "Epoch 3/10\n",
            "446/446 [==============================] - 1s 3ms/step - loss: 0.2792 - accuracy: 0.9195\n",
            "Epoch 4/10\n",
            "446/446 [==============================] - 1s 3ms/step - loss: 0.2482 - accuracy: 0.9237\n",
            "Epoch 5/10\n",
            "446/446 [==============================] - 1s 3ms/step - loss: 0.2326 - accuracy: 0.9231\n",
            "Epoch 6/10\n",
            "446/446 [==============================] - 1s 3ms/step - loss: 0.2203 - accuracy: 0.9296\n",
            "Epoch 7/10\n",
            "446/446 [==============================] - 1s 3ms/step - loss: 0.2143 - accuracy: 0.9271\n",
            "Epoch 8/10\n",
            "446/446 [==============================] - 1s 3ms/step - loss: 0.2083 - accuracy: 0.9294\n",
            "Epoch 9/10\n",
            "446/446 [==============================] - 1s 3ms/step - loss: 0.2025 - accuracy: 0.9289\n",
            "Epoch 10/10\n",
            "446/446 [==============================] - 1s 3ms/step - loss: 0.2019 - accuracy: 0.9282\n"
          ]
        },
        {
          "output_type": "execute_result",
          "data": {
            "text/plain": [
              "<keras.callbacks.History at 0x7f772853bbd0>"
            ]
          },
          "metadata": {},
          "execution_count": 42
        }
      ]
    },
    {
      "cell_type": "code",
      "source": [
        "model.evaluate(x_test, y_test)"
      ],
      "metadata": {
        "colab": {
          "base_uri": "https://localhost:8080/"
        },
        "id": "_S7r098xBqJD",
        "outputId": "61592797-516c-4ea6-90c8-09ed19feed3b"
      },
      "execution_count": 43,
      "outputs": [
        {
          "output_type": "stream",
          "name": "stdout",
          "text": [
            "35/35 [==============================] - 0s 3ms/step - loss: 0.2012 - accuracy: 0.9291\n"
          ]
        },
        {
          "output_type": "execute_result",
          "data": {
            "text/plain": [
              "[0.20123417675495148, 0.9291479587554932]"
            ]
          },
          "metadata": {},
          "execution_count": 43
        }
      ]
    },
    {
      "cell_type": "code",
      "source": [
        "#y_train_pred = model.predict_classes(x_train)\n",
        "y_test_pred = (model.predict(x_test) > 0.5).astype(\"int32\")\n",
        "tf.math.confusion_matrix(tf.constant(y_test.Spam), \n",
        "                         y_test_pred)"
      ],
      "metadata": {
        "colab": {
          "base_uri": "https://localhost:8080/"
        },
        "id": "s9u3vCB2Bz7_",
        "outputId": "6cdac013-b4d7-4d55-bb2b-157b981d7e43"
      },
      "execution_count": 44,
      "outputs": [
        {
          "output_type": "execute_result",
          "data": {
            "text/plain": [
              "<tf.Tensor: shape=(2, 2), dtype=int32, numpy=\n",
              "array([[938,  22],\n",
              "       [ 57,  98]], dtype=int32)>"
            ]
          },
          "metadata": {},
          "execution_count": 44
        }
      ]
    },
    {
      "cell_type": "markdown",
      "source": [
        "https://github.com/stopwords-iso/stopwords-iso"
      ],
      "metadata": {
        "id": "T0EbGFVvFm1u"
      }
    },
    {
      "cell_type": "code",
      "source": [
        "!pip install stopwordsiso"
      ],
      "metadata": {
        "colab": {
          "base_uri": "https://localhost:8080/"
        },
        "id": "o9bf7u4AB1UM",
        "outputId": "68443774-9301-40e2-bf76-b1b798bc446b"
      },
      "execution_count": 45,
      "outputs": [
        {
          "output_type": "stream",
          "name": "stdout",
          "text": [
            "Looking in indexes: https://pypi.org/simple, https://us-python.pkg.dev/colab-wheels/public/simple/\n",
            "Collecting stopwordsiso\n",
            "  Downloading stopwordsiso-0.6.1-py3-none-any.whl (73 kB)\n",
            "\u001b[K     |████████████████████████████████| 73 kB 2.2 MB/s \n",
            "\u001b[?25hInstalling collected packages: stopwordsiso\n",
            "Successfully installed stopwordsiso-0.6.1\n"
          ]
        }
      ]
    },
    {
      "cell_type": "code",
      "source": [
        "import stopwordsiso as stopwords\n",
        "stopwords.langs()\n",
        "len( sorted(stopwords.stopwords('en')) ),len( sorted(stopwords.stopwords('es')) )"
      ],
      "metadata": {
        "colab": {
          "base_uri": "https://localhost:8080/"
        },
        "id": "gKHG2ViWFidC",
        "outputId": "959ef365-95e9-4dff-fdea-7c603650e264"
      },
      "execution_count": 46,
      "outputs": [
        {
          "output_type": "execute_result",
          "data": {
            "text/plain": [
              "(1298, 732)"
            ]
          },
          "metadata": {},
          "execution_count": 46
        }
      ]
    },
    {
      "cell_type": "code",
      "source": [
        "en_sw = stopwords.stopwords('en')\n",
        "def word_counts(x, pipeline=en_st):\n",
        "  doc = pipeline(x)\n",
        "  count = 0\n",
        "  for sentence in doc.sentences:\n",
        "    for token in sentence.tokens:\n",
        "        if token.text.lower() not in en_sw:\n",
        "          count += 1\n",
        "  return count"
      ],
      "metadata": {
        "id": "TJ4r0KHyFqmT"
      },
      "execution_count": 47,
      "outputs": []
    },
    {
      "cell_type": "code",
      "source": [
        "train['Words'] = train['Message'].apply(word_counts)"
      ],
      "metadata": {
        "id": "7HgxKfrdGJLh"
      },
      "execution_count": 48,
      "outputs": []
    },
    {
      "cell_type": "code",
      "source": [
        "test['Words'] = test['Message'].apply(word_counts)"
      ],
      "metadata": {
        "id": "-HrVNnXnG15D"
      },
      "execution_count": 49,
      "outputs": []
    },
    {
      "cell_type": "code",
      "source": [
        "test.T"
      ],
      "metadata": {
        "colab": {
          "base_uri": "https://localhost:8080/",
          "height": 504
        },
        "id": "ojvb2enTljOY",
        "outputId": "690b2028-d2bc-455b-c502-8485543ddcaf"
      },
      "execution_count": 51,
      "outputs": [
        {
          "output_type": "execute_result",
          "data": {
            "text/plain": [
              "                                                          3     \\\n",
              "Spam                                                         0   \n",
              "Message      U dun say so early hor... U c already then say...   \n",
              "Capitals                                                     2   \n",
              "Punctuation                                                 16   \n",
              "Length                                                      49   \n",
              "Words                                                        4   \n",
              "\n",
              "                                                          4     \\\n",
              "Spam                                                         0   \n",
              "Message      Nah I don't think he goes to usf, he lives aro...   \n",
              "Capitals                                                     2   \n",
              "Punctuation                                                 14   \n",
              "Length                                                      61   \n",
              "Words                                                        5   \n",
              "\n",
              "                                                          5     \\\n",
              "Spam                                                         1   \n",
              "Message      FreeMsg Hey there darling it's been 3 week's n...   \n",
              "Capitals                                                     7   \n",
              "Punctuation                                                 40   \n",
              "Length                                                     147   \n",
              "Words                                                       22   \n",
              "\n",
              "                                                          9     \\\n",
              "Spam                                                         1   \n",
              "Message      Had your mobile 11 months or more? U R entitle...   \n",
              "Capitals                                                    14   \n",
              "Punctuation                                                 30   \n",
              "Length                                                     154   \n",
              "Words                                                       13   \n",
              "\n",
              "                                   16    \\\n",
              "Spam                                  0   \n",
              "Message      Oh k...i'm watching here:)   \n",
              "Capitals                              1   \n",
              "Punctuation                           9   \n",
              "Length                               26   \n",
              "Words                                 4   \n",
              "\n",
              "                                                          34    \\\n",
              "Spam                                                         1   \n",
              "Message      Thanks for your subscription to Ringtone UK yo...   \n",
              "Capitals                                                    13   \n",
              "Punctuation                                                 31   \n",
              "Length                                                     158   \n",
              "Words                                                       13   \n",
              "\n",
              "                                                          54    \\\n",
              "Spam                                                         1   \n",
              "Message      SMS. ac Sptv: The New Jersey Devils and the De...   \n",
              "Capitals                                                    24   \n",
              "Punctuation                                                 26   \n",
              "Length                                                     120   \n",
              "Words                                                       20   \n",
              "\n",
              "                                                          55    \\\n",
              "Spam                                                         0   \n",
              "Message      Do you know what Mallika Sherawat did yesterda...   \n",
              "Capitals                                                     7   \n",
              "Punctuation                                                 19   \n",
              "Length                                                      76   \n",
              "Words                                                        9   \n",
              "\n",
              "                                                          64    \\\n",
              "Spam                                                         0   \n",
              "Message      Ok lar i double check wif da hair dresser alre...   \n",
              "Capitals                                                     2   \n",
              "Punctuation                                                 25   \n",
              "Length                                                     110   \n",
              "Words                                                       14   \n",
              "\n",
              "                                                          66    ...  \\\n",
              "Spam                                                         0  ...   \n",
              "Message      Today is \"song dedicated day..\" Which song wil...  ...   \n",
              "Capitals                                                     3  ...   \n",
              "Punctuation                                                 30  ...   \n",
              "Length                                                     122  ...   \n",
              "Words                                                       16  ...   \n",
              "\n",
              "                                                          5519  \\\n",
              "Spam                                                         0   \n",
              "Message      Miles and smiles r made frm same letters but d...   \n",
              "Capitals                                                     3   \n",
              "Punctuation                                                 42   \n",
              "Length                                                     166   \n",
              "Words                                                       15   \n",
              "\n",
              "                                                          5520  \\\n",
              "Spam                                                         0   \n",
              "Message      By the way, i've put a skip right outside the ...   \n",
              "Capitals                                                     2   \n",
              "Punctuation                                                 30   \n",
              "Length                                                     122   \n",
              "Words                                                        7   \n",
              "\n",
              "                                         5522  \\\n",
              "Spam                                        0   \n",
              "Message      No. I dont want to hear anything   \n",
              "Capitals                                    2   \n",
              "Punctuation                                 7   \n",
              "Length                                     32   \n",
              "Words                                       2   \n",
              "\n",
              "                                                          5527  \\\n",
              "Spam                                                         0   \n",
              "Message      I want to tell you how bad I feel that basical...   \n",
              "Capitals                                                     4   \n",
              "Punctuation                                                 22   \n",
              "Length                                                     103   \n",
              "Words                                                        5   \n",
              "\n",
              "                                                          5539  \\\n",
              "Spam                                                         1   \n",
              "Message      Want explicit SEX in 30 secs? Ring 02073162414...   \n",
              "Capitals                                                    17   \n",
              "Punctuation                                                 18   \n",
              "Length                                                      90   \n",
              "Words                                                       16   \n",
              "\n",
              "                                                   5548  \\\n",
              "Spam                                                  0   \n",
              "Message      Ic. There are a lotta childporn cars then.   \n",
              "Capitals                                              2   \n",
              "Punctuation                                           9   \n",
              "Length                                               42   \n",
              "Words                                                 6   \n",
              "\n",
              "                                                          5553  \\\n",
              "Spam                                                         0   \n",
              "Message      Wen did you get so spiritual and deep. That's ...   \n",
              "Capitals                                                     2   \n",
              "Punctuation                                                 11   \n",
              "Length                                                      51   \n",
              "Words                                                        5   \n",
              "\n",
              "                                                          5554  \\\n",
              "Spam                                                         0   \n",
              "Message      Have a safe trip to Nigeria. Wish you happines...   \n",
              "Capitals                                                     3   \n",
              "Punctuation                                                 17   \n",
              "Length                                                      91   \n",
              "Words                                                        8   \n",
              "\n",
              "                                          5562  \\\n",
              "Spam                                         0   \n",
              "Message      Anything lor. Juz both of us lor.   \n",
              "Capitals                                     2   \n",
              "Punctuation                                  8   \n",
              "Length                                      33   \n",
              "Words                                        5   \n",
              "\n",
              "                                                          5564  \n",
              "Spam                                                         0  \n",
              "Message      Ok lor... Sony ericsson salesman... I ask shuh...  \n",
              "Capitals                                                     3  \n",
              "Punctuation                                                 26  \n",
              "Length                                                      96  \n",
              "Words                                                        9  \n",
              "\n",
              "[6 rows x 1115 columns]"
            ],
            "text/html": [
              "\n",
              "  <div id=\"df-40f6301b-6b1a-4dd2-b60b-4fefe5aba6ce\">\n",
              "    <div class=\"colab-df-container\">\n",
              "      <div>\n",
              "<style scoped>\n",
              "    .dataframe tbody tr th:only-of-type {\n",
              "        vertical-align: middle;\n",
              "    }\n",
              "\n",
              "    .dataframe tbody tr th {\n",
              "        vertical-align: top;\n",
              "    }\n",
              "\n",
              "    .dataframe thead th {\n",
              "        text-align: right;\n",
              "    }\n",
              "</style>\n",
              "<table border=\"1\" class=\"dataframe\">\n",
              "  <thead>\n",
              "    <tr style=\"text-align: right;\">\n",
              "      <th></th>\n",
              "      <th>3</th>\n",
              "      <th>4</th>\n",
              "      <th>5</th>\n",
              "      <th>9</th>\n",
              "      <th>16</th>\n",
              "      <th>34</th>\n",
              "      <th>54</th>\n",
              "      <th>55</th>\n",
              "      <th>64</th>\n",
              "      <th>66</th>\n",
              "      <th>...</th>\n",
              "      <th>5519</th>\n",
              "      <th>5520</th>\n",
              "      <th>5522</th>\n",
              "      <th>5527</th>\n",
              "      <th>5539</th>\n",
              "      <th>5548</th>\n",
              "      <th>5553</th>\n",
              "      <th>5554</th>\n",
              "      <th>5562</th>\n",
              "      <th>5564</th>\n",
              "    </tr>\n",
              "  </thead>\n",
              "  <tbody>\n",
              "    <tr>\n",
              "      <th>Spam</th>\n",
              "      <td>0</td>\n",
              "      <td>0</td>\n",
              "      <td>1</td>\n",
              "      <td>1</td>\n",
              "      <td>0</td>\n",
              "      <td>1</td>\n",
              "      <td>1</td>\n",
              "      <td>0</td>\n",
              "      <td>0</td>\n",
              "      <td>0</td>\n",
              "      <td>...</td>\n",
              "      <td>0</td>\n",
              "      <td>0</td>\n",
              "      <td>0</td>\n",
              "      <td>0</td>\n",
              "      <td>1</td>\n",
              "      <td>0</td>\n",
              "      <td>0</td>\n",
              "      <td>0</td>\n",
              "      <td>0</td>\n",
              "      <td>0</td>\n",
              "    </tr>\n",
              "    <tr>\n",
              "      <th>Message</th>\n",
              "      <td>U dun say so early hor... U c already then say...</td>\n",
              "      <td>Nah I don't think he goes to usf, he lives aro...</td>\n",
              "      <td>FreeMsg Hey there darling it's been 3 week's n...</td>\n",
              "      <td>Had your mobile 11 months or more? U R entitle...</td>\n",
              "      <td>Oh k...i'm watching here:)</td>\n",
              "      <td>Thanks for your subscription to Ringtone UK yo...</td>\n",
              "      <td>SMS. ac Sptv: The New Jersey Devils and the De...</td>\n",
              "      <td>Do you know what Mallika Sherawat did yesterda...</td>\n",
              "      <td>Ok lar i double check wif da hair dresser alre...</td>\n",
              "      <td>Today is \"song dedicated day..\" Which song wil...</td>\n",
              "      <td>...</td>\n",
              "      <td>Miles and smiles r made frm same letters but d...</td>\n",
              "      <td>By the way, i've put a skip right outside the ...</td>\n",
              "      <td>No. I dont want to hear anything</td>\n",
              "      <td>I want to tell you how bad I feel that basical...</td>\n",
              "      <td>Want explicit SEX in 30 secs? Ring 02073162414...</td>\n",
              "      <td>Ic. There are a lotta childporn cars then.</td>\n",
              "      <td>Wen did you get so spiritual and deep. That's ...</td>\n",
              "      <td>Have a safe trip to Nigeria. Wish you happines...</td>\n",
              "      <td>Anything lor. Juz both of us lor.</td>\n",
              "      <td>Ok lor... Sony ericsson salesman... I ask shuh...</td>\n",
              "    </tr>\n",
              "    <tr>\n",
              "      <th>Capitals</th>\n",
              "      <td>2</td>\n",
              "      <td>2</td>\n",
              "      <td>7</td>\n",
              "      <td>14</td>\n",
              "      <td>1</td>\n",
              "      <td>13</td>\n",
              "      <td>24</td>\n",
              "      <td>7</td>\n",
              "      <td>2</td>\n",
              "      <td>3</td>\n",
              "      <td>...</td>\n",
              "      <td>3</td>\n",
              "      <td>2</td>\n",
              "      <td>2</td>\n",
              "      <td>4</td>\n",
              "      <td>17</td>\n",
              "      <td>2</td>\n",
              "      <td>2</td>\n",
              "      <td>3</td>\n",
              "      <td>2</td>\n",
              "      <td>3</td>\n",
              "    </tr>\n",
              "    <tr>\n",
              "      <th>Punctuation</th>\n",
              "      <td>16</td>\n",
              "      <td>14</td>\n",
              "      <td>40</td>\n",
              "      <td>30</td>\n",
              "      <td>9</td>\n",
              "      <td>31</td>\n",
              "      <td>26</td>\n",
              "      <td>19</td>\n",
              "      <td>25</td>\n",
              "      <td>30</td>\n",
              "      <td>...</td>\n",
              "      <td>42</td>\n",
              "      <td>30</td>\n",
              "      <td>7</td>\n",
              "      <td>22</td>\n",
              "      <td>18</td>\n",
              "      <td>9</td>\n",
              "      <td>11</td>\n",
              "      <td>17</td>\n",
              "      <td>8</td>\n",
              "      <td>26</td>\n",
              "    </tr>\n",
              "    <tr>\n",
              "      <th>Length</th>\n",
              "      <td>49</td>\n",
              "      <td>61</td>\n",
              "      <td>147</td>\n",
              "      <td>154</td>\n",
              "      <td>26</td>\n",
              "      <td>158</td>\n",
              "      <td>120</td>\n",
              "      <td>76</td>\n",
              "      <td>110</td>\n",
              "      <td>122</td>\n",
              "      <td>...</td>\n",
              "      <td>166</td>\n",
              "      <td>122</td>\n",
              "      <td>32</td>\n",
              "      <td>103</td>\n",
              "      <td>90</td>\n",
              "      <td>42</td>\n",
              "      <td>51</td>\n",
              "      <td>91</td>\n",
              "      <td>33</td>\n",
              "      <td>96</td>\n",
              "    </tr>\n",
              "    <tr>\n",
              "      <th>Words</th>\n",
              "      <td>4</td>\n",
              "      <td>5</td>\n",
              "      <td>22</td>\n",
              "      <td>13</td>\n",
              "      <td>4</td>\n",
              "      <td>13</td>\n",
              "      <td>20</td>\n",
              "      <td>9</td>\n",
              "      <td>14</td>\n",
              "      <td>16</td>\n",
              "      <td>...</td>\n",
              "      <td>15</td>\n",
              "      <td>7</td>\n",
              "      <td>2</td>\n",
              "      <td>5</td>\n",
              "      <td>16</td>\n",
              "      <td>6</td>\n",
              "      <td>5</td>\n",
              "      <td>8</td>\n",
              "      <td>5</td>\n",
              "      <td>9</td>\n",
              "    </tr>\n",
              "  </tbody>\n",
              "</table>\n",
              "<p>6 rows × 1115 columns</p>\n",
              "</div>\n",
              "      <button class=\"colab-df-convert\" onclick=\"convertToInteractive('df-40f6301b-6b1a-4dd2-b60b-4fefe5aba6ce')\"\n",
              "              title=\"Convert this dataframe to an interactive table.\"\n",
              "              style=\"display:none;\">\n",
              "        \n",
              "  <svg xmlns=\"http://www.w3.org/2000/svg\" height=\"24px\"viewBox=\"0 0 24 24\"\n",
              "       width=\"24px\">\n",
              "    <path d=\"M0 0h24v24H0V0z\" fill=\"none\"/>\n",
              "    <path d=\"M18.56 5.44l.94 2.06.94-2.06 2.06-.94-2.06-.94-.94-2.06-.94 2.06-2.06.94zm-11 1L8.5 8.5l.94-2.06 2.06-.94-2.06-.94L8.5 2.5l-.94 2.06-2.06.94zm10 10l.94 2.06.94-2.06 2.06-.94-2.06-.94-.94-2.06-.94 2.06-2.06.94z\"/><path d=\"M17.41 7.96l-1.37-1.37c-.4-.4-.92-.59-1.43-.59-.52 0-1.04.2-1.43.59L10.3 9.45l-7.72 7.72c-.78.78-.78 2.05 0 2.83L4 21.41c.39.39.9.59 1.41.59.51 0 1.02-.2 1.41-.59l7.78-7.78 2.81-2.81c.8-.78.8-2.07 0-2.86zM5.41 20L4 18.59l7.72-7.72 1.47 1.35L5.41 20z\"/>\n",
              "  </svg>\n",
              "      </button>\n",
              "      \n",
              "  <style>\n",
              "    .colab-df-container {\n",
              "      display:flex;\n",
              "      flex-wrap:wrap;\n",
              "      gap: 12px;\n",
              "    }\n",
              "\n",
              "    .colab-df-convert {\n",
              "      background-color: #E8F0FE;\n",
              "      border: none;\n",
              "      border-radius: 50%;\n",
              "      cursor: pointer;\n",
              "      display: none;\n",
              "      fill: #1967D2;\n",
              "      height: 32px;\n",
              "      padding: 0 0 0 0;\n",
              "      width: 32px;\n",
              "    }\n",
              "\n",
              "    .colab-df-convert:hover {\n",
              "      background-color: #E2EBFA;\n",
              "      box-shadow: 0px 1px 2px rgba(60, 64, 67, 0.3), 0px 1px 3px 1px rgba(60, 64, 67, 0.15);\n",
              "      fill: #174EA6;\n",
              "    }\n",
              "\n",
              "    [theme=dark] .colab-df-convert {\n",
              "      background-color: #3B4455;\n",
              "      fill: #D2E3FC;\n",
              "    }\n",
              "\n",
              "    [theme=dark] .colab-df-convert:hover {\n",
              "      background-color: #434B5C;\n",
              "      box-shadow: 0px 1px 3px 1px rgba(0, 0, 0, 0.15);\n",
              "      filter: drop-shadow(0px 1px 2px rgba(0, 0, 0, 0.3));\n",
              "      fill: #FFFFFF;\n",
              "    }\n",
              "  </style>\n",
              "\n",
              "      <script>\n",
              "        const buttonEl =\n",
              "          document.querySelector('#df-40f6301b-6b1a-4dd2-b60b-4fefe5aba6ce button.colab-df-convert');\n",
              "        buttonEl.style.display =\n",
              "          google.colab.kernel.accessAllowed ? 'block' : 'none';\n",
              "\n",
              "        async function convertToInteractive(key) {\n",
              "          const element = document.querySelector('#df-40f6301b-6b1a-4dd2-b60b-4fefe5aba6ce');\n",
              "          const dataTable =\n",
              "            await google.colab.kernel.invokeFunction('convertToInteractive',\n",
              "                                                     [key], {});\n",
              "          if (!dataTable) return;\n",
              "\n",
              "          const docLinkHtml = 'Like what you see? Visit the ' +\n",
              "            '<a target=\"_blank\" href=https://colab.research.google.com/notebooks/data_table.ipynb>data table notebook</a>'\n",
              "            + ' to learn more about interactive tables.';\n",
              "          element.innerHTML = '';\n",
              "          dataTable['output_type'] = 'display_data';\n",
              "          await google.colab.output.renderOutput(dataTable, element);\n",
              "          const docLink = document.createElement('div');\n",
              "          docLink.innerHTML = docLinkHtml;\n",
              "          element.appendChild(docLink);\n",
              "        }\n",
              "      </script>\n",
              "    </div>\n",
              "  </div>\n",
              "  "
            ]
          },
          "metadata": {},
          "execution_count": 51
        }
      ]
    },
    {
      "cell_type": "code",
      "source": [
        "x_train = train[['Length', 'Punctuation', 'Capitals', 'Words']]\n",
        "y_train = train[['Spam']]\n",
        "x_test = test[['Length', 'Punctuation', 'Capitals', 'Words']]\n",
        "y_test = test[['Spam']]\n",
        "model = make_model(input_dims=4)\n",
        "model.fit(x_train, y_train, epochs=10, batch_size=10)"
      ],
      "metadata": {
        "id": "LLB0XS7YG32F",
        "colab": {
          "base_uri": "https://localhost:8080/"
        },
        "outputId": "c888ebe3-fd3f-4985-bc88-4684380951c0"
      },
      "execution_count": 52,
      "outputs": [
        {
          "output_type": "stream",
          "name": "stdout",
          "text": [
            "Epoch 1/10\n",
            "446/446 [==============================] - 2s 3ms/step - loss: 0.8905 - accuracy: 0.7609\n",
            "Epoch 2/10\n",
            "446/446 [==============================] - 1s 3ms/step - loss: 0.4650 - accuracy: 0.8569\n",
            "Epoch 3/10\n",
            "446/446 [==============================] - 1s 3ms/step - loss: 0.3709 - accuracy: 0.8706\n",
            "Epoch 4/10\n",
            "446/446 [==============================] - 1s 3ms/step - loss: 0.3119 - accuracy: 0.8901\n",
            "Epoch 5/10\n",
            "446/446 [==============================] - 1s 3ms/step - loss: 0.2732 - accuracy: 0.8995\n",
            "Epoch 6/10\n",
            "446/446 [==============================] - 1s 3ms/step - loss: 0.2538 - accuracy: 0.9096\n",
            "Epoch 7/10\n",
            "446/446 [==============================] - 1s 3ms/step - loss: 0.2415 - accuracy: 0.9134\n",
            "Epoch 8/10\n",
            "446/446 [==============================] - 1s 3ms/step - loss: 0.2285 - accuracy: 0.9170\n",
            "Epoch 9/10\n",
            "446/446 [==============================] - 1s 3ms/step - loss: 0.2283 - accuracy: 0.9166\n",
            "Epoch 10/10\n",
            "446/446 [==============================] - 1s 3ms/step - loss: 0.2206 - accuracy: 0.9186\n"
          ]
        },
        {
          "output_type": "execute_result",
          "data": {
            "text/plain": [
              "<keras.callbacks.History at 0x7f7728799a50>"
            ]
          },
          "metadata": {},
          "execution_count": 52
        }
      ]
    },
    {
      "cell_type": "code",
      "source": [
        "model.evaluate(x_train, y_train)"
      ],
      "metadata": {
        "colab": {
          "base_uri": "https://localhost:8080/"
        },
        "id": "c3K_rSfloIPD",
        "outputId": "577e17d1-825d-4d04-a48e-5c6a89c32d4e"
      },
      "execution_count": 55,
      "outputs": [
        {
          "output_type": "stream",
          "name": "stdout",
          "text": [
            "140/140 [==============================] - 0s 2ms/step - loss: 0.2482 - accuracy: 0.9276\n"
          ]
        },
        {
          "output_type": "execute_result",
          "data": {
            "text/plain": [
              "[0.2482335865497589, 0.9275622367858887]"
            ]
          },
          "metadata": {},
          "execution_count": 55
        }
      ]
    },
    {
      "cell_type": "code",
      "source": [
        "model.evaluate(x_test, y_test)"
      ],
      "metadata": {
        "colab": {
          "base_uri": "https://localhost:8080/"
        },
        "id": "L2Rp0f8Vkmqd",
        "outputId": "47825bc1-db62-4a45-f3bd-01b475071bec"
      },
      "execution_count": 56,
      "outputs": [
        {
          "output_type": "stream",
          "name": "stdout",
          "text": [
            "35/35 [==============================] - 0s 4ms/step - loss: 0.2656 - accuracy: 0.9085\n"
          ]
        },
        {
          "output_type": "execute_result",
          "data": {
            "text/plain": [
              "[0.2655699551105499, 0.9085201621055603]"
            ]
          },
          "metadata": {},
          "execution_count": 56
        }
      ]
    },
    {
      "cell_type": "code",
      "source": [
        "#y_train_pred = model.predict_classes(x_train)\n",
        "y_test_pred = (model.predict(x_test) > 0.5).astype(\"int32\")\n",
        "tf.math.confusion_matrix(tf.constant(y_test.Spam), \n",
        "                         y_test_pred)"
      ],
      "metadata": {
        "colab": {
          "base_uri": "https://localhost:8080/"
        },
        "id": "jnpFT8h2koKm",
        "outputId": "95a4b6e6-dddc-497c-c135-a5d96d1b87e9"
      },
      "execution_count": 57,
      "outputs": [
        {
          "output_type": "execute_result",
          "data": {
            "text/plain": [
              "<tf.Tensor: shape=(2, 2), dtype=int32, numpy=\n",
              "array([[891,  69],\n",
              "       [ 33, 122]], dtype=int32)>"
            ]
          },
          "metadata": {},
          "execution_count": 57
        }
      ]
    },
    {
      "cell_type": "code",
      "source": [
        ""
      ],
      "metadata": {
        "id": "GkVagVHyoPTg"
      },
      "execution_count": null,
      "outputs": []
    }
  ]
}